{
 "cells": [
  {
   "cell_type": "code",
   "execution_count": 77,
   "id": "570c1707",
   "metadata": {},
   "outputs": [
    {
     "name": "stderr",
     "output_type": "stream",
     "text": [
      "[nltk_data] Downloading package stopwords to\n",
      "[nltk_data]     C:\\Users\\User\\AppData\\Roaming\\nltk_data...\n",
      "[nltk_data]   Package stopwords is already up-to-date!\n"
     ]
    }
   ],
   "source": [
    "# Dependencies\n",
    "\n",
    "import pickle\n",
    "import pandas as pd\n",
    "import numpy as np\n",
    "import matplotlib.pyplot as plt\n",
    "import seaborn as sns\n",
    "import nltk\n",
    "from nltk.sentiment import SentimentIntensityAnalyzer\n",
    "from tqdm.notebook import tqdm\n",
    "import numpy as np\n",
    "import tensorflow as tf\n",
    "import nltk\n",
    "from collections import Counter\n",
    "import string\n",
    "import itertools\n",
    "nltk.download('stopwords')\n",
    "from nltk.corpus import stopwords\n",
    "stop_words = set(stopwords.words('english'))\n",
    "from nltk import PorterStemmer\n",
    "from nltk.stem.wordnet import WordNetLemmatizer\n",
    "import tensorflow_text as text\n",
    "import tensorflow_hub as hub\n",
    "from sklearn.feature_extraction.text import CountVectorizer, TfidfVectorizer\n",
    "from sklearn.model_selection import train_test_split\n",
    "from sklearn.naive_bayes import MultinomialNB, GaussianNB\n",
    "from sklearn.metrics import accuracy_score, precision_score, recall_score, f1_score\n",
    "import time\n",
    "from tensorflow.keras.preprocessing.sequence import pad_sequences\n",
    "from tensorflow.keras.models import Sequential, Model\n",
    "from tensorflow.keras.layers import GlobalMaxPool1D, BatchNormalization, Dense, RNN, GRU, LSTM, TimeDistributed, Bidirectional, Activation, Embedding, Input, Conv1D, Dropout\n",
    "import tensorflow as tf\n",
    "import keras.backend as K\n",
    "from tensorflow.keras.callbacks import ModelCheckpoint, EarlyStopping\n",
    "from transformers import AutoTokenizer, pipeline\n",
    "from transformers import TFAutoModelForSequenceClassification, TFTrainingArguments, TFTrainer\n",
    "from scipy.special import softmax\n",
    "from datasets import DatasetDict, Dataset\n",
    "from tensorflow.keras import mixed_precision\n",
    "from tensorflow.keras.utils import to_categorical\n",
    "from transformers import DistilBertTokenizerFast, TFDistilBertForSequenceClassification\n",
    "import re\n",
    "import fasttext\n",
    "\n",
    "plt.style.use('ggplot')\n",
    "\n",
    "# Define mixed precision policy\n",
    "policy = mixed_precision.Policy('mixed_float16')\n",
    "mixed_precision.set_global_policy(policy)"
   ]
  },
  {
   "cell_type": "code",
   "execution_count": 14,
   "id": "e64bd340",
   "metadata": {},
   "outputs": [
    {
     "data": {
      "text/html": [
       "<div>\n",
       "<style scoped>\n",
       "    .dataframe tbody tr th:only-of-type {\n",
       "        vertical-align: middle;\n",
       "    }\n",
       "\n",
       "    .dataframe tbody tr th {\n",
       "        vertical-align: top;\n",
       "    }\n",
       "\n",
       "    .dataframe thead th {\n",
       "        text-align: right;\n",
       "    }\n",
       "</style>\n",
       "<table border=\"1\" class=\"dataframe\">\n",
       "  <thead>\n",
       "    <tr style=\"text-align: right;\">\n",
       "      <th></th>\n",
       "      <th>Text</th>\n",
       "      <th>Label</th>\n",
       "      <th>Id</th>\n",
       "    </tr>\n",
       "  </thead>\n",
       "  <tbody>\n",
       "    <tr>\n",
       "      <th>0</th>\n",
       "      <td>My wife took me here on my birthday for breakf...</td>\n",
       "      <td>1</td>\n",
       "      <td>1</td>\n",
       "    </tr>\n",
       "    <tr>\n",
       "      <th>1</th>\n",
       "      <td>I have no idea why some people give bad review...</td>\n",
       "      <td>1</td>\n",
       "      <td>2</td>\n",
       "    </tr>\n",
       "    <tr>\n",
       "      <th>2</th>\n",
       "      <td>love the gyro plate. Rice is so good and I als...</td>\n",
       "      <td>1</td>\n",
       "      <td>3</td>\n",
       "    </tr>\n",
       "    <tr>\n",
       "      <th>3</th>\n",
       "      <td>Rosie, Dakota, and I LOVE Chaparral Dog Park!!...</td>\n",
       "      <td>1</td>\n",
       "      <td>4</td>\n",
       "    </tr>\n",
       "    <tr>\n",
       "      <th>4</th>\n",
       "      <td>General Manager Scott Petello is a good egg!!!...</td>\n",
       "      <td>1</td>\n",
       "      <td>5</td>\n",
       "    </tr>\n",
       "  </tbody>\n",
       "</table>\n",
       "</div>"
      ],
      "text/plain": [
       "                                                Text  Label  Id\n",
       "0  My wife took me here on my birthday for breakf...      1   1\n",
       "1  I have no idea why some people give bad review...      1   2\n",
       "2  love the gyro plate. Rice is so good and I als...      1   3\n",
       "3  Rosie, Dakota, and I LOVE Chaparral Dog Park!!...      1   4\n",
       "4  General Manager Scott Petello is a good egg!!!...      1   5"
      ]
     },
     "execution_count": 14,
     "metadata": {},
     "output_type": "execute_result"
    }
   ],
   "source": [
    "# Data read and formatting\n",
    "df = pd.read_csv('yelp.csv')\n",
    "df = df.drop(['business_id', 'date', 'review_id', 'type', 'user_id', 'useful', 'funny', 'cool'], axis = 1)\n",
    "df['Label'] = np.where(df['stars'] >= 3, 1, 0)\n",
    "df['Id'] = range(1,len(df)+1)\n",
    "df = df.drop('stars', axis = 1)\n",
    "df.columns = ['Text', 'Label', 'Id']\n",
    "df.head()"
   ]
  },
  {
   "cell_type": "code",
   "execution_count": 15,
   "id": "6c262ad3",
   "metadata": {},
   "outputs": [
    {
     "name": "stdout",
     "output_type": "stream",
     "text": [
      "Empty indices: []\n"
     ]
    }
   ],
   "source": [
    "# Remove punctuation\n",
    "translator = str.maketrans('', '', string.punctuation)\n",
    "reviews = [s.translate(translator) for s in list(df['Text'])]\n",
    "reviews = [review.replace('\\n', ' ') for review in reviews]\n",
    "\n",
    "# Tokenization, Lemmatization, Stemming, Stopwords. Label numerical encoding\n",
    "reviews_tokenized = []\n",
    "reviews_tokenized_joined = []\n",
    "for review in reviews:\n",
    "  splitted_review = nltk.word_tokenize(review)\n",
    "  splitted_review = [word for word in splitted_review if word not in stop_words]\n",
    "  splitted_review = [WordNetLemmatizer().lemmatize(w) for w in splitted_review]\n",
    "  splitted_review = [PorterStemmer().stem(w).strip() for w in splitted_review]\n",
    "  reviews_tokenized.append(splitted_review)\n",
    "  joined_review = ' '.join(splitted_review)\n",
    "  reviews_tokenized_joined.append(joined_review)\n",
    "  \n",
    "# Remove empty reviews and the corresponding labels\n",
    "empty_idx = []\n",
    "for i, review in enumerate(reviews_tokenized):\n",
    "  if len(review) == 0:\n",
    "    empty_idx.append(i)\n",
    "\n",
    "print(f'Empty indices: {empty_idx}')\n",
    "labels = list(df['Label'])\n",
    "\n",
    "for i in empty_idx:\n",
    "  reviews_tokenized.pop(i)\n",
    "  reviews_tokenized_joined.pop(i)\n",
    "  reviews.pop(i)\n",
    "  labels.pop(i)\n",
    "  \n",
    "reviews_unrolled = list(itertools.chain(*reviews_tokenized))"
   ]
  },
  {
   "cell_type": "markdown",
   "id": "9de8476a",
   "metadata": {},
   "source": [
    "### Part 1. Multinomial Naive Bayes with Count Vectorizer"
   ]
  },
  {
   "cell_type": "code",
   "execution_count": 24,
   "id": "f6694658",
   "metadata": {},
   "outputs": [
    {
     "name": "stdout",
     "output_type": "stream",
     "text": [
      "MultinomialNB CountVectorizer Training time: 0.35 seconds\n",
      "MultinomialNB CountVectorizer Accuracy score:  0.872\n",
      "MultinomialNB CountVectorizer Precision score:  0.8908587257617728\n",
      "MultinomialNB CountVectorizer Recall score:  0.9646070785842832\n",
      "MultinomialNB CountVectorizer F1 score:  0.9262672811059908\n"
     ]
    }
   ],
   "source": [
    "# Train test split\n",
    "X_train, X_test, y_train, y_test = train_test_split(reviews_tokenized_joined, labels, test_size = 0.2, random_state = 1)\n",
    "\n",
    "MultinomialNB_CountVectorizer_start_time = time.time()\n",
    "\n",
    "# Count vectorizer feature transformation\n",
    "count_vector = CountVectorizer(stop_words = 'english', binary = False)\n",
    "\n",
    "training_data = count_vector.fit_transform(X_train)\n",
    "test_data = count_vector.transform(X_test)\n",
    "\n",
    "# Multinomial Naive Bayes model predictions\n",
    "naive_bayes = MultinomialNB()\n",
    "naive_bayes.fit(training_data, y_train)\n",
    "\n",
    "MultinomialNB_CountVectorizer_predictions = naive_bayes.predict(test_data)\n",
    "\n",
    "MultinomialNB_CountVectorizer_end_time = time.time()\n",
    "MultinomialNB_CountVectorizer_execution_time = MultinomialNB_CountVectorizer_end_time - MultinomialNB_CountVectorizer_start_time\n",
    "\n",
    "# Model evaluation\n",
    "print('MultinomialNB CountVectorizer Training time: {} seconds'. format(round(MultinomialNB_CountVectorizer_execution_time, 2)))\n",
    "print('MultinomialNB CountVectorizer Accuracy score: ', format(accuracy_score(y_test, MultinomialNB_CountVectorizer_predictions)))\n",
    "print('MultinomialNB CountVectorizer Precision score: ', format(precision_score(y_test, MultinomialNB_CountVectorizer_predictions)))\n",
    "print('MultinomialNB CountVectorizer Recall score: ', format(recall_score(y_test, MultinomialNB_CountVectorizer_predictions)))\n",
    "print('MultinomialNB CountVectorizer F1 score: ', format(f1_score(y_test, MultinomialNB_CountVectorizer_predictions)))\n",
    "\n",
    "# Model evaluation dictionary\n",
    "MultinomialNB_CountVectorizer_results = {'Name': \"MultinomialNB CountVectorizer\", \n",
    "                                         \"Training Time\": round(MultinomialNB_CountVectorizer_execution_time, 2),\n",
    "                                         \"Accuracy score\": accuracy_score(y_test, MultinomialNB_CountVectorizer_predictions),\n",
    "                                         \"Precision score\": precision_score(y_test, MultinomialNB_CountVectorizer_predictions),\n",
    "                                         \"Recall score\": recall_score(y_test, MultinomialNB_CountVectorizer_predictions),\n",
    "                                         \"F1 score\": f1_score(y_test, MultinomialNB_CountVectorizer_predictions)}"
   ]
  },
  {
   "cell_type": "code",
   "execution_count": 25,
   "id": "76fff507",
   "metadata": {},
   "outputs": [],
   "source": [
    "# Write the results into a pickle file\n",
    "filename = 'results_dict_list_yelp.pickle'\n",
    "\n",
    "results_dict_list = [MultinomialNB_CountVectorizer_results]\n",
    "\n",
    "with open(filename, 'wb') as f:\n",
    "    pickle.dump(results_dict_list, f)  "
   ]
  },
  {
   "cell_type": "markdown",
   "id": "e3f9a6a9",
   "metadata": {},
   "source": [
    "### Part 2. Multinomial Naive Bayes with TF-IDF"
   ]
  },
  {
   "cell_type": "code",
   "execution_count": 26,
   "id": "6c5a8431",
   "metadata": {},
   "outputs": [
    {
     "name": "stdout",
     "output_type": "stream",
     "text": [
      "MultinomialNB tfidf Training time: 0.37 seconds\n",
      "MultinomialNB tfidf Accuracy score:  0.834\n",
      "MultinomialNB tfidf Precision score:  0.8339169584792396\n",
      "MultinomialNB tfidf Recall score:  1.0\n",
      "MultinomialNB tfidf F1 score:  0.9094380796508457\n"
     ]
    }
   ],
   "source": [
    "# Train test split\n",
    "X_train, X_test, y_train, y_test = train_test_split(reviews_tokenized_joined, labels, test_size = 0.2, random_state = 1)\n",
    "\n",
    "MultinomialNB_tfidf_start_time = time.time()\n",
    "\n",
    "# TF-IDF feature transformation\n",
    "tfidf = TfidfVectorizer(stop_words = 'english', binary = False)\n",
    "\n",
    "training_data = tfidf.fit_transform(X_train)\n",
    "test_data = tfidf.transform(X_test)\n",
    "\n",
    "# Multinomial Naive Bayes model predictions\n",
    "naive_bayes = MultinomialNB()\n",
    "naive_bayes.fit(training_data, y_train)\n",
    "\n",
    "MultinomialNB_tfidf_predictions = naive_bayes.predict(test_data)\n",
    "\n",
    "MultinomialNB_tfidf_end_time = time.time()\n",
    "MultinomialNB_tfidf_execution_time = MultinomialNB_tfidf_end_time - MultinomialNB_tfidf_start_time\n",
    "\n",
    "# Model evaluation\n",
    "print('MultinomialNB tfidf Training time: {} seconds'. format(round(MultinomialNB_tfidf_execution_time, 2)))\n",
    "print('MultinomialNB tfidf Accuracy score: ', format(accuracy_score(y_test, MultinomialNB_tfidf_predictions)))\n",
    "print('MultinomialNB tfidf Precision score: ', format(precision_score(y_test, MultinomialNB_tfidf_predictions)))\n",
    "print('MultinomialNB tfidf Recall score: ', format(recall_score(y_test, MultinomialNB_tfidf_predictions)))\n",
    "print('MultinomialNB tfidf F1 score: ', format(f1_score(y_test, MultinomialNB_tfidf_predictions)))\n",
    "\n",
    "# Model evaluation dictionary\n",
    "MultinomialNB_tfidf_results = {'Name': \"MultinomialNB tfidf\", \n",
    "                                         \"Training Time\": round(MultinomialNB_tfidf_execution_time, 2),\n",
    "                                         \"Accuracy score\": accuracy_score(y_test, MultinomialNB_tfidf_predictions),\n",
    "                                         \"Precision score\": precision_score(y_test, MultinomialNB_tfidf_predictions),\n",
    "                                         \"Recall score\": recall_score(y_test, MultinomialNB_tfidf_predictions),\n",
    "                                         \"F1 score\": f1_score(y_test, MultinomialNB_tfidf_predictions)}"
   ]
  },
  {
   "cell_type": "code",
   "execution_count": 27,
   "id": "463af0fb",
   "metadata": {},
   "outputs": [],
   "source": [
    "# Update the results pickle file\n",
    "def update_the_results_file(model_name, filename=filename):\n",
    "  with open(filename, 'rb') as f:\n",
    "    results_dict_list = pickle.load(f)\n",
    "    \n",
    "  results_dict_list.append(model_name)\n",
    "\n",
    "  with open(filename, 'wb') as f:\n",
    "      pickle.dump(results_dict_list, f)\n",
    "      \n",
    "update_the_results_file(model_name = MultinomialNB_tfidf_results)"
   ]
  },
  {
   "cell_type": "markdown",
   "id": "0d94b826",
   "metadata": {},
   "source": [
    "### Part 3. Vaders sentiment classifier"
   ]
  },
  {
   "cell_type": "markdown",
   "id": "45245ff2",
   "metadata": {},
   "source": [
    "#### Extra preprocessing step"
   ]
  },
  {
   "cell_type": "code",
   "execution_count": 28,
   "id": "ff1a6476",
   "metadata": {},
   "outputs": [
    {
     "data": {
      "text/html": [
       "<div>\n",
       "<style scoped>\n",
       "    .dataframe tbody tr th:only-of-type {\n",
       "        vertical-align: middle;\n",
       "    }\n",
       "\n",
       "    .dataframe tbody tr th {\n",
       "        vertical-align: top;\n",
       "    }\n",
       "\n",
       "    .dataframe thead th {\n",
       "        text-align: right;\n",
       "    }\n",
       "</style>\n",
       "<table border=\"1\" class=\"dataframe\">\n",
       "  <thead>\n",
       "    <tr style=\"text-align: right;\">\n",
       "      <th></th>\n",
       "      <th>Id</th>\n",
       "      <th>Text</th>\n",
       "      <th>Label</th>\n",
       "    </tr>\n",
       "  </thead>\n",
       "  <tbody>\n",
       "    <tr>\n",
       "      <th>0</th>\n",
       "      <td>1</td>\n",
       "      <td>My wife took me here on my birthday for breakf...</td>\n",
       "      <td>1</td>\n",
       "    </tr>\n",
       "    <tr>\n",
       "      <th>1</th>\n",
       "      <td>2</td>\n",
       "      <td>I have no idea why some people give bad review...</td>\n",
       "      <td>1</td>\n",
       "    </tr>\n",
       "    <tr>\n",
       "      <th>2</th>\n",
       "      <td>3</td>\n",
       "      <td>love the gyro plate Rice is so good and I also...</td>\n",
       "      <td>1</td>\n",
       "    </tr>\n",
       "    <tr>\n",
       "      <th>3</th>\n",
       "      <td>4</td>\n",
       "      <td>Rosie Dakota and I LOVE Chaparral Dog Park Its...</td>\n",
       "      <td>1</td>\n",
       "    </tr>\n",
       "    <tr>\n",
       "      <th>4</th>\n",
       "      <td>5</td>\n",
       "      <td>General Manager Scott Petello is a good egg No...</td>\n",
       "      <td>1</td>\n",
       "    </tr>\n",
       "  </tbody>\n",
       "</table>\n",
       "</div>"
      ],
      "text/plain": [
       "   Id                                               Text  Label\n",
       "0   1  My wife took me here on my birthday for breakf...      1\n",
       "1   2  I have no idea why some people give bad review...      1\n",
       "2   3  love the gyro plate Rice is so good and I also...      1\n",
       "3   4  Rosie Dakota and I LOVE Chaparral Dog Park Its...      1\n",
       "4   5  General Manager Scott Petello is a good egg No...      1"
      ]
     },
     "execution_count": 28,
     "metadata": {},
     "output_type": "execute_result"
    }
   ],
   "source": [
    "# Create dataframe for convenience\n",
    "df = pd.DataFrame({'Text': reviews, 'Label': labels})\n",
    "df = df.reset_index()\n",
    "df['Id'] = df['index'] + 1\n",
    "df.drop('index', axis = 1, inplace = True)\n",
    "df = df[['Id', 'Text', 'Label']]\n",
    "df.head()"
   ]
  },
  {
   "cell_type": "code",
   "execution_count": 29,
   "id": "5f5d23db",
   "metadata": {},
   "outputs": [
    {
     "data": {
      "application/vnd.jupyter.widget-view+json": {
       "model_id": "07617a243c4b44f282cc525e8d4c8d6b",
       "version_major": 2,
       "version_minor": 0
      },
      "text/plain": [
       "  0%|          | 0/10000 [00:00<?, ?it/s]"
      ]
     },
     "metadata": {},
     "output_type": "display_data"
    },
    {
     "data": {
      "text/html": [
       "<div>\n",
       "<style scoped>\n",
       "    .dataframe tbody tr th:only-of-type {\n",
       "        vertical-align: middle;\n",
       "    }\n",
       "\n",
       "    .dataframe tbody tr th {\n",
       "        vertical-align: top;\n",
       "    }\n",
       "\n",
       "    .dataframe thead th {\n",
       "        text-align: right;\n",
       "    }\n",
       "</style>\n",
       "<table border=\"1\" class=\"dataframe\">\n",
       "  <thead>\n",
       "    <tr style=\"text-align: right;\">\n",
       "      <th></th>\n",
       "      <th>Id</th>\n",
       "      <th>neg</th>\n",
       "      <th>neu</th>\n",
       "      <th>pos</th>\n",
       "      <th>compound</th>\n",
       "      <th>Text</th>\n",
       "      <th>Label</th>\n",
       "      <th>Predicted_Label</th>\n",
       "    </tr>\n",
       "  </thead>\n",
       "  <tbody>\n",
       "    <tr>\n",
       "      <th>0</th>\n",
       "      <td>1</td>\n",
       "      <td>0.015</td>\n",
       "      <td>0.688</td>\n",
       "      <td>0.297</td>\n",
       "      <td>0.9950</td>\n",
       "      <td>My wife took me here on my birthday for breakf...</td>\n",
       "      <td>1</td>\n",
       "      <td>1</td>\n",
       "    </tr>\n",
       "    <tr>\n",
       "      <th>1</th>\n",
       "      <td>2</td>\n",
       "      <td>0.048</td>\n",
       "      <td>0.736</td>\n",
       "      <td>0.215</td>\n",
       "      <td>0.9945</td>\n",
       "      <td>I have no idea why some people give bad review...</td>\n",
       "      <td>1</td>\n",
       "      <td>1</td>\n",
       "    </tr>\n",
       "    <tr>\n",
       "      <th>2</th>\n",
       "      <td>3</td>\n",
       "      <td>0.000</td>\n",
       "      <td>0.602</td>\n",
       "      <td>0.398</td>\n",
       "      <td>0.8377</td>\n",
       "      <td>love the gyro plate Rice is so good and I also...</td>\n",
       "      <td>1</td>\n",
       "      <td>1</td>\n",
       "    </tr>\n",
       "    <tr>\n",
       "      <th>3</th>\n",
       "      <td>4</td>\n",
       "      <td>0.000</td>\n",
       "      <td>0.805</td>\n",
       "      <td>0.195</td>\n",
       "      <td>0.9436</td>\n",
       "      <td>Rosie Dakota and I LOVE Chaparral Dog Park Its...</td>\n",
       "      <td>1</td>\n",
       "      <td>1</td>\n",
       "    </tr>\n",
       "    <tr>\n",
       "      <th>4</th>\n",
       "      <td>5</td>\n",
       "      <td>0.031</td>\n",
       "      <td>0.648</td>\n",
       "      <td>0.321</td>\n",
       "      <td>0.9848</td>\n",
       "      <td>General Manager Scott Petello is a good egg No...</td>\n",
       "      <td>1</td>\n",
       "      <td>1</td>\n",
       "    </tr>\n",
       "  </tbody>\n",
       "</table>\n",
       "</div>"
      ],
      "text/plain": [
       "   Id    neg    neu    pos  compound  \\\n",
       "0   1  0.015  0.688  0.297    0.9950   \n",
       "1   2  0.048  0.736  0.215    0.9945   \n",
       "2   3  0.000  0.602  0.398    0.8377   \n",
       "3   4  0.000  0.805  0.195    0.9436   \n",
       "4   5  0.031  0.648  0.321    0.9848   \n",
       "\n",
       "                                                Text  Label  Predicted_Label  \n",
       "0  My wife took me here on my birthday for breakf...      1                1  \n",
       "1  I have no idea why some people give bad review...      1                1  \n",
       "2  love the gyro plate Rice is so good and I also...      1                1  \n",
       "3  Rosie Dakota and I LOVE Chaparral Dog Park Its...      1                1  \n",
       "4  General Manager Scott Petello is a good egg No...      1                1  "
      ]
     },
     "execution_count": 29,
     "metadata": {},
     "output_type": "execute_result"
    }
   ],
   "source": [
    "vader_start_time = time.time()\n",
    "\n",
    "# Define Vader Sentiment analyzer model\n",
    "sia = SentimentIntensityAnalyzer()\n",
    "\n",
    "# Get the results\n",
    "res = {}\n",
    "for i, row in tqdm(df.iterrows(), total = len(df)):\n",
    "  text = row['Text']\n",
    "  myid = row['Id']\n",
    "  res[myid] = sia.polarity_scores(text)\n",
    "  \n",
    "vaders = pd.DataFrame(res).T\n",
    "vaders = vaders.reset_index().rename(columns = {'index': 'Id'})\n",
    "vaders = vaders.merge(df, how = 'left')\n",
    "vaders['Predicted_Label'] = np.where(vaders['compound'] >= 0, 1, 0)\n",
    "\n",
    "vader_end_time = time.time()\n",
    "vader_execution_time = vader_end_time - vader_start_time\n",
    "\n",
    "vaders.head()"
   ]
  },
  {
   "cell_type": "code",
   "execution_count": 30,
   "id": "8e9af43e",
   "metadata": {},
   "outputs": [
    {
     "name": "stdout",
     "output_type": "stream",
     "text": [
      "Vader Training time: 8.74 seconds\n",
      "Vader Accuracy score:  0.8689\n",
      "Vader Precision score:  0.8883597297596633\n",
      "Vader Recall score:  0.9635992311388756\n",
      "Vader F1 score:  0.9244511035555812\n"
     ]
    }
   ],
   "source": [
    "# Model evaluation\n",
    "print('Vader Training time: {} seconds'. format(round(vader_execution_time, 2)))\n",
    "print('Vader Accuracy score: ', format(accuracy_score(vaders['Label'], vaders['Predicted_Label'])))\n",
    "print('Vader Precision score: ', format(precision_score(vaders['Label'], vaders['Predicted_Label'])))\n",
    "print('Vader Recall score: ', format(recall_score(vaders['Label'], vaders['Predicted_Label'])))\n",
    "print('Vader F1 score: ', format(f1_score(vaders['Label'], vaders['Predicted_Label'])))\n",
    "\n",
    "# Model evaluation dictionary\n",
    "vader_results = {'Name': \"Vaders Analyser\", \n",
    "                                         \"Training Time\": round(vader_execution_time, 2),\n",
    "                                         \"Accuracy score\": accuracy_score(vaders['Label'], vaders['Predicted_Label']),\n",
    "                                         \"Precision score\": precision_score(vaders['Label'], vaders['Predicted_Label']),\n",
    "                                         \"Recall score\": recall_score(vaders['Label'], vaders['Predicted_Label']),\n",
    "                                         \"F1 score\": f1_score(vaders['Label'], vaders['Predicted_Label'])}"
   ]
  },
  {
   "cell_type": "code",
   "execution_count": 31,
   "id": "aa6aab5a",
   "metadata": {},
   "outputs": [],
   "source": [
    "update_the_results_file(model_name = vader_results)"
   ]
  },
  {
   "cell_type": "markdown",
   "id": "8e1e8b27",
   "metadata": {},
   "source": [
    "### Part 4. RNN manual implementation"
   ]
  },
  {
   "cell_type": "code",
   "execution_count": 34,
   "id": "a157ccec",
   "metadata": {},
   "outputs": [],
   "source": [
    "# Create vocabulary, word2index reference and convert the reviews into numerical form\n",
    "vocab_size = 10000\n",
    "\n",
    "word_counter = Counter(reviews_unrolled)\n",
    "word_counter = dict(word_counter.most_common(vocab_size))\n",
    "word2index = {k:i for i,k in enumerate(word_counter.keys(), start = 3)}\n",
    "\n",
    "# Convert reveies to integers\n",
    "reviews_int = []\n",
    "for review in reviews_tokenized:\n",
    "  cur_review = [1]\n",
    "  for word in review:\n",
    "    if word in word2index.keys():\n",
    "      cur_review.append(word2index[word])\n",
    "    else:\n",
    "      cur_review.append(2)\n",
    "  reviews_int.append(cur_review)\n",
    "  \n",
    "# Pad sequences\n",
    "padded_reviews = pad_sequences(reviews_int, maxlen = 500, padding = 'pre', truncating = 'pre')\n",
    "\n",
    "# Train test split on padded sequences\n",
    "X_train, X_test, y_train, y_test = train_test_split(padded_reviews, labels, test_size = 0.2, random_state = 1)\n",
    "\n",
    "X_train = np.array(X_train).reshape(8000, 500)\n",
    "X_test = np.array(X_test).reshape(2000, 500)\n",
    "\n",
    "y_train = np.array(y_train).reshape(8000, 1)\n",
    "y_test = np.array(y_test).reshape(2000, 1)"
   ]
  },
  {
   "cell_type": "code",
   "execution_count": 37,
   "id": "6dce48f9",
   "metadata": {},
   "outputs": [
    {
     "name": "stdout",
     "output_type": "stream",
     "text": [
      "Model: \"model_1\"\n",
      "_________________________________________________________________\n",
      " Layer (type)                Output Shape              Param #   \n",
      "=================================================================\n",
      " input_2 (InputLayer)        [(None, 500)]             0         \n",
      "                                                                 \n",
      " embedding_1 (Embedding)     (None, 500, 128)          1280000   \n",
      "                                                                 \n",
      " conv1d_1 (Conv1D)           (None, 500, 200)          333000    \n",
      "                                                                 \n",
      " batch_normalization_3 (Batc  (None, 500, 200)         800       \n",
      " hNormalization)                                                 \n",
      "                                                                 \n",
      " dropout_4 (Dropout)         (None, 500, 200)          0         \n",
      "                                                                 \n",
      " gru_2 (GRU)                 (None, 500, 128)          126720    \n",
      "                                                                 \n",
      " batch_normalization_4 (Batc  (None, 500, 128)         512       \n",
      " hNormalization)                                                 \n",
      "                                                                 \n",
      " dropout_5 (Dropout)         (None, 500, 128)          0         \n",
      "                                                                 \n",
      " gru_3 (GRU)                 (None, 128)               99072     \n",
      "                                                                 \n",
      " batch_normalization_5 (Batc  (None, 128)              512       \n",
      " hNormalization)                                                 \n",
      "                                                                 \n",
      " dropout_6 (Dropout)         (None, 128)               0         \n",
      "                                                                 \n",
      " dense_2 (Dense)             (None, 512)               66048     \n",
      "                                                                 \n",
      " dropout_7 (Dropout)         (None, 512)               0         \n",
      "                                                                 \n",
      " dense_3 (Dense)             (None, 1)                 513       \n",
      "                                                                 \n",
      "=================================================================\n",
      "Total params: 1,907,177\n",
      "Trainable params: 1,906,265\n",
      "Non-trainable params: 912\n",
      "_________________________________________________________________\n"
     ]
    }
   ],
   "source": [
    "# Define the model\n",
    "dropout_rate = 0.5\n",
    "\n",
    "# Model checkpoint callback\n",
    "checkpoint = ModelCheckpoint(filepath='best_RNN_manual_model_amazon.h5', \n",
    "                             monitor='val_loss', \n",
    "                             save_best_only=True,\n",
    "                             save_weights_only=False,\n",
    "                             mode='auto')\n",
    "\n",
    "# Early stopping callback\n",
    "early_stop = EarlyStopping(monitor='val_loss', \n",
    "                           patience=3, \n",
    "                           verbose=1, \n",
    "                           restore_best_weights=True)\n",
    "\n",
    "inputs = Input(shape = (X_train.shape[1:]))\n",
    "mask = tf.keras.layers.Lambda(lambda inputs: K.not_equal(inputs, 0))(inputs)\n",
    "x = Embedding(input_dim = vocab_size, output_dim = 128, input_length = 200)(inputs)\n",
    "x = Conv1D(filters = 200, kernel_size = 13, strides = 1, padding = 'same', activation = 'relu')(x)\n",
    "x = BatchNormalization()(x)\n",
    "x = Dropout(dropout_rate)(x)\n",
    "x = GRU(128, return_sequences = True)(x)\n",
    "x = BatchNormalization()(x)\n",
    "x = Dropout(dropout_rate)(x)\n",
    "x = GRU(128, return_sequences = False)(x)\n",
    "x = BatchNormalization()(x)\n",
    "x = Dropout(dropout_rate)(x)\n",
    "x = Dense(512, activation = 'relu')(x)\n",
    "x = Dropout(dropout_rate)(x)\n",
    "outputs = Dense(1, activation = 'sigmoid')(x)\n",
    "\n",
    "model = Model(inputs = inputs, outputs = outputs)\n",
    "\n",
    "model.compile(optimizer = tf.keras.optimizers.Adam(learning_rate = 0.001), loss = 'binary_crossentropy', metrics = ['accuracy'])\n",
    "\n",
    "# Print model summary\n",
    "model.summary()"
   ]
  },
  {
   "cell_type": "code",
   "execution_count": 38,
   "id": "f1ee8e59",
   "metadata": {},
   "outputs": [
    {
     "name": "stdout",
     "output_type": "stream",
     "text": [
      "Epoch 1/10\n",
      "63/63 [==============================] - 33s 88ms/step - loss: 0.5437 - accuracy: 0.7969 - val_loss: 0.6207 - val_accuracy: 0.8335\n",
      "Epoch 2/10\n",
      "63/63 [==============================] - 5s 78ms/step - loss: 0.4992 - accuracy: 0.8176 - val_loss: 0.5380 - val_accuracy: 0.8335\n",
      "Epoch 3/10\n",
      "63/63 [==============================] - 5s 76ms/step - loss: 0.4708 - accuracy: 0.8235 - val_loss: 0.5384 - val_accuracy: 0.8340\n",
      "Epoch 4/10\n",
      "63/63 [==============================] - 5s 77ms/step - loss: 0.2984 - accuracy: 0.8776 - val_loss: 0.3390 - val_accuracy: 0.8560\n",
      "Epoch 5/10\n",
      "63/63 [==============================] - 5s 77ms/step - loss: 0.1657 - accuracy: 0.9364 - val_loss: 0.3077 - val_accuracy: 0.8695\n",
      "Epoch 6/10\n",
      "63/63 [==============================] - 5s 74ms/step - loss: 0.0993 - accuracy: 0.9641 - val_loss: 0.3990 - val_accuracy: 0.8345\n",
      "Epoch 7/10\n",
      "63/63 [==============================] - 5s 75ms/step - loss: 0.0588 - accuracy: 0.9783 - val_loss: 1.0556 - val_accuracy: 0.7105\n",
      "Epoch 8/10\n",
      "62/63 [============================>.] - ETA: 0s - loss: 0.0431 - accuracy: 0.9859Restoring model weights from the end of the best epoch: 5.\n",
      "63/63 [==============================] - 5s 76ms/step - loss: 0.0436 - accuracy: 0.9856 - val_loss: 0.8560 - val_accuracy: 0.7875\n",
      "Epoch 8: early stopping\n"
     ]
    }
   ],
   "source": [
    "# Train the model\n",
    "Manual_RNN_start_time = time.time()\n",
    "\n",
    "history = model.fit(X_train, y_train, epochs = 10, batch_size = 128, validation_data = (X_test, y_test), callbacks = [checkpoint, early_stop])\n",
    "\n",
    "Manual_RNN_end_time = time.time()\n",
    "Manual_RNN_execution_time = Manual_RNN_end_time - Manual_RNN_start_time"
   ]
  },
  {
   "cell_type": "code",
   "execution_count": 39,
   "id": "c19c9f96",
   "metadata": {},
   "outputs": [
    {
     "name": "stdout",
     "output_type": "stream",
     "text": [
      "63/63 [==============================] - 2s 18ms/step\n",
      "Manual RNN Training time: 67.21 seconds\n",
      "Manual RNN Accuracy score:  0.8695\n",
      "Manual RNN Precision score:  0.9149940968122786\n",
      "Manual RNN Recall score:  0.9298140371925615\n",
      "Manual RNN F1 score:  0.9223445403153824\n"
     ]
    }
   ],
   "source": [
    "# Model predictions\n",
    "Manual_RNN_predictions = model.predict(X_test)\n",
    "\n",
    "Manual_RNN_predictions_results = []\n",
    "for i in Manual_RNN_predictions:\n",
    "  if i[0] >= 0.5:\n",
    "    Manual_RNN_predictions_results.append(1)\n",
    "  else:\n",
    "    Manual_RNN_predictions_results.append(0)\n",
    "\n",
    "# Model evaluation\n",
    "print('Manual RNN Training time: {} seconds'. format(round(Manual_RNN_execution_time, 2)))\n",
    "print('Manual RNN Accuracy score: ', format(accuracy_score(y_test, Manual_RNN_predictions_results)))\n",
    "print('Manual RNN Precision score: ', format(precision_score(y_test, Manual_RNN_predictions_results)))\n",
    "print('Manual RNN Recall score: ', format(recall_score(y_test, Manual_RNN_predictions_results)))\n",
    "print('Manual RNN F1 score: ', format(f1_score(y_test, Manual_RNN_predictions_results)))\n",
    "\n",
    "# Model evaluation dictionary\n",
    "Manual_RNN_results = {'Name': \"Manual RNN\", \n",
    "                 \"Training Time\": round(Manual_RNN_execution_time, 2),\n",
    "                 \"Accuracy score\": accuracy_score(y_test, Manual_RNN_predictions_results),\n",
    "                 \"Precision score\": precision_score(y_test, Manual_RNN_predictions_results),\n",
    "                 \"Recall score\": recall_score(y_test, Manual_RNN_predictions_results),\n",
    "                 \"F1 score\": f1_score(y_test, Manual_RNN_predictions_results)}"
   ]
  },
  {
   "cell_type": "code",
   "execution_count": 40,
   "id": "5d13ab59",
   "metadata": {},
   "outputs": [],
   "source": [
    "update_the_results_file(Manual_RNN_results)"
   ]
  },
  {
   "cell_type": "markdown",
   "id": "715156c1",
   "metadata": {},
   "source": [
    "### Part 5. Universal Sentence encoder transfer learning"
   ]
  },
  {
   "cell_type": "code",
   "execution_count": 44,
   "id": "6337c450",
   "metadata": {},
   "outputs": [],
   "source": [
    "# Train test split\n",
    "X_train, X_test, y_train, y_test = train_test_split(reviews, labels, test_size = 0.2, random_state = 1)\n",
    "\n",
    "X_train = np.array(X_train)\n",
    "X_test = np.array(X_test)\n",
    "\n",
    "y_train = np.array(y_train).reshape(8000, 1)\n",
    "y_test = np.array(y_test).reshape(2000, 1)"
   ]
  },
  {
   "cell_type": "code",
   "execution_count": 46,
   "id": "e2154b12",
   "metadata": {},
   "outputs": [
    {
     "name": "stdout",
     "output_type": "stream",
     "text": [
      "WARNING:tensorflow:Please fix your imports. Module tensorflow.python.training.tracking.data_structures has been moved to tensorflow.python.trackable.data_structures. The old module will be deleted in version 2.11.\n",
      "Model: \"sequential\"\n",
      "_________________________________________________________________\n",
      " Layer (type)                Output Shape              Param #   \n",
      "=================================================================\n",
      " keras_layer (KerasLayer)    (None, 512)               256797824 \n",
      "                                                                 \n",
      " dense_4 (Dense)             (None, 1024)              525312    \n",
      "                                                                 \n",
      " dense_5 (Dense)             (None, 1024)              1049600   \n",
      "                                                                 \n",
      " dense_6 (Dense)             (None, 1)                 1025      \n",
      "                                                                 \n",
      "=================================================================\n",
      "Total params: 258,373,761\n",
      "Trainable params: 1,575,937\n",
      "Non-trainable params: 256,797,824\n",
      "_________________________________________________________________\n"
     ]
    }
   ],
   "source": [
    "# Download the Universal Sentence encoder layer for transfer learning\n",
    "sentence_encoder_layer = hub.KerasLayer('https://tfhub.dev/google/universal-sentence-encoder/4',\n",
    "                                         input_shape = [],\n",
    "                                         dtype=tf.string,\n",
    "                                         trainable = False)\n",
    "\n",
    "# Model checkpoint callback\n",
    "checkpoint = ModelCheckpoint(filepath='best_sentence_encoder_model_yelp.h5', \n",
    "                             monitor='val_loss', \n",
    "                             save_best_only=True,\n",
    "                             save_weights_only=False,\n",
    "                             mode='auto')\n",
    "\n",
    "# Early stopping callback\n",
    "early_stop = EarlyStopping(monitor='val_loss', \n",
    "                           patience=3, \n",
    "                           verbose=1, \n",
    "                           restore_best_weights=True)\n",
    "\n",
    "# Define the model\n",
    "model = Sequential([\n",
    "  sentence_encoder_layer,\n",
    "  Dense(1024, activation = 'relu'),\n",
    "  Dense(1024, activation = 'relu'),\n",
    "  Dense(1, activation = 'sigmoid')\n",
    "])\n",
    "\n",
    "model.compile(optimizer = tf.keras.optimizers.Adam(learning_rate = 0.001), loss = 'binary_crossentropy', metrics = ['accuracy'])\n",
    "\n",
    "model.summary()"
   ]
  },
  {
   "cell_type": "code",
   "execution_count": 47,
   "id": "44e255b0",
   "metadata": {},
   "outputs": [
    {
     "name": "stdout",
     "output_type": "stream",
     "text": [
      "Epoch 1/10\n",
      "63/63 [==============================] - 11s 133ms/step - loss: 0.3120 - accuracy: 0.8634 - val_loss: 0.2276 - val_accuracy: 0.8985\n",
      "Epoch 2/10\n",
      "63/63 [==============================] - 5s 85ms/step - loss: 0.2091 - accuracy: 0.9112 - val_loss: 0.2365 - val_accuracy: 0.9005\n",
      "Epoch 3/10\n",
      "63/63 [==============================] - 8s 122ms/step - loss: 0.1829 - accuracy: 0.9241 - val_loss: 0.2246 - val_accuracy: 0.9080\n",
      "Epoch 4/10\n",
      "63/63 [==============================] - 5s 86ms/step - loss: 0.1390 - accuracy: 0.9459 - val_loss: 0.2420 - val_accuracy: 0.8965\n",
      "Epoch 5/10\n",
      "63/63 [==============================] - 5s 78ms/step - loss: 0.1052 - accuracy: 0.9620 - val_loss: 0.2703 - val_accuracy: 0.8975\n",
      "Epoch 6/10\n",
      "62/63 [============================>.] - ETA: 0s - loss: 0.0625 - accuracy: 0.9806Restoring model weights from the end of the best epoch: 3.\n",
      "63/63 [==============================] - 5s 83ms/step - loss: 0.0628 - accuracy: 0.9805 - val_loss: 0.2922 - val_accuracy: 0.9015\n",
      "Epoch 6: early stopping\n"
     ]
    }
   ],
   "source": [
    "# Train the model\n",
    "\n",
    "Sentence_encoder_start_time = time.time()\n",
    "\n",
    "history = model.fit(X_train, y_train, epochs = 10, batch_size = 128, validation_data = (X_test, y_test), callbacks = [checkpoint, early_stop])\n",
    "\n",
    "Sentence_encoder_end_time = time.time()\n",
    "Sentence_encoder_execution_time = Sentence_encoder_end_time - Sentence_encoder_start_time"
   ]
  },
  {
   "cell_type": "code",
   "execution_count": 48,
   "id": "4deb0499",
   "metadata": {},
   "outputs": [
    {
     "name": "stdout",
     "output_type": "stream",
     "text": [
      "63/63 [==============================] - 1s 17ms/step\n",
      "Sentence encoder Training time: 39.78 seconds\n",
      "Sentence encoder Accuracy score:  0.908\n",
      "Sentence encoder Precision score:  0.9318578916715201\n",
      "Sentence encoder Recall score:  0.9598080383923215\n",
      "Sentence encoder F1 score:  0.9456264775413711\n"
     ]
    }
   ],
   "source": [
    "# Model predictions\n",
    "Sentence_encoder_predictions = model.predict(X_test)\n",
    "\n",
    "Sentence_encoder_predictions_results = []\n",
    "for i in Sentence_encoder_predictions:\n",
    "  if i[0] >= 0.5:\n",
    "    Sentence_encoder_predictions_results.append(1)\n",
    "  else:\n",
    "    Sentence_encoder_predictions_results.append(0)\n",
    "    \n",
    "# Model evaluation\n",
    "print('Sentence encoder Training time: {} seconds'. format(round(Sentence_encoder_execution_time, 2)))\n",
    "print('Sentence encoder Accuracy score: ', format(accuracy_score(y_test, Sentence_encoder_predictions_results)))\n",
    "print('Sentence encoder Precision score: ', format(precision_score(y_test, Sentence_encoder_predictions_results)))\n",
    "print('Sentence encoder Recall score: ', format(recall_score(y_test, Sentence_encoder_predictions_results)))\n",
    "print('Sentence encoder F1 score: ', format(f1_score(y_test, Sentence_encoder_predictions_results)))\n",
    "\n",
    "# Model evaluation dictionary\n",
    "Sentence_encoder_results = {'Name': \"Sentence encoder\", \n",
    "                 \"Training Time\": round(Sentence_encoder_execution_time, 2),\n",
    "                 \"Accuracy score\": accuracy_score(y_test, Sentence_encoder_predictions_results),\n",
    "                 \"Precision score\": precision_score(y_test, Sentence_encoder_predictions_results),\n",
    "                 \"Recall score\": recall_score(y_test, Sentence_encoder_predictions_results),\n",
    "                 \"F1 score\": f1_score(y_test, Sentence_encoder_predictions_results)}"
   ]
  },
  {
   "cell_type": "code",
   "execution_count": 49,
   "id": "491012fe",
   "metadata": {},
   "outputs": [],
   "source": [
    "update_the_results_file(Sentence_encoder_results)"
   ]
  },
  {
   "cell_type": "markdown",
   "id": "1e4f61a2",
   "metadata": {},
   "source": [
    "### Part 6. Roberta Huggingface model"
   ]
  },
  {
   "cell_type": "code",
   "execution_count": 50,
   "id": "a6e3190b",
   "metadata": {},
   "outputs": [
    {
     "name": "stderr",
     "output_type": "stream",
     "text": [
      "All model checkpoint layers were used when initializing TFRobertaForSequenceClassification.\n",
      "\n",
      "All the layers of TFRobertaForSequenceClassification were initialized from the model checkpoint at cardiffnlp/twitter-roberta-base-sentiment.\n",
      "If your task is similar to the task the model of the checkpoint was trained on, you can already use TFRobertaForSequenceClassification for predictions without further training.\n"
     ]
    }
   ],
   "source": [
    "# Download the pretrained model\n",
    "MODEL = f'cardiffnlp/twitter-roberta-base-sentiment'\n",
    "tokenizer = AutoTokenizer.from_pretrained(MODEL)\n",
    "model = TFAutoModelForSequenceClassification.from_pretrained(MODEL)"
   ]
  },
  {
   "cell_type": "code",
   "execution_count": 51,
   "id": "ca2b19bf",
   "metadata": {},
   "outputs": [],
   "source": [
    "# Auxillary polarity scores function\n",
    "def polarity_scores_roberta(example):\n",
    "  encoded_text = tokenizer(example, return_tensors = 'tf')\n",
    "  output = model(**encoded_text)\n",
    "  scores = output[0][0].numpy()\n",
    "  scores = softmax(scores)\n",
    "  scores_dict = {\n",
    "    'roberta_neg': scores[0],\n",
    "    'roberta_neu': scores[1],\n",
    "    'roberta_pos': scores[2]\n",
    "  }\n",
    "  return scores_dict"
   ]
  },
  {
   "cell_type": "code",
   "execution_count": 52,
   "id": "9242c22b",
   "metadata": {},
   "outputs": [
    {
     "data": {
      "application/vnd.jupyter.widget-view+json": {
       "model_id": "eb553eb09dd74a1aa394fc8f63048632",
       "version_major": 2,
       "version_minor": 0
      },
      "text/plain": [
       "  0%|          | 0/10000 [00:00<?, ?it/s]"
      ]
     },
     "metadata": {},
     "output_type": "display_data"
    }
   ],
   "source": [
    "# Predict results with each of the rows in the dataframe\n",
    "\n",
    "Roberta_start_time = time.time()\n",
    "\n",
    "res = {}\n",
    "for i, row in tqdm(df.iterrows(), total = len(df)):\n",
    "    text = row['Text']\n",
    "    myid = row['Id']\n",
    "    vader_result = sia.polarity_scores(text)\n",
    "\n",
    "    vader_result_rename = {}\n",
    "    for key, value in vader_result.items():\n",
    "      vader_result_rename[f'vader_{key}'] = value\n",
    "\n",
    "    roberta_result = polarity_scores_roberta(text)\n",
    "    both_results = {**vader_result_rename, **roberta_result}\n",
    "    res[myid] = both_results\n",
    "    \n",
    "Roberta_end_time = time.time()\n",
    "Roberta_execution_time = Roberta_end_time - Roberta_start_time"
   ]
  },
  {
   "cell_type": "code",
   "execution_count": 54,
   "id": "a53baaa0",
   "metadata": {},
   "outputs": [
    {
     "data": {
      "text/html": [
       "<div>\n",
       "<style scoped>\n",
       "    .dataframe tbody tr th:only-of-type {\n",
       "        vertical-align: middle;\n",
       "    }\n",
       "\n",
       "    .dataframe tbody tr th {\n",
       "        vertical-align: top;\n",
       "    }\n",
       "\n",
       "    .dataframe thead th {\n",
       "        text-align: right;\n",
       "    }\n",
       "</style>\n",
       "<table border=\"1\" class=\"dataframe\">\n",
       "  <thead>\n",
       "    <tr style=\"text-align: right;\">\n",
       "      <th></th>\n",
       "      <th>Id</th>\n",
       "      <th>vader_neg</th>\n",
       "      <th>vader_neu</th>\n",
       "      <th>vader_pos</th>\n",
       "      <th>vader_compound</th>\n",
       "      <th>roberta_neg</th>\n",
       "      <th>roberta_neu</th>\n",
       "      <th>roberta_pos</th>\n",
       "      <th>Text</th>\n",
       "      <th>Label</th>\n",
       "      <th>Predicted_Label</th>\n",
       "      <th>Roberta_Predictions</th>\n",
       "    </tr>\n",
       "  </thead>\n",
       "  <tbody>\n",
       "    <tr>\n",
       "      <th>0</th>\n",
       "      <td>1</td>\n",
       "      <td>0.015</td>\n",
       "      <td>0.688</td>\n",
       "      <td>0.297</td>\n",
       "      <td>0.9950</td>\n",
       "      <td>0.002489</td>\n",
       "      <td>0.008888</td>\n",
       "      <td>0.988281</td>\n",
       "      <td>My wife took me here on my birthday for breakf...</td>\n",
       "      <td>1</td>\n",
       "      <td>1</td>\n",
       "      <td>1</td>\n",
       "    </tr>\n",
       "    <tr>\n",
       "      <th>1</th>\n",
       "      <td>2</td>\n",
       "      <td>0.048</td>\n",
       "      <td>0.736</td>\n",
       "      <td>0.215</td>\n",
       "      <td>0.9945</td>\n",
       "      <td>0.035522</td>\n",
       "      <td>0.160767</td>\n",
       "      <td>0.803711</td>\n",
       "      <td>I have no idea why some people give bad review...</td>\n",
       "      <td>1</td>\n",
       "      <td>1</td>\n",
       "      <td>1</td>\n",
       "    </tr>\n",
       "    <tr>\n",
       "      <th>2</th>\n",
       "      <td>3</td>\n",
       "      <td>0.000</td>\n",
       "      <td>0.602</td>\n",
       "      <td>0.398</td>\n",
       "      <td>0.8377</td>\n",
       "      <td>0.001597</td>\n",
       "      <td>0.008469</td>\n",
       "      <td>0.990234</td>\n",
       "      <td>love the gyro plate Rice is so good and I also...</td>\n",
       "      <td>1</td>\n",
       "      <td>1</td>\n",
       "      <td>1</td>\n",
       "    </tr>\n",
       "  </tbody>\n",
       "</table>\n",
       "</div>"
      ],
      "text/plain": [
       "   Id  vader_neg  vader_neu  vader_pos  vader_compound  roberta_neg  \\\n",
       "0   1      0.015      0.688      0.297          0.9950     0.002489   \n",
       "1   2      0.048      0.736      0.215          0.9945     0.035522   \n",
       "2   3      0.000      0.602      0.398          0.8377     0.001597   \n",
       "\n",
       "   roberta_neu  roberta_pos  \\\n",
       "0     0.008888     0.988281   \n",
       "1     0.160767     0.803711   \n",
       "2     0.008469     0.990234   \n",
       "\n",
       "                                                Text  Label  Predicted_Label  \\\n",
       "0  My wife took me here on my birthday for breakf...      1                1   \n",
       "1  I have no idea why some people give bad review...      1                1   \n",
       "2  love the gyro plate Rice is so good and I also...      1                1   \n",
       "\n",
       "   Roberta_Predictions  \n",
       "0                    1  \n",
       "1                    1  \n",
       "2                    1  "
      ]
     },
     "execution_count": 54,
     "metadata": {},
     "output_type": "execute_result"
    }
   ],
   "source": [
    "# Save roberta model results\n",
    "roberta_results = []\n",
    "for i in range(1, len(df) + 1):\n",
    "  roberta_results.append(int(res[i]['roberta_pos'] > res[i]['roberta_neg']))\n",
    "  \n",
    "results_df = pd.DataFrame(res).T\n",
    "results_df = results_df.reset_index().rename(columns = {'index': 'Id'})\n",
    "results_df = results_df.merge(vaders, how = 'left')\n",
    "results_df.drop(['neg', 'neu', 'pos', 'compound'], axis = 1, inplace = True)\n",
    "\n",
    "results_df['Roberta_Predictions'] = results_df['roberta_pos'] > results_df['roberta_neg']\n",
    "results_df['Roberta_Predictions'] = results_df['Roberta_Predictions'].astype(int)\n",
    "results_df.head(3)"
   ]
  },
  {
   "cell_type": "code",
   "execution_count": 55,
   "id": "181c2ace",
   "metadata": {},
   "outputs": [
    {
     "name": "stdout",
     "output_type": "stream",
     "text": [
      "Roberta Training time: 1425.77 seconds\n",
      "Roberta Accuracy score:  0.9105\n",
      "Roberta Precision score:  0.9573944095554735\n",
      "Roberta Recall score:  0.9340461316674675\n",
      "Roberta F1 score:  0.9455761629674674\n"
     ]
    }
   ],
   "source": [
    "# Model evaluation\n",
    "print('Roberta Training time: {} seconds'. format(round(Roberta_execution_time, 2)))\n",
    "print('Roberta Accuracy score: ', format(accuracy_score(results_df['Label'], results_df['Roberta_Predictions'])))\n",
    "print('Roberta Precision score: ', format(precision_score(results_df['Label'], results_df['Roberta_Predictions'])))\n",
    "print('Roberta Recall score: ', format(recall_score(results_df['Label'], results_df['Roberta_Predictions'])))\n",
    "print('Roberta F1 score: ', format(f1_score(results_df['Label'], results_df['Roberta_Predictions'])))\n",
    "\n",
    "# Model evaluation dictionary\n",
    "Roberta_results = {'Name': \"Roberta\", \n",
    "                 \"Training Time\": round(Roberta_execution_time, 2),\n",
    "                 \"Accuracy score\": accuracy_score(results_df['Label'], results_df['Roberta_Predictions']),\n",
    "                 \"Precision score\": precision_score(results_df['Label'], results_df['Roberta_Predictions']),\n",
    "                 \"Recall score\": recall_score(results_df['Label'], results_df['Roberta_Predictions']),\n",
    "                 \"F1 score\": f1_score(results_df['Label'], results_df['Roberta_Predictions'])}"
   ]
  },
  {
   "cell_type": "code",
   "execution_count": 56,
   "id": "ad9161af",
   "metadata": {},
   "outputs": [],
   "source": [
    "update_the_results_file(Roberta_results)"
   ]
  },
  {
   "cell_type": "markdown",
   "id": "c4e94cbe",
   "metadata": {},
   "source": [
    "### Part 7. Distilbert Fine Tuned huggingface (native tensorflow)"
   ]
  },
  {
   "cell_type": "code",
   "execution_count": 58,
   "id": "c71aec97",
   "metadata": {},
   "outputs": [
    {
     "data": {
      "application/vnd.jupyter.widget-view+json": {
       "model_id": "",
       "version_major": 2,
       "version_minor": 0
      },
      "text/plain": [
       "Map:   0%|          | 0/7500 [00:00<?, ? examples/s]"
      ]
     },
     "metadata": {},
     "output_type": "display_data"
    },
    {
     "data": {
      "application/vnd.jupyter.widget-view+json": {
       "model_id": "",
       "version_major": 2,
       "version_minor": 0
      },
      "text/plain": [
       "Map:   0%|          | 0/2500 [00:00<?, ? examples/s]"
      ]
     },
     "metadata": {},
     "output_type": "display_data"
    }
   ],
   "source": [
    "# Define huggingface dataset object and train test split\n",
    "ds = Dataset.from_dict({'reviews': reviews, 'labels': labels})\n",
    "dataset = ds.train_test_split()\n",
    "\n",
    "# Model name and hyperparameters\n",
    "checkpoint = 'distilbert-base-uncased'\n",
    "batch_size = 16\n",
    "max_length = 300\n",
    "\n",
    "# Tokenizer object\n",
    "tokenizer = AutoTokenizer.from_pretrained(checkpoint)\n",
    "\n",
    "# Tokenization auxillary function\n",
    "def tokenize_function(train_dataset):\n",
    "    return tokenizer(train_dataset['reviews'], padding='max_length', truncation=True, max_length = max_length)\n",
    "  \n",
    "# Tokenized dataset\n",
    "tokenized_dataset = dataset.map(tokenize_function, batched=True)\n",
    "train_dataset = tokenized_dataset['train']\n",
    "test_dataset = tokenized_dataset['test']\n",
    "train_dataset = train_dataset.remove_columns(['reviews']).with_format('tensorflow')\n",
    "test_dataset = test_dataset.remove_columns(['reviews']).with_format('tensorflow')\n",
    "\n",
    "# Training features and tensorflow dataset\n",
    "train_features = {x: train_dataset[x] for x in tokenizer.model_input_names}\n",
    "train_set = tf.data.Dataset.from_tensor_slices((train_features, train_dataset['labels'])).shuffle(1000).batch(batch_size)\n",
    "\n",
    "test_features = {x: test_dataset[x] for x in tokenizer.model_input_names}\n",
    "test_set = tf.data.Dataset.from_tensor_slices((test_features, test_dataset['labels'])).shuffle(1000).batch(batch_size)\n",
    "\n",
    "test_set_for_preds = tf.data.Dataset.from_tensor_slices((test_features, test_dataset['labels'])).batch(batch_size)"
   ]
  },
  {
   "cell_type": "code",
   "execution_count": 59,
   "id": "58c1a64c",
   "metadata": {},
   "outputs": [
    {
     "name": "stderr",
     "output_type": "stream",
     "text": [
      "Some layers from the model checkpoint at distilbert-base-uncased were not used when initializing TFDistilBertForSequenceClassification: ['vocab_transform', 'activation_13', 'vocab_projector', 'vocab_layer_norm']\n",
      "- This IS expected if you are initializing TFDistilBertForSequenceClassification from the checkpoint of a model trained on another task or with another architecture (e.g. initializing a BertForSequenceClassification model from a BertForPreTraining model).\n",
      "- This IS NOT expected if you are initializing TFDistilBertForSequenceClassification from the checkpoint of a model that you expect to be exactly identical (initializing a BertForSequenceClassification model from a BertForSequenceClassification model).\n",
      "Some layers of TFDistilBertForSequenceClassification were not initialized from the model checkpoint at distilbert-base-uncased and are newly initialized: ['dropout_65', 'classifier', 'pre_classifier']\n",
      "You should probably TRAIN this model on a down-stream task to be able to use it for predictions and inference.\n"
     ]
    }
   ],
   "source": [
    "# Download pretrained model from checkpoint (Only the head layer is trainable)\n",
    "model = TFAutoModelForSequenceClassification.from_pretrained(checkpoint, num_labels=2)\n",
    "model.layers[0].trainable = True\n",
    "\n",
    "# Model checkpoint callback\n",
    "checkpoint = ModelCheckpoint(filepath='HF_BERT_finetuned_tf_model_yelp.h5', \n",
    "                             monitor='val_loss', \n",
    "                             save_best_only=True,\n",
    "                             save_weights_only=True,\n",
    "                             mode='auto')\n",
    "\n",
    "# Early stopping callback\n",
    "early_stop = EarlyStopping(monitor='val_loss', \n",
    "                           patience=3, \n",
    "                           verbose=1, \n",
    "                           restore_best_weights=True)\n",
    "\n",
    "# Model compilation\n",
    "model.compile(\n",
    "  optimizer = tf.keras.optimizers.Adam(learning_rate = 5e-6),\n",
    "  loss = tf.keras.losses.SparseCategoricalCrossentropy(from_logits = True),\n",
    "  metrics = ['accuracy']\n",
    ")"
   ]
  },
  {
   "cell_type": "code",
   "execution_count": 60,
   "id": "89be5011",
   "metadata": {},
   "outputs": [
    {
     "name": "stdout",
     "output_type": "stream",
     "text": [
      "Epoch 1/200\n",
      "469/469 [==============================] - 109s 216ms/step - loss: 0.3179 - accuracy: 0.8763 - val_loss: 0.1979 - val_accuracy: 0.9208\n",
      "Epoch 2/200\n",
      "469/469 [==============================] - 99s 211ms/step - loss: 0.1815 - accuracy: 0.9279 - val_loss: 0.2112 - val_accuracy: 0.9152\n",
      "Epoch 3/200\n",
      "469/469 [==============================] - 102s 217ms/step - loss: 0.1350 - accuracy: 0.9471 - val_loss: 0.2117 - val_accuracy: 0.9236\n",
      "Epoch 4/200\n",
      "469/469 [==============================] - ETA: 0s - loss: 0.0952 - accuracy: 0.9668Restoring model weights from the end of the best epoch: 1.\n",
      "469/469 [==============================] - 101s 216ms/step - loss: 0.0952 - accuracy: 0.9668 - val_loss: 0.2303 - val_accuracy: 0.9176\n",
      "Epoch 4: early stopping\n"
     ]
    }
   ],
   "source": [
    "HF_TF_finetuned_start_time = time.time()\n",
    "\n",
    "# Model finetuning\n",
    "history = model.fit(train_set,\n",
    "                   validation_data = test_set,\n",
    "                   epochs = 200,\n",
    "                   batch_size = batch_size,\n",
    "                   callbacks = [checkpoint, early_stop])\n",
    "\n",
    "HF_TF_finetuned_end_time = time.time()\n",
    "HF_TF_finetuned_execution_time = HF_TF_finetuned_end_time - HF_TF_finetuned_start_time"
   ]
  },
  {
   "cell_type": "code",
   "execution_count": 61,
   "id": "68d54d8b",
   "metadata": {},
   "outputs": [
    {
     "name": "stdout",
     "output_type": "stream",
     "text": [
      "157/157 [==============================] - 11s 60ms/step\n",
      "HF_TF_finetuned Training time: 410.83 seconds\n",
      "HF_TF_finetuned Accuracy score:  0.9208\n",
      "HF_TF_finetuned Precision score:  0.9586935638808838\n",
      "HF_TF_finetuned Recall score:  0.9468690702087287\n",
      "HF_TF_finetuned F1 score:  0.9527446300715989\n"
     ]
    }
   ],
   "source": [
    "predictions = model.predict(test_set_for_preds)\n",
    "predictions = tf.math.argmax(tf.nn.softmax(predictions[0], axis = -1), axis = -1)\n",
    "predictions = tf.cast(predictions, dtype = tf.int32)\n",
    "\n",
    "# Model evaluation\n",
    "print('HF_TF_finetuned Training time: {} seconds'. format(round(HF_TF_finetuned_execution_time, 2)))\n",
    "print('HF_TF_finetuned Accuracy score: ', format(accuracy_score(predictions, test_dataset['labels'])))\n",
    "print('HF_TF_finetuned Precision score: ', format(precision_score(predictions, test_dataset['labels'])))\n",
    "print('HF_TF_finetuned Recall score: ', format(recall_score(predictions, test_dataset['labels'])))\n",
    "print('HF_TF_finetuned F1 score: ', format(f1_score(predictions, test_dataset['labels'])))\n",
    "\n",
    "# Model evaluation dictionary\n",
    "HF_TF_finetuned_results = {'Name': \"HF_TF_finetuned\", \n",
    "                 \"Training Time\": round(HF_TF_finetuned_execution_time, 2),\n",
    "                 \"Accuracy score\": accuracy_score(predictions, test_dataset['labels']),\n",
    "                 \"Precision score\": precision_score(predictions, test_dataset['labels']),\n",
    "                 \"Recall score\": recall_score(predictions, test_dataset['labels']),\n",
    "                 \"F1 score\": f1_score(predictions, test_dataset['labels'])}"
   ]
  },
  {
   "cell_type": "code",
   "execution_count": 62,
   "id": "4c1afa5b",
   "metadata": {},
   "outputs": [],
   "source": [
    "update_the_results_file(HF_TF_finetuned_results)"
   ]
  },
  {
   "cell_type": "markdown",
   "id": "f6ed02da",
   "metadata": {},
   "source": [
    "### Part 8. Distilbert Fine Tuned huggingface (trainer object)"
   ]
  },
  {
   "cell_type": "code",
   "execution_count": 63,
   "id": "ecc0e628",
   "metadata": {},
   "outputs": [],
   "source": [
    "X_train, X_test, y_train, y_test = train_test_split(reviews, labels, test_size = 0.2, random_state = 1)"
   ]
  },
  {
   "cell_type": "code",
   "execution_count": 64,
   "id": "992ab0ad",
   "metadata": {},
   "outputs": [],
   "source": [
    "max_length = 300\n",
    "\n",
    "tokenizer = DistilBertTokenizerFast.from_pretrained('distilbert-base-uncased')\n",
    "\n",
    "train_encodings = tokenizer(X_train, truncation = True, padding = True, max_length = max_length)\n",
    "test_encodings = tokenizer(X_test, truncation = True, padding = True, max_length = max_length)\n",
    "\n",
    "train_dataset = tf.data.Dataset.from_tensor_slices((dict(train_encodings), y_train))\n",
    "test_dataset = tf.data.Dataset.from_tensor_slices((dict(test_encodings), y_test))"
   ]
  },
  {
   "cell_type": "code",
   "execution_count": 65,
   "id": "469213f8",
   "metadata": {},
   "outputs": [],
   "source": [
    "training_args = TFTrainingArguments(\n",
    "  output_dir = './results',\n",
    "  num_train_epochs = 10,\n",
    "  per_device_eval_batch_size = 4,\n",
    "  per_device_train_batch_size = 4,\n",
    "  warmup_steps = 500,\n",
    "  weight_decay = 0.01,\n",
    "  logging_dir = './logs',\n",
    "  logging_steps = 10,\n",
    "  eval_steps = 50,\n",
    ")"
   ]
  },
  {
   "cell_type": "code",
   "execution_count": 66,
   "id": "1223dedc",
   "metadata": {},
   "outputs": [
    {
     "name": "stderr",
     "output_type": "stream",
     "text": [
      "Some layers from the model checkpoint at distilbert-base-uncased were not used when initializing TFDistilBertForSequenceClassification: ['vocab_transform', 'activation_13', 'vocab_projector', 'vocab_layer_norm']\n",
      "- This IS expected if you are initializing TFDistilBertForSequenceClassification from the checkpoint of a model trained on another task or with another architecture (e.g. initializing a BertForSequenceClassification model from a BertForPreTraining model).\n",
      "- This IS NOT expected if you are initializing TFDistilBertForSequenceClassification from the checkpoint of a model that you expect to be exactly identical (initializing a BertForSequenceClassification model from a BertForSequenceClassification model).\n",
      "Some layers of TFDistilBertForSequenceClassification were not initialized from the model checkpoint at distilbert-base-uncased and are newly initialized: ['dropout_85', 'classifier', 'pre_classifier']\n",
      "You should probably TRAIN this model on a down-stream task to be able to use it for predictions and inference.\n",
      "C:\\Users\\User\\anaconda3\\envs\\newtensorflow\\lib\\site-packages\\transformers\\trainer_tf.py:115: FutureWarning: The class `TFTrainer` is deprecated and will be removed in version 5 of Transformers. We recommend using native Keras instead, by calling methods like `fit()` and `predict()` directly on the model object. Detailed examples of the Keras style can be found in our examples at https://github.com/huggingface/transformers/tree/main/examples/tensorflow\n",
      "  warnings.warn(\n"
     ]
    }
   ],
   "source": [
    "HF_trainer_finetuned_start_time = time.time()\n",
    "\n",
    "with training_args.strategy.scope():\n",
    "  model = TFDistilBertForSequenceClassification.from_pretrained('distilbert-base-uncased')\n",
    "  \n",
    "trainer = TFTrainer(\n",
    "  model = model,\n",
    "  args = training_args,\n",
    "  train_dataset = train_dataset,\n",
    "  eval_dataset = test_dataset\n",
    ")\n",
    "\n",
    "trainer.train()\n",
    "\n",
    "HF_trainer_finetuned_end_time = time.time()\n",
    "HF_trainer_finetuned_execution_time = HF_trainer_finetuned_end_time - HF_trainer_finetuned_start_time"
   ]
  },
  {
   "cell_type": "code",
   "execution_count": 67,
   "id": "088b405a",
   "metadata": {},
   "outputs": [
    {
     "name": "stdout",
     "output_type": "stream",
     "text": [
      "HF_trainer_finetuned Training time: 1694.6 seconds\n",
      "HF_trainer_finetuned Accuracy score:  0.9015\n",
      "HF_trainer_finetuned Precision score:  0.9586082783443312\n",
      "HF_trainer_finetuned Recall score:  0.9258400926998841\n",
      "HF_trainer_finetuned F1 score:  0.941939286766873\n"
     ]
    }
   ],
   "source": [
    "predictions = trainer.predict(test_dataset)\n",
    "predictions = tf.math.argmax(tf.nn.softmax(predictions[0], axis = -1), axis = -1)\n",
    "\n",
    "# Model evaluation\n",
    "print('HF_trainer_finetuned Training time: {} seconds'. format(round(HF_trainer_finetuned_execution_time, 2)))\n",
    "print('HF_trainer_finetuned Accuracy score: ', format(accuracy_score(predictions, y_test)))\n",
    "print('HF_trainer_finetuned Precision score: ', format(precision_score(predictions, y_test)))\n",
    "print('HF_trainer_finetuned Recall score: ', format(recall_score(predictions, y_test)))\n",
    "print('HF_trainer_finetuned F1 score: ', format(f1_score(predictions, y_test)))\n",
    "\n",
    "# Model evaluation dictionary\n",
    "HF_trainer_finetuned_results = {'Name': \"HF_trainer_finetuned\", \n",
    "                 \"Training Time\": round(HF_trainer_finetuned_execution_time, 2),\n",
    "                 \"Accuracy score\": accuracy_score(predictions, y_test),\n",
    "                 \"Precision score\": precision_score(predictions, y_test),\n",
    "                 \"Recall score\": recall_score(predictions, y_test),\n",
    "                 \"F1 score\": f1_score(predictions, y_test)}"
   ]
  },
  {
   "cell_type": "code",
   "execution_count": 68,
   "id": "3589cc85",
   "metadata": {},
   "outputs": [],
   "source": [
    "update_the_results_file(HF_trainer_finetuned_results)"
   ]
  },
  {
   "cell_type": "markdown",
   "id": "9733ff4c",
   "metadata": {},
   "source": [
    "### Part 9. High level pipeline huggingface"
   ]
  },
  {
   "cell_type": "code",
   "execution_count": 70,
   "id": "e612c6de",
   "metadata": {},
   "outputs": [
    {
     "name": "stderr",
     "output_type": "stream",
     "text": [
      "No model was supplied, defaulted to distilbert-base-uncased-finetuned-sst-2-english and revision af0f99b (https://huggingface.co/distilbert-base-uncased-finetuned-sst-2-english).\n",
      "Using a pipeline without specifying a model name and revision in production is not recommended.\n",
      "Some layers from the model checkpoint at distilbert-base-uncased-finetuned-sst-2-english were not used when initializing TFDistilBertForSequenceClassification: ['dropout_19']\n",
      "- This IS expected if you are initializing TFDistilBertForSequenceClassification from the checkpoint of a model trained on another task or with another architecture (e.g. initializing a BertForSequenceClassification model from a BertForPreTraining model).\n",
      "- This IS NOT expected if you are initializing TFDistilBertForSequenceClassification from the checkpoint of a model that you expect to be exactly identical (initializing a BertForSequenceClassification model from a BertForSequenceClassification model).\n",
      "Some layers of TFDistilBertForSequenceClassification were not initialized from the model checkpoint at distilbert-base-uncased-finetuned-sst-2-english and are newly initialized: ['dropout_105']\n",
      "You should probably TRAIN this model on a down-stream task to be able to use it for predictions and inference.\n"
     ]
    },
    {
     "name": "stdout",
     "output_type": "stream",
     "text": [
      "0\n"
     ]
    },
    {
     "name": "stderr",
     "output_type": "stream",
     "text": [
      "Token indices sequence length is longer than the specified maximum sequence length for this model (779 > 512). Running this sequence through the model will result in indexing errors\n"
     ]
    },
    {
     "name": "stdout",
     "output_type": "stream",
     "text": [
      "1000\n",
      "2000\n",
      "3000\n",
      "4000\n",
      "5000\n",
      "6000\n",
      "7000\n",
      "8000\n",
      "9000\n"
     ]
    },
    {
     "data": {
      "text/plain": [
       "774.0700061321259"
      ]
     },
     "execution_count": 70,
     "metadata": {},
     "output_type": "execute_result"
    }
   ],
   "source": [
    "classifier = pipeline('sentiment-analysis', device = 0)\n",
    "\n",
    "HF_pipeline_start_time = time.time()\n",
    "results = []\n",
    "for i in range(len(reviews)):\n",
    "  results.append(classifier(reviews[i]))\n",
    "  if i % 1000 == 0:\n",
    "    print(i)\n",
    "HF_pipeline_end_time = time.time()\n",
    "HF_pipeline_execution_time = HF_pipeline_end_time - HF_pipeline_start_time\n",
    "HF_pipeline_execution_time"
   ]
  },
  {
   "cell_type": "code",
   "execution_count": 71,
   "id": "7a7301c8",
   "metadata": {},
   "outputs": [
    {
     "name": "stdout",
     "output_type": "stream",
     "text": [
      "HF_pipeline Training time: 774.07 seconds\n",
      "HF_pipeline Accuracy score:  0.783\n",
      "HF_pipeline Precision score:  0.7518020182604517\n",
      "HF_pipeline Recall score:  0.9836529393272556\n",
      "HF_pipeline F1 score:  0.8522402287893233\n"
     ]
    }
   ],
   "source": [
    "preds = []\n",
    "for result in results:\n",
    "  if result[0]['label'] == \"POSITIVE\":\n",
    "    preds.append(1)\n",
    "  else:\n",
    "    preds.append(0)\n",
    "    \n",
    "# Model evaluation\n",
    "print('HF_pipeline Training time: {} seconds'. format(round(HF_pipeline_execution_time, 2)))\n",
    "print('HF_pipeline Accuracy score: ', format(accuracy_score(preds, labels)))\n",
    "print('HF_pipeline Precision score: ', format(precision_score(preds, labels)))\n",
    "print('HF_pipeline Recall score: ', format(recall_score(preds, labels)))\n",
    "print('HF_pipeline F1 score: ', format(f1_score(preds, labels)))\n",
    "\n",
    "# Model evaluation dictionary\n",
    "HF_pipeline_results = {'Name': \"HF_pipeline\", \n",
    "                 \"Training Time\": round(HF_pipeline_execution_time, 2),\n",
    "                 \"Accuracy score\": accuracy_score(preds, labels),\n",
    "                 \"Precision score\": precision_score(preds, labels),\n",
    "                 \"Recall score\": recall_score(preds, labels),\n",
    "                 \"F1 score\": f1_score(preds, labels)}"
   ]
  },
  {
   "cell_type": "code",
   "execution_count": 72,
   "id": "67d5414f",
   "metadata": {},
   "outputs": [],
   "source": [
    "update_the_results_file(HF_pipeline_results)"
   ]
  },
  {
   "cell_type": "markdown",
   "id": "65f17acb",
   "metadata": {},
   "source": [
    "### Part 10. Fasttext classifier"
   ]
  },
  {
   "cell_type": "code",
   "execution_count": 91,
   "id": "bbe64790",
   "metadata": {},
   "outputs": [],
   "source": [
    "reviews = [review.replace('\\n', ' ') for review in reviews]\n",
    "\n",
    "df = pd.DataFrame({'label' : labels, 'review': reviews})\n",
    "df['label_upd'] = '__label__' + df['label'].astype(str)\n",
    "df['label_review'] = df['label_upd'] + ' ' + df['review']\n",
    "\n",
    "def preprocess(text):\n",
    "    text = re.sub(r'[^\\w\\s\\']',' ', text)\n",
    "    text = re.sub(' +', ' ', text)\n",
    "    return text.strip().lower()\n",
    "  \n",
    "df['label_review'] = df['label_review'].map(preprocess)\n",
    "\n",
    "train, test = train_test_split(df, test_size = 0.2, random_state = 1)\n",
    "\n",
    "train.to_csv('imdb.train', columns = ['label_review'], index = False, header = False)\n",
    "test.to_csv('imdb.test', columns = ['label_review'], index = False, header = False)\n",
    "\n",
    "Fasttext_start_time = time.time()\n",
    "\n",
    "model = fasttext.train_supervised(input = 'imdb.train')\n",
    "\n",
    "Fasttext_end_time = time.time()\n",
    "Fasttext_execution_time = Fasttext_end_time - Fasttext_start_time"
   ]
  },
  {
   "cell_type": "code",
   "execution_count": 92,
   "id": "a3a9253f",
   "metadata": {},
   "outputs": [
    {
     "name": "stdout",
     "output_type": "stream",
     "text": [
      "Fasttext Training time: 0.32 seconds\n",
      "Fasttext Accuracy score:  0.8785\n",
      "Fasttext Precision score:  0.9676064787042592\n",
      "Fasttext Recall score:  0.8951165371809101\n",
      "Fasttext F1 score:  0.9299509945229173\n"
     ]
    }
   ],
   "source": [
    "predictions = model.predict(list(test['review'].values))\n",
    "\n",
    "preds = []\n",
    "for pred in predictions[0]:\n",
    "  if pred == ['__label__1']:\n",
    "    preds.append(1)\n",
    "  else:\n",
    "    preds.append(0)\n",
    "    \n",
    "# Model evaluation\n",
    "print('Fasttext Training time: {} seconds'. format(round(Fasttext_execution_time, 2)))\n",
    "print('Fasttext Accuracy score: ', format(accuracy_score(preds, test['label'])))\n",
    "print('Fasttext Precision score: ', format(precision_score(preds, test['label'])))\n",
    "print('Fasttext Recall score: ', format(recall_score(preds, test['label'])))\n",
    "print('Fasttext F1 score: ', format(f1_score(preds, test['label'])))\n",
    "\n",
    "# Model evaluation dictionary\n",
    "Fasttext_results = {'Name': \"Fasttext\", \n",
    "                 \"Training Time\": round(Fasttext_execution_time, 2),\n",
    "                 \"Accuracy score\": accuracy_score(preds, test['label']),\n",
    "                 \"Precision score\": precision_score(preds, test['label']),\n",
    "                 \"Recall score\": recall_score(preds, test['label']),\n",
    "                 \"F1 score\": f1_score(preds, test['label'])}"
   ]
  },
  {
   "cell_type": "code",
   "execution_count": 93,
   "id": "b2d96478",
   "metadata": {},
   "outputs": [],
   "source": [
    "update_the_results_file(Fasttext_results)"
   ]
  },
  {
   "cell_type": "markdown",
   "id": "91cea7c1",
   "metadata": {},
   "source": [
    "### All models summary"
   ]
  },
  {
   "cell_type": "code",
   "execution_count": 94,
   "id": "8f9cc8c6",
   "metadata": {},
   "outputs": [
    {
     "data": {
      "text/html": [
       "<div>\n",
       "<style scoped>\n",
       "    .dataframe tbody tr th:only-of-type {\n",
       "        vertical-align: middle;\n",
       "    }\n",
       "\n",
       "    .dataframe tbody tr th {\n",
       "        vertical-align: top;\n",
       "    }\n",
       "\n",
       "    .dataframe thead th {\n",
       "        text-align: right;\n",
       "    }\n",
       "</style>\n",
       "<table border=\"1\" class=\"dataframe\">\n",
       "  <thead>\n",
       "    <tr style=\"text-align: right;\">\n",
       "      <th></th>\n",
       "      <th>Name</th>\n",
       "      <th>Training Time</th>\n",
       "      <th>Accuracy score</th>\n",
       "      <th>Precision score</th>\n",
       "      <th>Recall score</th>\n",
       "      <th>F1 score</th>\n",
       "    </tr>\n",
       "  </thead>\n",
       "  <tbody>\n",
       "    <tr>\n",
       "      <th>0</th>\n",
       "      <td>MultinomialNB CountVectorizer</td>\n",
       "      <td>0.35</td>\n",
       "      <td>0.8720</td>\n",
       "      <td>0.890859</td>\n",
       "      <td>0.964607</td>\n",
       "      <td>0.926267</td>\n",
       "    </tr>\n",
       "    <tr>\n",
       "      <th>1</th>\n",
       "      <td>MultinomialNB tfidf</td>\n",
       "      <td>0.37</td>\n",
       "      <td>0.8340</td>\n",
       "      <td>0.833917</td>\n",
       "      <td>1.000000</td>\n",
       "      <td>0.909438</td>\n",
       "    </tr>\n",
       "    <tr>\n",
       "      <th>2</th>\n",
       "      <td>Vaders Analyser</td>\n",
       "      <td>8.74</td>\n",
       "      <td>0.8689</td>\n",
       "      <td>0.888360</td>\n",
       "      <td>0.963599</td>\n",
       "      <td>0.924451</td>\n",
       "    </tr>\n",
       "    <tr>\n",
       "      <th>3</th>\n",
       "      <td>Manual RNN</td>\n",
       "      <td>67.21</td>\n",
       "      <td>0.8695</td>\n",
       "      <td>0.914994</td>\n",
       "      <td>0.929814</td>\n",
       "      <td>0.922345</td>\n",
       "    </tr>\n",
       "    <tr>\n",
       "      <th>4</th>\n",
       "      <td>Sentence encoder</td>\n",
       "      <td>39.78</td>\n",
       "      <td>0.9080</td>\n",
       "      <td>0.931858</td>\n",
       "      <td>0.959808</td>\n",
       "      <td>0.945626</td>\n",
       "    </tr>\n",
       "    <tr>\n",
       "      <th>5</th>\n",
       "      <td>Roberta</td>\n",
       "      <td>1425.77</td>\n",
       "      <td>0.9105</td>\n",
       "      <td>0.957394</td>\n",
       "      <td>0.934046</td>\n",
       "      <td>0.945576</td>\n",
       "    </tr>\n",
       "    <tr>\n",
       "      <th>6</th>\n",
       "      <td>HF_TF_finetuned</td>\n",
       "      <td>410.83</td>\n",
       "      <td>0.9208</td>\n",
       "      <td>0.958694</td>\n",
       "      <td>0.946869</td>\n",
       "      <td>0.952745</td>\n",
       "    </tr>\n",
       "    <tr>\n",
       "      <th>7</th>\n",
       "      <td>HF_trainer_finetuned</td>\n",
       "      <td>1694.60</td>\n",
       "      <td>0.9015</td>\n",
       "      <td>0.958608</td>\n",
       "      <td>0.925840</td>\n",
       "      <td>0.941939</td>\n",
       "    </tr>\n",
       "    <tr>\n",
       "      <th>8</th>\n",
       "      <td>HF_pipeline</td>\n",
       "      <td>774.07</td>\n",
       "      <td>0.7830</td>\n",
       "      <td>0.751802</td>\n",
       "      <td>0.983653</td>\n",
       "      <td>0.852240</td>\n",
       "    </tr>\n",
       "    <tr>\n",
       "      <th>9</th>\n",
       "      <td>Fasttext</td>\n",
       "      <td>0.32</td>\n",
       "      <td>0.8785</td>\n",
       "      <td>0.967606</td>\n",
       "      <td>0.895117</td>\n",
       "      <td>0.929951</td>\n",
       "    </tr>\n",
       "  </tbody>\n",
       "</table>\n",
       "</div>"
      ],
      "text/plain": [
       "                            Name  Training Time  Accuracy score  \\\n",
       "0  MultinomialNB CountVectorizer           0.35          0.8720   \n",
       "1            MultinomialNB tfidf           0.37          0.8340   \n",
       "2                Vaders Analyser           8.74          0.8689   \n",
       "3                     Manual RNN          67.21          0.8695   \n",
       "4               Sentence encoder          39.78          0.9080   \n",
       "5                        Roberta        1425.77          0.9105   \n",
       "6                HF_TF_finetuned         410.83          0.9208   \n",
       "7           HF_trainer_finetuned        1694.60          0.9015   \n",
       "8                    HF_pipeline         774.07          0.7830   \n",
       "9                       Fasttext           0.32          0.8785   \n",
       "\n",
       "   Precision score  Recall score  F1 score  \n",
       "0         0.890859      0.964607  0.926267  \n",
       "1         0.833917      1.000000  0.909438  \n",
       "2         0.888360      0.963599  0.924451  \n",
       "3         0.914994      0.929814  0.922345  \n",
       "4         0.931858      0.959808  0.945626  \n",
       "5         0.957394      0.934046  0.945576  \n",
       "6         0.958694      0.946869  0.952745  \n",
       "7         0.958608      0.925840  0.941939  \n",
       "8         0.751802      0.983653  0.852240  \n",
       "9         0.967606      0.895117  0.929951  "
      ]
     },
     "execution_count": 94,
     "metadata": {},
     "output_type": "execute_result"
    }
   ],
   "source": [
    "# Create a DataFrame with a summary for all models and KPIs\n",
    "\n",
    "file_name = filename\n",
    "\n",
    "with open(file_name, 'rb') as f:\n",
    "    results_dict_list = pickle.load(f)\n",
    "df = pd.DataFrame(results_dict_list)\n",
    "df"
   ]
  },
  {
   "cell_type": "code",
   "execution_count": 95,
   "id": "71b85a30",
   "metadata": {},
   "outputs": [
    {
     "data": {
      "image/png": "[encoded data removed]",
      "text/plain": [
       "<Figure size 640x480 with 1 Axes>"
      ]
     },
     "metadata": {},
     "output_type": "display_data"
    }
   ],
   "source": [
    "# Training time\n",
    "df.plot(kind='bar', x='Name', y='Training Time')\n",
    "plt.title(\"Training time (seconds)\")\n",
    "plt.legend().remove()"
   ]
  },
  {
   "cell_type": "code",
   "execution_count": null,
   "id": "de4eafdc",
   "metadata": {},
   "outputs": [],
   "source": []
  }
 ],
 "metadata": {
  "kernelspec": {
   "display_name": "Python 3 (ipykernel)",
   "language": "python",
   "name": "python3"
  },
  "language_info": {
   "codemirror_mode": {
    "name": "ipython",
    "version": 3
   },
   "file_extension": ".py",
   "mimetype": "text/x-python",
   "name": "python",
   "nbconvert_exporter": "python",
   "pygments_lexer": "ipython3",
   "version": "3.9.16"
  }
 },
 "nbformat": 4,
 "nbformat_minor": 5
}
