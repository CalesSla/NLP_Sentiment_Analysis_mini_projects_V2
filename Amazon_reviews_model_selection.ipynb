{
 "cells": [
  {
   "cell_type": "markdown",
   "id": "6729df39",
   "metadata": {},
   "source": [
    "# Amazon reviews model selection"
   ]
  },
  {
   "cell_type": "code",
   "execution_count": 1,
   "id": "ec352e03",
   "metadata": {},
   "outputs": [
    {
     "name": "stderr",
     "output_type": "stream",
     "text": [
      "[nltk_data] Downloading package stopwords to\n",
      "[nltk_data]     C:\\Users\\User\\AppData\\Roaming\\nltk_data...\n",
      "[nltk_data]   Package stopwords is already up-to-date!\n"
     ]
    },
    {
     "name": "stdout",
     "output_type": "stream",
     "text": [
      "INFO:tensorflow:Mixed precision compatibility check (mixed_float16): OK\n",
      "Your GPU will likely run quickly with dtype policy mixed_float16 as it has compute capability of at least 7.0. Your GPU: NVIDIA GeForce RTX 3070, compute capability 8.6\n"
     ]
    }
   ],
   "source": [
    "# Dependencies\n",
    "\n",
    "import pickle\n",
    "import pandas as pd\n",
    "import numpy as np\n",
    "import matplotlib.pyplot as plt\n",
    "import seaborn as sns\n",
    "import nltk\n",
    "from nltk.sentiment import SentimentIntensityAnalyzer\n",
    "from tqdm.notebook import tqdm\n",
    "import numpy as np\n",
    "import tensorflow as tf\n",
    "import nltk\n",
    "from collections import Counter\n",
    "import string\n",
    "import itertools\n",
    "nltk.download('stopwords')\n",
    "from nltk.corpus import stopwords\n",
    "stop_words = set(stopwords.words('english'))\n",
    "from nltk import PorterStemmer\n",
    "from nltk.stem.wordnet import WordNetLemmatizer\n",
    "import tensorflow_text as text\n",
    "import tensorflow_hub as hub\n",
    "from sklearn.feature_extraction.text import CountVectorizer, TfidfVectorizer\n",
    "from sklearn.model_selection import train_test_split\n",
    "from sklearn.naive_bayes import MultinomialNB, GaussianNB\n",
    "from sklearn.metrics import accuracy_score, precision_score, recall_score, f1_score\n",
    "import time\n",
    "from tensorflow.keras.preprocessing.sequence import pad_sequences\n",
    "from tensorflow.keras.models import Sequential, Model\n",
    "from tensorflow.keras.layers import GlobalMaxPool1D, BatchNormalization, Dense, RNN, GRU, LSTM, TimeDistributed, Bidirectional, Activation, Embedding, Input, Conv1D, Dropout\n",
    "import tensorflow as tf\n",
    "import keras.backend as K\n",
    "from tensorflow.keras.callbacks import ModelCheckpoint, EarlyStopping\n",
    "from transformers import AutoTokenizer, pipeline\n",
    "from transformers import TFAutoModelForSequenceClassification, TFTrainingArguments, TFTrainer\n",
    "from scipy.special import softmax\n",
    "from datasets import DatasetDict, Dataset\n",
    "from tensorflow.keras import mixed_precision\n",
    "from tensorflow.keras.utils import to_categorical\n",
    "from transformers import DistilBertTokenizerFast, TFDistilBertForSequenceClassification\n",
    "\n",
    "plt.style.use('ggplot')\n",
    "\n",
    "# Define mixed precision policy\n",
    "policy = mixed_precision.Policy('mixed_float16')\n",
    "mixed_precision.set_global_policy(policy)"
   ]
  },
  {
   "cell_type": "markdown",
   "id": "a3e3cb08",
   "metadata": {},
   "source": [
    "### Data inport and preprocessing"
   ]
  },
  {
   "cell_type": "code",
   "execution_count": 2,
   "id": "ee1ad609",
   "metadata": {},
   "outputs": [
    {
     "data": {
      "text/html": [
       "<div>\n",
       "<style scoped>\n",
       "    .dataframe tbody tr th:only-of-type {\n",
       "        vertical-align: middle;\n",
       "    }\n",
       "\n",
       "    .dataframe tbody tr th {\n",
       "        vertical-align: top;\n",
       "    }\n",
       "\n",
       "    .dataframe thead th {\n",
       "        text-align: right;\n",
       "    }\n",
       "</style>\n",
       "<table border=\"1\" class=\"dataframe\">\n",
       "  <thead>\n",
       "    <tr style=\"text-align: right;\">\n",
       "      <th></th>\n",
       "      <th>Id</th>\n",
       "      <th>Score</th>\n",
       "      <th>Text</th>\n",
       "      <th>Label</th>\n",
       "    </tr>\n",
       "  </thead>\n",
       "  <tbody>\n",
       "    <tr>\n",
       "      <th>0</th>\n",
       "      <td>1</td>\n",
       "      <td>5</td>\n",
       "      <td>I have bought several of the Vitality canned d...</td>\n",
       "      <td>1</td>\n",
       "    </tr>\n",
       "    <tr>\n",
       "      <th>1</th>\n",
       "      <td>2</td>\n",
       "      <td>1</td>\n",
       "      <td>Product arrived labeled as Jumbo Salted Peanut...</td>\n",
       "      <td>0</td>\n",
       "    </tr>\n",
       "    <tr>\n",
       "      <th>2</th>\n",
       "      <td>3</td>\n",
       "      <td>4</td>\n",
       "      <td>This is a confection that has been around a fe...</td>\n",
       "      <td>1</td>\n",
       "    </tr>\n",
       "    <tr>\n",
       "      <th>3</th>\n",
       "      <td>4</td>\n",
       "      <td>2</td>\n",
       "      <td>If you are looking for the secret ingredient i...</td>\n",
       "      <td>0</td>\n",
       "    </tr>\n",
       "    <tr>\n",
       "      <th>4</th>\n",
       "      <td>5</td>\n",
       "      <td>5</td>\n",
       "      <td>Great taffy at a great price.  There was a wid...</td>\n",
       "      <td>1</td>\n",
       "    </tr>\n",
       "  </tbody>\n",
       "</table>\n",
       "</div>"
      ],
      "text/plain": [
       "   Id  Score                                               Text  Label\n",
       "0   1      5  I have bought several of the Vitality canned d...      1\n",
       "1   2      1  Product arrived labeled as Jumbo Salted Peanut...      0\n",
       "2   3      4  This is a confection that has been around a fe...      1\n",
       "3   4      2  If you are looking for the secret ingredient i...      0\n",
       "4   5      5  Great taffy at a great price.  There was a wid...      1"
      ]
     },
     "execution_count": 2,
     "metadata": {},
     "output_type": "execute_result"
    }
   ],
   "source": [
    "# Read in data\n",
    "df = pd.read_csv('Reviews.csv')\n",
    "df = df.drop(['ProductId', 'UserId', 'ProfileName', 'HelpfulnessNumerator', 'HelpfulnessDenominator', 'Time', 'Summary'], axis = 1)\n",
    "df = df.head(50000)\n",
    "df['Label'] = np.where(df['Score'] >= 3, 1, 0)\n",
    "df.head()"
   ]
  },
  {
   "cell_type": "code",
   "execution_count": 3,
   "id": "34173ed2",
   "metadata": {},
   "outputs": [
    {
     "name": "stdout",
     "output_type": "stream",
     "text": [
      "Empty indices: []\n"
     ]
    }
   ],
   "source": [
    "# Remove punctuation\n",
    "translator = str.maketrans('', '', string.punctuation)\n",
    "reviews = [s.translate(translator) for s in list(df['Text'])]\n",
    "\n",
    "# Tokenization, Lemmatization, Stemming, Stopwords. Label numerical encoding\n",
    "reviews_tokenized = []\n",
    "reviews_tokenized_joined = []\n",
    "for review in reviews:\n",
    "  splitted_review = nltk.word_tokenize(review)\n",
    "  splitted_review = [word for word in splitted_review if word not in stop_words]\n",
    "  splitted_review = [WordNetLemmatizer().lemmatize(w) for w in splitted_review]\n",
    "  splitted_review = [PorterStemmer().stem(w).strip() for w in splitted_review]\n",
    "  reviews_tokenized.append(splitted_review)\n",
    "  joined_review = ' '.join(splitted_review)\n",
    "  reviews_tokenized_joined.append(joined_review)\n",
    "  \n",
    "# Remove empty reviews and the corresponding labels\n",
    "empty_idx = []\n",
    "for i, review in enumerate(reviews_tokenized):\n",
    "  if len(review) == 0:\n",
    "    empty_idx.append(i)\n",
    "\n",
    "print(f'Empty indices: {empty_idx}')\n",
    "labels = list(df['Label'])\n",
    "\n",
    "for i in empty_idx:\n",
    "  reviews_tokenized.pop(i)\n",
    "  reviews_tokenized_joined.pop(i)\n",
    "  reviews.pop(i)\n",
    "  labels.pop(i)\n",
    "  \n",
    "reviews_unrolled = list(itertools.chain(*reviews_tokenized))"
   ]
  },
  {
   "cell_type": "markdown",
   "id": "19fa53fd",
   "metadata": {},
   "source": [
    "### Part 1. Multinomial Naive Bayes with Count Vectorizer"
   ]
  },
  {
   "cell_type": "code",
   "execution_count": 4,
   "id": "08adc50d",
   "metadata": {},
   "outputs": [
    {
     "name": "stdout",
     "output_type": "stream",
     "text": [
      "MultinomialNB CountVectorizer Training time: 1.03 seconds\n",
      "MultinomialNB CountVectorizer Accuracy score:  0.8878\n",
      "MultinomialNB CountVectorizer Precision score:  0.9060454797559623\n",
      "MultinomialNB CountVectorizer Recall score:  0.9674286391093213\n",
      "MultinomialNB CountVectorizer F1 score:  0.935731469813266\n"
     ]
    }
   ],
   "source": [
    "# Train test split\n",
    "X_train, X_test, y_train, y_test = train_test_split(reviews_tokenized_joined, labels, test_size = 0.2, random_state = 1)\n",
    "\n",
    "MultinomialNB_CountVectorizer_start_time = time.time()\n",
    "\n",
    "# Count vectorizer feature transformation\n",
    "count_vector = CountVectorizer(stop_words = 'english', binary = False)\n",
    "\n",
    "training_data = count_vector.fit_transform(X_train)\n",
    "test_data = count_vector.transform(X_test)\n",
    "\n",
    "# Multinomial Naive Bayes model predictions\n",
    "naive_bayes = MultinomialNB()\n",
    "naive_bayes.fit(training_data, y_train)\n",
    "\n",
    "MultinomialNB_CountVectorizer_predictions = naive_bayes.predict(test_data)\n",
    "\n",
    "MultinomialNB_CountVectorizer_end_time = time.time()\n",
    "MultinomialNB_CountVectorizer_execution_time = MultinomialNB_CountVectorizer_end_time - MultinomialNB_CountVectorizer_start_time\n",
    "\n",
    "# Model evaluation\n",
    "print('MultinomialNB CountVectorizer Training time: {} seconds'. format(round(MultinomialNB_CountVectorizer_execution_time, 2)))\n",
    "print('MultinomialNB CountVectorizer Accuracy score: ', format(accuracy_score(y_test, MultinomialNB_CountVectorizer_predictions)))\n",
    "print('MultinomialNB CountVectorizer Precision score: ', format(precision_score(y_test, MultinomialNB_CountVectorizer_predictions)))\n",
    "print('MultinomialNB CountVectorizer Recall score: ', format(recall_score(y_test, MultinomialNB_CountVectorizer_predictions)))\n",
    "print('MultinomialNB CountVectorizer F1 score: ', format(f1_score(y_test, MultinomialNB_CountVectorizer_predictions)))\n",
    "\n",
    "# Model evaluation dictionary\n",
    "MultinomialNB_CountVectorizer_results = {'Name': \"MultinomialNB CountVectorizer\", \n",
    "                                         \"Training Time\": round(MultinomialNB_CountVectorizer_execution_time, 2),\n",
    "                                         \"Accuracy score\": accuracy_score(y_test, MultinomialNB_CountVectorizer_predictions),\n",
    "                                         \"Precision score\": precision_score(y_test, MultinomialNB_CountVectorizer_predictions),\n",
    "                                         \"Recall score\": recall_score(y_test, MultinomialNB_CountVectorizer_predictions),\n",
    "                                         \"F1 score\": f1_score(y_test, MultinomialNB_CountVectorizer_predictions)}"
   ]
  },
  {
   "cell_type": "code",
   "execution_count": 5,
   "id": "b9e12a05",
   "metadata": {},
   "outputs": [],
   "source": [
    "# Write the results into a pickle file\n",
    "filename = 'results_dict_list_amazon.pickle'\n",
    "\n",
    "results_dict_list = [MultinomialNB_CountVectorizer_results]\n",
    "\n",
    "with open(filename, 'wb') as f:\n",
    "    pickle.dump(results_dict_list, f)  "
   ]
  },
  {
   "cell_type": "markdown",
   "id": "4a6e2dfb",
   "metadata": {},
   "source": [
    "### Part 2. Multinomial Naive Bayes with TF-IDF"
   ]
  },
  {
   "cell_type": "code",
   "execution_count": 6,
   "id": "1a4aaa38",
   "metadata": {},
   "outputs": [
    {
     "name": "stdout",
     "output_type": "stream",
     "text": [
      "MultinomialNB tfidf Training time: 1.06 seconds\n",
      "MultinomialNB tfidf Accuracy score:  0.8452\n",
      "MultinomialNB tfidf Precision score:  0.8450605544990492\n",
      "MultinomialNB tfidf Recall score:  1.0\n",
      "MultinomialNB tfidf F1 score:  0.916024736899208\n"
     ]
    }
   ],
   "source": [
    "# Train test split\n",
    "X_train, X_test, y_train, y_test = train_test_split(reviews_tokenized_joined, labels, test_size = 0.2, random_state = 1)\n",
    "\n",
    "MultinomialNB_tfidf_start_time = time.time()\n",
    "\n",
    "# TF-IDF feature transformation\n",
    "tfidf = TfidfVectorizer(stop_words = 'english', binary = False)\n",
    "\n",
    "training_data = tfidf.fit_transform(X_train)\n",
    "test_data = tfidf.transform(X_test)\n",
    "\n",
    "# Multinomial Naive Bayes model predictions\n",
    "naive_bayes = MultinomialNB()\n",
    "naive_bayes.fit(training_data, y_train)\n",
    "\n",
    "MultinomialNB_tfidf_predictions = naive_bayes.predict(test_data)\n",
    "\n",
    "MultinomialNB_tfidf_end_time = time.time()\n",
    "MultinomialNB_tfidf_execution_time = MultinomialNB_tfidf_end_time - MultinomialNB_tfidf_start_time\n",
    "\n",
    "# Model evaluation\n",
    "print('MultinomialNB tfidf Training time: {} seconds'. format(round(MultinomialNB_tfidf_execution_time, 2)))\n",
    "print('MultinomialNB tfidf Accuracy score: ', format(accuracy_score(y_test, MultinomialNB_tfidf_predictions)))\n",
    "print('MultinomialNB tfidf Precision score: ', format(precision_score(y_test, MultinomialNB_tfidf_predictions)))\n",
    "print('MultinomialNB tfidf Recall score: ', format(recall_score(y_test, MultinomialNB_tfidf_predictions)))\n",
    "print('MultinomialNB tfidf F1 score: ', format(f1_score(y_test, MultinomialNB_tfidf_predictions)))\n",
    "\n",
    "# Model evaluation dictionary\n",
    "MultinomialNB_tfidf_results = {'Name': \"MultinomialNB tfidf\", \n",
    "                                         \"Training Time\": round(MultinomialNB_tfidf_execution_time, 2),\n",
    "                                         \"Accuracy score\": accuracy_score(y_test, MultinomialNB_tfidf_predictions),\n",
    "                                         \"Precision score\": precision_score(y_test, MultinomialNB_tfidf_predictions),\n",
    "                                         \"Recall score\": recall_score(y_test, MultinomialNB_tfidf_predictions),\n",
    "                                         \"F1 score\": f1_score(y_test, MultinomialNB_tfidf_predictions)}"
   ]
  },
  {
   "cell_type": "code",
   "execution_count": 7,
   "id": "3411838c",
   "metadata": {},
   "outputs": [],
   "source": [
    "# Update the results pickle file\n",
    "def update_the_results_file(model_name, filename=filename):\n",
    "  with open(filename, 'rb') as f:\n",
    "    results_dict_list = pickle.load(f)\n",
    "    \n",
    "  results_dict_list.append(model_name)\n",
    "\n",
    "  with open(filename, 'wb') as f:\n",
    "      pickle.dump(results_dict_list, f)\n",
    "      \n",
    "update_the_results_file(model_name = MultinomialNB_tfidf_results)"
   ]
  },
  {
   "cell_type": "markdown",
   "id": "e37be04f",
   "metadata": {},
   "source": [
    "### Part 3. Vaders sentiment classifier"
   ]
  },
  {
   "cell_type": "markdown",
   "id": "aca657fc",
   "metadata": {},
   "source": [
    "#### Extra preprocessing step"
   ]
  },
  {
   "cell_type": "code",
   "execution_count": 8,
   "id": "2d597b90",
   "metadata": {},
   "outputs": [
    {
     "data": {
      "text/html": [
       "<div>\n",
       "<style scoped>\n",
       "    .dataframe tbody tr th:only-of-type {\n",
       "        vertical-align: middle;\n",
       "    }\n",
       "\n",
       "    .dataframe tbody tr th {\n",
       "        vertical-align: top;\n",
       "    }\n",
       "\n",
       "    .dataframe thead th {\n",
       "        text-align: right;\n",
       "    }\n",
       "</style>\n",
       "<table border=\"1\" class=\"dataframe\">\n",
       "  <thead>\n",
       "    <tr style=\"text-align: right;\">\n",
       "      <th></th>\n",
       "      <th>Id</th>\n",
       "      <th>Text</th>\n",
       "      <th>Label</th>\n",
       "    </tr>\n",
       "  </thead>\n",
       "  <tbody>\n",
       "    <tr>\n",
       "      <th>0</th>\n",
       "      <td>1</td>\n",
       "      <td>I have bought several of the Vitality canned d...</td>\n",
       "      <td>1</td>\n",
       "    </tr>\n",
       "    <tr>\n",
       "      <th>1</th>\n",
       "      <td>2</td>\n",
       "      <td>Product arrived labeled as Jumbo Salted Peanut...</td>\n",
       "      <td>0</td>\n",
       "    </tr>\n",
       "    <tr>\n",
       "      <th>2</th>\n",
       "      <td>3</td>\n",
       "      <td>This is a confection that has been around a fe...</td>\n",
       "      <td>1</td>\n",
       "    </tr>\n",
       "    <tr>\n",
       "      <th>3</th>\n",
       "      <td>4</td>\n",
       "      <td>If you are looking for the secret ingredient i...</td>\n",
       "      <td>0</td>\n",
       "    </tr>\n",
       "    <tr>\n",
       "      <th>4</th>\n",
       "      <td>5</td>\n",
       "      <td>Great taffy at a great price  There was a wide...</td>\n",
       "      <td>1</td>\n",
       "    </tr>\n",
       "  </tbody>\n",
       "</table>\n",
       "</div>"
      ],
      "text/plain": [
       "   Id                                               Text  Label\n",
       "0   1  I have bought several of the Vitality canned d...      1\n",
       "1   2  Product arrived labeled as Jumbo Salted Peanut...      0\n",
       "2   3  This is a confection that has been around a fe...      1\n",
       "3   4  If you are looking for the secret ingredient i...      0\n",
       "4   5  Great taffy at a great price  There was a wide...      1"
      ]
     },
     "execution_count": 8,
     "metadata": {},
     "output_type": "execute_result"
    }
   ],
   "source": [
    "# Create dataframe for convenience\n",
    "df = pd.DataFrame({'Text': reviews, 'Label': labels})\n",
    "df = df.reset_index()\n",
    "df['Id'] = df['index'] + 1\n",
    "df.drop('index', axis = 1, inplace = True)\n",
    "df = df[['Id', 'Text', 'Label']]\n",
    "df.head()"
   ]
  },
  {
   "cell_type": "code",
   "execution_count": 9,
   "id": "b701d5c2",
   "metadata": {},
   "outputs": [
    {
     "data": {
      "application/vnd.jupyter.widget-view+json": {
       "model_id": "9ca86567577e49d6801d0fb986bffdcb",
       "version_major": 2,
       "version_minor": 0
      },
      "text/plain": [
       "  0%|          | 0/50000 [00:00<?, ?it/s]"
      ]
     },
     "metadata": {},
     "output_type": "display_data"
    },
    {
     "data": {
      "text/html": [
       "<div>\n",
       "<style scoped>\n",
       "    .dataframe tbody tr th:only-of-type {\n",
       "        vertical-align: middle;\n",
       "    }\n",
       "\n",
       "    .dataframe tbody tr th {\n",
       "        vertical-align: top;\n",
       "    }\n",
       "\n",
       "    .dataframe thead th {\n",
       "        text-align: right;\n",
       "    }\n",
       "</style>\n",
       "<table border=\"1\" class=\"dataframe\">\n",
       "  <thead>\n",
       "    <tr style=\"text-align: right;\">\n",
       "      <th></th>\n",
       "      <th>Id</th>\n",
       "      <th>neg</th>\n",
       "      <th>neu</th>\n",
       "      <th>pos</th>\n",
       "      <th>compound</th>\n",
       "      <th>Text</th>\n",
       "      <th>Label</th>\n",
       "      <th>Predicted_Label</th>\n",
       "    </tr>\n",
       "  </thead>\n",
       "  <tbody>\n",
       "    <tr>\n",
       "      <th>0</th>\n",
       "      <td>1</td>\n",
       "      <td>0.000</td>\n",
       "      <td>0.695</td>\n",
       "      <td>0.305</td>\n",
       "      <td>0.9441</td>\n",
       "      <td>I have bought several of the Vitality canned d...</td>\n",
       "      <td>1</td>\n",
       "      <td>1</td>\n",
       "    </tr>\n",
       "    <tr>\n",
       "      <th>1</th>\n",
       "      <td>2</td>\n",
       "      <td>0.138</td>\n",
       "      <td>0.862</td>\n",
       "      <td>0.000</td>\n",
       "      <td>-0.5664</td>\n",
       "      <td>Product arrived labeled as Jumbo Salted Peanut...</td>\n",
       "      <td>0</td>\n",
       "      <td>0</td>\n",
       "    </tr>\n",
       "    <tr>\n",
       "      <th>2</th>\n",
       "      <td>3</td>\n",
       "      <td>0.091</td>\n",
       "      <td>0.754</td>\n",
       "      <td>0.155</td>\n",
       "      <td>0.8265</td>\n",
       "      <td>This is a confection that has been around a fe...</td>\n",
       "      <td>1</td>\n",
       "      <td>1</td>\n",
       "    </tr>\n",
       "    <tr>\n",
       "      <th>3</th>\n",
       "      <td>4</td>\n",
       "      <td>0.000</td>\n",
       "      <td>0.925</td>\n",
       "      <td>0.075</td>\n",
       "      <td>0.4404</td>\n",
       "      <td>If you are looking for the secret ingredient i...</td>\n",
       "      <td>0</td>\n",
       "      <td>1</td>\n",
       "    </tr>\n",
       "    <tr>\n",
       "      <th>4</th>\n",
       "      <td>5</td>\n",
       "      <td>0.000</td>\n",
       "      <td>0.552</td>\n",
       "      <td>0.448</td>\n",
       "      <td>0.9468</td>\n",
       "      <td>Great taffy at a great price  There was a wide...</td>\n",
       "      <td>1</td>\n",
       "      <td>1</td>\n",
       "    </tr>\n",
       "  </tbody>\n",
       "</table>\n",
       "</div>"
      ],
      "text/plain": [
       "   Id    neg    neu    pos  compound  \\\n",
       "0   1  0.000  0.695  0.305    0.9441   \n",
       "1   2  0.138  0.862  0.000   -0.5664   \n",
       "2   3  0.091  0.754  0.155    0.8265   \n",
       "3   4  0.000  0.925  0.075    0.4404   \n",
       "4   5  0.000  0.552  0.448    0.9468   \n",
       "\n",
       "                                                Text  Label  Predicted_Label  \n",
       "0  I have bought several of the Vitality canned d...      1                1  \n",
       "1  Product arrived labeled as Jumbo Salted Peanut...      0                0  \n",
       "2  This is a confection that has been around a fe...      1                1  \n",
       "3  If you are looking for the secret ingredient i...      0                1  \n",
       "4  Great taffy at a great price  There was a wide...      1                1  "
      ]
     },
     "execution_count": 9,
     "metadata": {},
     "output_type": "execute_result"
    }
   ],
   "source": [
    "vader_start_time = time.time()\n",
    "\n",
    "# Define Vader Sentiment analyzer model\n",
    "sia = SentimentIntensityAnalyzer()\n",
    "\n",
    "# Get the results\n",
    "res = {}\n",
    "for i, row in tqdm(df.iterrows(), total = len(df)):\n",
    "  text = row['Text']\n",
    "  myid = row['Id']\n",
    "  res[myid] = sia.polarity_scores(text)\n",
    "  \n",
    "vaders = pd.DataFrame(res).T\n",
    "vaders = vaders.reset_index().rename(columns = {'index': 'Id'})\n",
    "vaders = vaders.merge(df, how = 'left')\n",
    "vaders['Predicted_Label'] = np.where(vaders['compound'] >= 0, 1, 0)\n",
    "\n",
    "vader_end_time = time.time()\n",
    "vader_execution_time = vader_end_time - vader_start_time\n",
    "\n",
    "vaders.head()"
   ]
  },
  {
   "cell_type": "code",
   "execution_count": 10,
   "id": "4a085038",
   "metadata": {},
   "outputs": [
    {
     "name": "stdout",
     "output_type": "stream",
     "text": [
      "Vader Training time: 25.44 seconds\n",
      "Vader Accuracy score:  0.86324\n",
      "Vader Precision score:  0.9009430777195075\n",
      "Vader Recall score:  0.942611562463205\n",
      "Vader F1 score:  0.9213064193154878\n"
     ]
    }
   ],
   "source": [
    "# Model evaluation\n",
    "print('Vader Training time: {} seconds'. format(round(vader_execution_time, 2)))\n",
    "print('Vader Accuracy score: ', format(accuracy_score(vaders['Label'], vaders['Predicted_Label'])))\n",
    "print('Vader Precision score: ', format(precision_score(vaders['Label'], vaders['Predicted_Label'])))\n",
    "print('Vader Recall score: ', format(recall_score(vaders['Label'], vaders['Predicted_Label'])))\n",
    "print('Vader F1 score: ', format(f1_score(vaders['Label'], vaders['Predicted_Label'])))\n",
    "\n",
    "# Model evaluation dictionary\n",
    "vader_results = {'Name': \"Vaders Analyser\", \n",
    "                                         \"Training Time\": round(vader_execution_time, 2),\n",
    "                                         \"Accuracy score\": accuracy_score(vaders['Label'], vaders['Predicted_Label']),\n",
    "                                         \"Precision score\": precision_score(vaders['Label'], vaders['Predicted_Label']),\n",
    "                                         \"Recall score\": recall_score(vaders['Label'], vaders['Predicted_Label']),\n",
    "                                         \"F1 score\": f1_score(vaders['Label'], vaders['Predicted_Label'])}"
   ]
  },
  {
   "cell_type": "code",
   "execution_count": 11,
   "id": "9401d383",
   "metadata": {},
   "outputs": [],
   "source": [
    "update_the_results_file(model_name = vader_results)"
   ]
  },
  {
   "cell_type": "markdown",
   "id": "00e24739",
   "metadata": {},
   "source": [
    "### Part 4. RNN manual implementation"
   ]
  },
  {
   "cell_type": "code",
   "execution_count": 12,
   "id": "e170bccc",
   "metadata": {},
   "outputs": [],
   "source": [
    "# Create vocabulary, word2index reference and convert the reviews into numerical form\n",
    "vocab_size = 10000\n",
    "\n",
    "word_counter = Counter(reviews_unrolled)\n",
    "word_counter = dict(word_counter.most_common(vocab_size))\n",
    "word2index = {k:i for i,k in enumerate(word_counter.keys(), start = 3)}\n",
    "\n",
    "# Convert reveies to integers\n",
    "reviews_int = []\n",
    "for review in reviews_tokenized:\n",
    "  cur_review = [1]\n",
    "  for word in review:\n",
    "    if word in word2index.keys():\n",
    "      cur_review.append(word2index[word])\n",
    "    else:\n",
    "      cur_review.append(2)\n",
    "  reviews_int.append(cur_review)\n",
    "  \n",
    "# Pad sequences\n",
    "padded_reviews = pad_sequences(reviews_int, maxlen = 500, padding = 'pre', truncating = 'pre')\n",
    "\n",
    "# Train test split on padded sequences\n",
    "X_train, X_test, y_train, y_test = train_test_split(padded_reviews, labels, test_size = 0.2, random_state = 1)\n",
    "\n",
    "X_train = np.array(X_train).reshape(40000, 500)\n",
    "X_test = np.array(X_test).reshape(10000, 500)\n",
    "\n",
    "y_train = np.array(y_train).reshape(40000, 1)\n",
    "y_test = np.array(y_test).reshape(10000, 1)"
   ]
  },
  {
   "cell_type": "code",
   "execution_count": 13,
   "id": "b5fe7901",
   "metadata": {},
   "outputs": [
    {
     "name": "stdout",
     "output_type": "stream",
     "text": [
      "Model: \"model\"\n",
      "_________________________________________________________________\n",
      " Layer (type)                Output Shape              Param #   \n",
      "=================================================================\n",
      " input_1 (InputLayer)        [(None, 500)]             0         \n",
      "                                                                 \n",
      " embedding (Embedding)       (None, 500, 128)          1280000   \n",
      "                                                                 \n",
      " conv1d (Conv1D)             (None, 500, 200)          333000    \n",
      "                                                                 \n",
      " batch_normalization (BatchN  (None, 500, 200)         800       \n",
      " ormalization)                                                   \n",
      "                                                                 \n",
      " dropout (Dropout)           (None, 500, 200)          0         \n",
      "                                                                 \n",
      " gru (GRU)                   (None, 500, 128)          126720    \n",
      "                                                                 \n",
      " batch_normalization_1 (Batc  (None, 500, 128)         512       \n",
      " hNormalization)                                                 \n",
      "                                                                 \n",
      " dropout_1 (Dropout)         (None, 500, 128)          0         \n",
      "                                                                 \n",
      " gru_1 (GRU)                 (None, 128)               99072     \n",
      "                                                                 \n",
      " batch_normalization_2 (Batc  (None, 128)              512       \n",
      " hNormalization)                                                 \n",
      "                                                                 \n",
      " dropout_2 (Dropout)         (None, 128)               0         \n",
      "                                                                 \n",
      " dense (Dense)               (None, 512)               66048     \n",
      "                                                                 \n",
      " dropout_3 (Dropout)         (None, 512)               0         \n",
      "                                                                 \n",
      " dense_1 (Dense)             (None, 1)                 513       \n",
      "                                                                 \n",
      "=================================================================\n",
      "Total params: 1,907,177\n",
      "Trainable params: 1,906,265\n",
      "Non-trainable params: 912\n",
      "_________________________________________________________________\n"
     ]
    }
   ],
   "source": [
    "# Define the model\n",
    "dropout_rate = 0.5\n",
    "\n",
    "# Model checkpoint callback\n",
    "checkpoint = ModelCheckpoint(filepath='best_RNN_manual_model_amazon.h5', \n",
    "                             monitor='val_loss', \n",
    "                             save_best_only=True,\n",
    "                             save_weights_only=False,\n",
    "                             mode='auto')\n",
    "\n",
    "# Early stopping callback\n",
    "early_stop = EarlyStopping(monitor='val_loss', \n",
    "                           patience=3, \n",
    "                           verbose=1, \n",
    "                           restore_best_weights=True)\n",
    "\n",
    "inputs = Input(shape = (X_train.shape[1:]))\n",
    "mask = tf.keras.layers.Lambda(lambda inputs: K.not_equal(inputs, 0))(inputs)\n",
    "x = Embedding(input_dim = vocab_size, output_dim = 128, input_length = 200)(inputs)\n",
    "x = Conv1D(filters = 200, kernel_size = 13, strides = 1, padding = 'same', activation = 'relu')(x)\n",
    "x = BatchNormalization()(x)\n",
    "x = Dropout(dropout_rate)(x)\n",
    "x = GRU(128, return_sequences = True)(x)\n",
    "x = BatchNormalization()(x)\n",
    "x = Dropout(dropout_rate)(x)\n",
    "x = GRU(128, return_sequences = False)(x)\n",
    "x = BatchNormalization()(x)\n",
    "x = Dropout(dropout_rate)(x)\n",
    "x = Dense(512, activation = 'relu')(x)\n",
    "x = Dropout(dropout_rate)(x)\n",
    "outputs = Dense(1, activation = 'sigmoid')(x)\n",
    "\n",
    "model = Model(inputs = inputs, outputs = outputs)\n",
    "\n",
    "model.compile(optimizer = tf.keras.optimizers.Adam(learning_rate = 0.001), loss = 'binary_crossentropy', metrics = ['accuracy'])\n",
    "\n",
    "# Print model summary\n",
    "model.summary()"
   ]
  },
  {
   "cell_type": "code",
   "execution_count": 14,
   "id": "651cd820",
   "metadata": {},
   "outputs": [
    {
     "name": "stdout",
     "output_type": "stream",
     "text": [
      "Epoch 1/10\n",
      "313/313 [==============================] - 34s 81ms/step - loss: 0.4625 - accuracy: 0.8424 - val_loss: 0.4269 - val_accuracy: 0.8443\n",
      "Epoch 2/10\n",
      "313/313 [==============================] - 25s 79ms/step - loss: 0.2865 - accuracy: 0.8802 - val_loss: 0.4784 - val_accuracy: 0.7572\n",
      "Epoch 3/10\n",
      "313/313 [==============================] - 26s 84ms/step - loss: 0.2091 - accuracy: 0.9164 - val_loss: 0.3054 - val_accuracy: 0.8697\n",
      "Epoch 4/10\n",
      "313/313 [==============================] - 25s 80ms/step - loss: 0.1729 - accuracy: 0.9325 - val_loss: 0.2543 - val_accuracy: 0.9033\n",
      "Epoch 5/10\n",
      "313/313 [==============================] - 26s 84ms/step - loss: 0.1386 - accuracy: 0.9480 - val_loss: 0.2836 - val_accuracy: 0.9030\n",
      "Epoch 6/10\n",
      "313/313 [==============================] - 26s 85ms/step - loss: 0.1084 - accuracy: 0.9607 - val_loss: 0.3053 - val_accuracy: 0.9005\n",
      "Epoch 7/10\n",
      "312/313 [============================>.] - ETA: 0s - loss: 0.0839 - accuracy: 0.9699Restoring model weights from the end of the best epoch: 4.\n",
      "313/313 [==============================] - 25s 78ms/step - loss: 0.0840 - accuracy: 0.9699 - val_loss: 0.4146 - val_accuracy: 0.8522\n",
      "Epoch 7: early stopping\n"
     ]
    }
   ],
   "source": [
    "# Train the model\n",
    "Manual_RNN_start_time = time.time()\n",
    "\n",
    "history = model.fit(X_train, y_train, epochs = 10, batch_size = 128, validation_data = (X_test, y_test), callbacks = [checkpoint, early_stop])\n",
    "\n",
    "Manual_RNN_end_time = time.time()\n",
    "Manual_RNN_execution_time = Manual_RNN_end_time - Manual_RNN_start_time"
   ]
  },
  {
   "cell_type": "code",
   "execution_count": 15,
   "id": "ab08bdf9",
   "metadata": {},
   "outputs": [
    {
     "name": "stdout",
     "output_type": "stream",
     "text": [
      "313/313 [==============================] - 5s 14ms/step\n",
      "Manual RNN Training time: 187.75 seconds\n",
      "Manual RNN Accuracy score:  0.9033\n",
      "Manual RNN Precision score:  0.9179338103756708\n",
      "Manual RNN Recall score:  0.9724031742271705\n",
      "Manual RNN F1 score:  0.9443837349744062\n"
     ]
    }
   ],
   "source": [
    "# Model predictions\n",
    "Manual_RNN_predictions = model.predict(X_test)\n",
    "\n",
    "Manual_RNN_predictions_results = []\n",
    "for i in Manual_RNN_predictions:\n",
    "  if i[0] >= 0.5:\n",
    "    Manual_RNN_predictions_results.append(1)\n",
    "  else:\n",
    "    Manual_RNN_predictions_results.append(0)\n",
    "\n",
    "# Model evaluation\n",
    "print('Manual RNN Training time: {} seconds'. format(round(Manual_RNN_execution_time, 2)))\n",
    "print('Manual RNN Accuracy score: ', format(accuracy_score(y_test, Manual_RNN_predictions_results)))\n",
    "print('Manual RNN Precision score: ', format(precision_score(y_test, Manual_RNN_predictions_results)))\n",
    "print('Manual RNN Recall score: ', format(recall_score(y_test, Manual_RNN_predictions_results)))\n",
    "print('Manual RNN F1 score: ', format(f1_score(y_test, Manual_RNN_predictions_results)))\n",
    "\n",
    "# Model evaluation dictionary\n",
    "Manual_RNN_results = {'Name': \"Manual RNN\", \n",
    "                 \"Training Time\": round(Manual_RNN_execution_time, 2),\n",
    "                 \"Accuracy score\": accuracy_score(y_test, Manual_RNN_predictions_results),\n",
    "                 \"Precision score\": precision_score(y_test, Manual_RNN_predictions_results),\n",
    "                 \"Recall score\": recall_score(y_test, Manual_RNN_predictions_results),\n",
    "                 \"F1 score\": f1_score(y_test, Manual_RNN_predictions_results)}"
   ]
  },
  {
   "cell_type": "code",
   "execution_count": 16,
   "id": "f3ab835b",
   "metadata": {},
   "outputs": [],
   "source": [
    "update_the_results_file(model_name = Manual_RNN_results)"
   ]
  },
  {
   "cell_type": "markdown",
   "id": "75753bf1",
   "metadata": {},
   "source": [
    "### Part 5. Universal Sentence encoder transfer learning"
   ]
  },
  {
   "cell_type": "code",
   "execution_count": 17,
   "id": "7baafb7e",
   "metadata": {},
   "outputs": [],
   "source": [
    "# Train test split\n",
    "X_train, X_test, y_train, y_test = train_test_split(reviews_tokenized_joined, labels, test_size = 0.2, random_state = 1)\n",
    "\n",
    "X_train = np.array(X_train)\n",
    "X_test = np.array(X_test)\n",
    "\n",
    "y_train = np.array(y_train).reshape(40000, 1)\n",
    "y_test = np.array(y_test).reshape(10000, 1)"
   ]
  },
  {
   "cell_type": "code",
   "execution_count": 18,
   "id": "8db54265",
   "metadata": {},
   "outputs": [
    {
     "name": "stdout",
     "output_type": "stream",
     "text": [
      "WARNING:tensorflow:Please fix your imports. Module tensorflow.python.training.tracking.data_structures has been moved to tensorflow.python.trackable.data_structures. The old module will be deleted in version 2.11.\n",
      "Model: \"sequential\"\n",
      "_________________________________________________________________\n",
      " Layer (type)                Output Shape              Param #   \n",
      "=================================================================\n",
      " keras_layer (KerasLayer)    (None, 512)               256797824 \n",
      "                                                                 \n",
      " dense_2 (Dense)             (None, 1024)              525312    \n",
      "                                                                 \n",
      " dense_3 (Dense)             (None, 1024)              1049600   \n",
      "                                                                 \n",
      " dense_4 (Dense)             (None, 1)                 1025      \n",
      "                                                                 \n",
      "=================================================================\n",
      "Total params: 258,373,761\n",
      "Trainable params: 1,575,937\n",
      "Non-trainable params: 256,797,824\n",
      "_________________________________________________________________\n"
     ]
    }
   ],
   "source": [
    "# Download the Universal Sentence encoder layer for transfer learning\n",
    "sentence_encoder_layer = hub.KerasLayer('https://tfhub.dev/google/universal-sentence-encoder/4',\n",
    "                                         input_shape = [],\n",
    "                                         dtype=tf.string,\n",
    "                                         trainable = False)\n",
    "\n",
    "# Model checkpoint callback\n",
    "checkpoint = ModelCheckpoint(filepath='best_sentence_encoder_model_amazon.h5', \n",
    "                             monitor='val_loss', \n",
    "                             save_best_only=True,\n",
    "                             save_weights_only=False,\n",
    "                             mode='auto')\n",
    "\n",
    "# Early stopping callback\n",
    "early_stop = EarlyStopping(monitor='val_loss', \n",
    "                           patience=3, \n",
    "                           verbose=1, \n",
    "                           restore_best_weights=True)\n",
    "\n",
    "# Define the model\n",
    "model = Sequential([\n",
    "  sentence_encoder_layer,\n",
    "  Dense(1024, activation = 'relu'),\n",
    "  Dense(1024, activation = 'relu'),\n",
    "  Dense(1, activation = 'sigmoid')\n",
    "])\n",
    "\n",
    "model.compile(optimizer = tf.keras.optimizers.Adam(learning_rate = 0.001), loss = 'binary_crossentropy', metrics = ['accuracy'])\n",
    "\n",
    "model.summary()"
   ]
  },
  {
   "cell_type": "code",
   "execution_count": 19,
   "id": "17bb9f8a",
   "metadata": {},
   "outputs": [
    {
     "name": "stdout",
     "output_type": "stream",
     "text": [
      "Epoch 1/10\n",
      "313/313 [==============================] - 20s 54ms/step - loss: 0.3105 - accuracy: 0.8722 - val_loss: 0.2901 - val_accuracy: 0.8785\n",
      "Epoch 2/10\n",
      "313/313 [==============================] - 16s 50ms/step - loss: 0.2749 - accuracy: 0.8881 - val_loss: 0.2827 - val_accuracy: 0.8820\n",
      "Epoch 3/10\n",
      "313/313 [==============================] - 15s 49ms/step - loss: 0.2431 - accuracy: 0.9008 - val_loss: 0.2917 - val_accuracy: 0.8813\n",
      "Epoch 4/10\n",
      "313/313 [==============================] - 13s 43ms/step - loss: 0.2019 - accuracy: 0.9200 - val_loss: 0.3125 - val_accuracy: 0.8787\n",
      "Epoch 5/10\n",
      "311/313 [============================>.] - ETA: 0s - loss: 0.1543 - accuracy: 0.9404Restoring model weights from the end of the best epoch: 2.\n",
      "313/313 [==============================] - 14s 44ms/step - loss: 0.1540 - accuracy: 0.9405 - val_loss: 0.3410 - val_accuracy: 0.8846\n",
      "Epoch 5: early stopping\n"
     ]
    }
   ],
   "source": [
    "# Train the model\n",
    "Sentence_encoder_start_time = time.time()\n",
    "\n",
    "history = model.fit(X_train, y_train, epochs = 10, batch_size = 128, validation_data = (X_test, y_test), callbacks = [checkpoint, early_stop])\n",
    "\n",
    "Sentence_encoder_end_time = time.time()\n",
    "Sentence_encoder_execution_time = Sentence_encoder_end_time - Sentence_encoder_start_time"
   ]
  },
  {
   "cell_type": "code",
   "execution_count": 20,
   "id": "c6760e83",
   "metadata": {},
   "outputs": [
    {
     "name": "stdout",
     "output_type": "stream",
     "text": [
      "313/313 [==============================] - 3s 10ms/step\n",
      "Sentence encoder Training time: 77.77 seconds\n",
      "Sentence encoder Accuracy score:  0.8821\n",
      "Sentence encoder Precision score:  0.8915480810694265\n",
      "Sentence encoder Recall score:  0.9795096529669549\n",
      "Sentence encoder F1 score:  0.9334612562785711\n"
     ]
    }
   ],
   "source": [
    "# Model predictions\n",
    "Sentence_encoder_predictions = model.predict(X_test)\n",
    "\n",
    "Sentence_encoder_predictions_results = []\n",
    "for i in Sentence_encoder_predictions:\n",
    "  if i[0] >= 0.5:\n",
    "    Sentence_encoder_predictions_results.append(1)\n",
    "  else:\n",
    "    Sentence_encoder_predictions_results.append(0)\n",
    "    \n",
    "# Model evaluation\n",
    "print('Sentence encoder Training time: {} seconds'. format(round(Sentence_encoder_execution_time, 2)))\n",
    "print('Sentence encoder Accuracy score: ', format(accuracy_score(y_test, Sentence_encoder_predictions_results)))\n",
    "print('Sentence encoder Precision score: ', format(precision_score(y_test, Sentence_encoder_predictions_results)))\n",
    "print('Sentence encoder Recall score: ', format(recall_score(y_test, Sentence_encoder_predictions_results)))\n",
    "print('Sentence encoder F1 score: ', format(f1_score(y_test, Sentence_encoder_predictions_results)))\n",
    "\n",
    "# Model evaluation dictionary\n",
    "Sentence_encoder_results = {'Name': \"Sentence encoder\", \n",
    "                 \"Training Time\": round(Sentence_encoder_execution_time, 2),\n",
    "                 \"Accuracy score\": accuracy_score(y_test, Sentence_encoder_predictions_results),\n",
    "                 \"Precision score\": precision_score(y_test, Sentence_encoder_predictions_results),\n",
    "                 \"Recall score\": recall_score(y_test, Sentence_encoder_predictions_results),\n",
    "                 \"F1 score\": f1_score(y_test, Sentence_encoder_predictions_results)}"
   ]
  },
  {
   "cell_type": "code",
   "execution_count": 21,
   "id": "23e26b47",
   "metadata": {},
   "outputs": [],
   "source": [
    "update_the_results_file(model_name = Sentence_encoder_results)"
   ]
  },
  {
   "cell_type": "markdown",
   "id": "11d88c8a",
   "metadata": {},
   "source": [
    "### Part 6. Roberta Huggingface model"
   ]
  },
  {
   "cell_type": "code",
   "execution_count": 22,
   "id": "c3931689",
   "metadata": {},
   "outputs": [
    {
     "name": "stderr",
     "output_type": "stream",
     "text": [
      "All model checkpoint layers were used when initializing TFRobertaForSequenceClassification.\n",
      "\n",
      "All the layers of TFRobertaForSequenceClassification were initialized from the model checkpoint at cardiffnlp/twitter-roberta-base-sentiment.\n",
      "If your task is similar to the task the model of the checkpoint was trained on, you can already use TFRobertaForSequenceClassification for predictions without further training.\n"
     ]
    }
   ],
   "source": [
    "# Download the pretrained model\n",
    "MODEL = f'cardiffnlp/twitter-roberta-base-sentiment'\n",
    "tokenizer = AutoTokenizer.from_pretrained(MODEL)\n",
    "model = TFAutoModelForSequenceClassification.from_pretrained(MODEL)"
   ]
  },
  {
   "cell_type": "code",
   "execution_count": 23,
   "id": "64f296f4",
   "metadata": {},
   "outputs": [],
   "source": [
    "# Auxillary polarity scores function\n",
    "def polarity_scores_roberta(example):\n",
    "  encoded_text = tokenizer(example, return_tensors = 'tf')\n",
    "  output = model(**encoded_text)\n",
    "  scores = output[0][0].numpy()\n",
    "  scores = softmax(scores)\n",
    "  scores_dict = {\n",
    "    'roberta_neg': scores[0],\n",
    "    'roberta_neu': scores[1],\n",
    "    'roberta_pos': scores[2]\n",
    "  }\n",
    "  return scores_dict"
   ]
  },
  {
   "cell_type": "code",
   "execution_count": 24,
   "id": "4019a4df",
   "metadata": {},
   "outputs": [
    {
     "data": {
      "application/vnd.jupyter.widget-view+json": {
       "model_id": "91d8a8bd35834566803cec5c218ffd2b",
       "version_major": 2,
       "version_minor": 0
      },
      "text/plain": [
       "  0%|          | 0/50000 [00:00<?, ?it/s]"
      ]
     },
     "metadata": {},
     "output_type": "display_data"
    }
   ],
   "source": [
    "# Predict results with each of the rows in the dataframe\n",
    "\n",
    "Roberta_start_time = time.time()\n",
    "\n",
    "res = {}\n",
    "for i, row in tqdm(df.iterrows(), total = len(df)):\n",
    "    text = row['Text']\n",
    "    myid = row['Id']\n",
    "    vader_result = sia.polarity_scores(text)\n",
    "\n",
    "    vader_result_rename = {}\n",
    "    for key, value in vader_result.items():\n",
    "      vader_result_rename[f'vader_{key}'] = value\n",
    "\n",
    "    roberta_result = polarity_scores_roberta(text)\n",
    "    both_results = {**vader_result_rename, **roberta_result}\n",
    "    res[myid] = both_results\n",
    "    \n",
    "Roberta_end_time = time.time()\n",
    "Roberta_execution_time = Roberta_end_time - Roberta_start_time"
   ]
  },
  {
   "cell_type": "code",
   "execution_count": 25,
   "id": "e707555c",
   "metadata": {},
   "outputs": [
    {
     "data": {
      "text/html": [
       "<div>\n",
       "<style scoped>\n",
       "    .dataframe tbody tr th:only-of-type {\n",
       "        vertical-align: middle;\n",
       "    }\n",
       "\n",
       "    .dataframe tbody tr th {\n",
       "        vertical-align: top;\n",
       "    }\n",
       "\n",
       "    .dataframe thead th {\n",
       "        text-align: right;\n",
       "    }\n",
       "</style>\n",
       "<table border=\"1\" class=\"dataframe\">\n",
       "  <thead>\n",
       "    <tr style=\"text-align: right;\">\n",
       "      <th></th>\n",
       "      <th>Id</th>\n",
       "      <th>vader_neg</th>\n",
       "      <th>vader_neu</th>\n",
       "      <th>vader_pos</th>\n",
       "      <th>vader_compound</th>\n",
       "      <th>roberta_neg</th>\n",
       "      <th>roberta_neu</th>\n",
       "      <th>roberta_pos</th>\n",
       "      <th>Text</th>\n",
       "      <th>Label</th>\n",
       "      <th>Predicted_Label</th>\n",
       "      <th>Roberta_Predictions</th>\n",
       "    </tr>\n",
       "  </thead>\n",
       "  <tbody>\n",
       "    <tr>\n",
       "      <th>0</th>\n",
       "      <td>1</td>\n",
       "      <td>0.000</td>\n",
       "      <td>0.695</td>\n",
       "      <td>0.305</td>\n",
       "      <td>0.9441</td>\n",
       "      <td>0.006348</td>\n",
       "      <td>0.036530</td>\n",
       "      <td>0.957031</td>\n",
       "      <td>I have bought several of the Vitality canned d...</td>\n",
       "      <td>1</td>\n",
       "      <td>1</td>\n",
       "      <td>1</td>\n",
       "    </tr>\n",
       "    <tr>\n",
       "      <th>1</th>\n",
       "      <td>2</td>\n",
       "      <td>0.138</td>\n",
       "      <td>0.862</td>\n",
       "      <td>0.000</td>\n",
       "      <td>-0.5664</td>\n",
       "      <td>0.442627</td>\n",
       "      <td>0.523926</td>\n",
       "      <td>0.033356</td>\n",
       "      <td>Product arrived labeled as Jumbo Salted Peanut...</td>\n",
       "      <td>0</td>\n",
       "      <td>0</td>\n",
       "      <td>0</td>\n",
       "    </tr>\n",
       "    <tr>\n",
       "      <th>2</th>\n",
       "      <td>3</td>\n",
       "      <td>0.091</td>\n",
       "      <td>0.754</td>\n",
       "      <td>0.155</td>\n",
       "      <td>0.8265</td>\n",
       "      <td>0.003088</td>\n",
       "      <td>0.106140</td>\n",
       "      <td>0.890625</td>\n",
       "      <td>This is a confection that has been around a fe...</td>\n",
       "      <td>1</td>\n",
       "      <td>1</td>\n",
       "      <td>1</td>\n",
       "    </tr>\n",
       "  </tbody>\n",
       "</table>\n",
       "</div>"
      ],
      "text/plain": [
       "   Id  vader_neg  vader_neu  vader_pos  vader_compound  roberta_neg  \\\n",
       "0   1      0.000      0.695      0.305          0.9441     0.006348   \n",
       "1   2      0.138      0.862      0.000         -0.5664     0.442627   \n",
       "2   3      0.091      0.754      0.155          0.8265     0.003088   \n",
       "\n",
       "   roberta_neu  roberta_pos  \\\n",
       "0     0.036530     0.957031   \n",
       "1     0.523926     0.033356   \n",
       "2     0.106140     0.890625   \n",
       "\n",
       "                                                Text  Label  Predicted_Label  \\\n",
       "0  I have bought several of the Vitality canned d...      1                1   \n",
       "1  Product arrived labeled as Jumbo Salted Peanut...      0                0   \n",
       "2  This is a confection that has been around a fe...      1                1   \n",
       "\n",
       "   Roberta_Predictions  \n",
       "0                    1  \n",
       "1                    0  \n",
       "2                    1  "
      ]
     },
     "execution_count": 25,
     "metadata": {},
     "output_type": "execute_result"
    }
   ],
   "source": [
    "# Save roberta model results\n",
    "roberta_results = []\n",
    "for i in range(1, len(df) + 1):\n",
    "  roberta_results.append(int(res[i]['roberta_pos'] > res[i]['roberta_neg']))\n",
    "  \n",
    "results_df = pd.DataFrame(res).T\n",
    "results_df = results_df.reset_index().rename(columns = {'index': 'Id'})\n",
    "results_df = results_df.merge(vaders, how = 'left')\n",
    "results_df.drop(['neg', 'neu', 'pos', 'compound'], axis = 1, inplace = True)\n",
    "\n",
    "results_df['Roberta_Predictions'] = results_df['roberta_pos'] > results_df['roberta_neg']\n",
    "results_df['Roberta_Predictions'] = results_df['Roberta_Predictions'].astype(int)\n",
    "results_df.head(3)"
   ]
  },
  {
   "cell_type": "code",
   "execution_count": 26,
   "id": "5d2f89d5",
   "metadata": {},
   "outputs": [
    {
     "name": "stdout",
     "output_type": "stream",
     "text": [
      "Roberta Training time: 7348.07 seconds\n",
      "Roberta Accuracy score:  0.90276\n",
      "Roberta Precision score:  0.9622145192614991\n",
      "Roberta Recall score:  0.9217002237136466\n",
      "Roberta F1 score:  0.9415217339010369\n"
     ]
    }
   ],
   "source": [
    "# Model evaluation\n",
    "print('Roberta Training time: {} seconds'. format(round(Roberta_execution_time, 2)))\n",
    "print('Roberta Accuracy score: ', format(accuracy_score(results_df['Label'], results_df['Roberta_Predictions'])))\n",
    "print('Roberta Precision score: ', format(precision_score(results_df['Label'], results_df['Roberta_Predictions'])))\n",
    "print('Roberta Recall score: ', format(recall_score(results_df['Label'], results_df['Roberta_Predictions'])))\n",
    "print('Roberta F1 score: ', format(f1_score(results_df['Label'], results_df['Roberta_Predictions'])))\n",
    "\n",
    "# Model evaluation dictionary\n",
    "Roberta_results = {'Name': \"Roberta\", \n",
    "                 \"Training Time\": round(Roberta_execution_time, 2),\n",
    "                 \"Accuracy score\": accuracy_score(results_df['Label'], results_df['Roberta_Predictions']),\n",
    "                 \"Precision score\": precision_score(results_df['Label'], results_df['Roberta_Predictions']),\n",
    "                 \"Recall score\": recall_score(results_df['Label'], results_df['Roberta_Predictions']),\n",
    "                 \"F1 score\": f1_score(results_df['Label'], results_df['Roberta_Predictions'])}"
   ]
  },
  {
   "cell_type": "code",
   "execution_count": 27,
   "id": "5bec47a3",
   "metadata": {},
   "outputs": [],
   "source": [
    "update_the_results_file(model_name = Roberta_results)"
   ]
  },
  {
   "cell_type": "markdown",
   "id": "60841c6a",
   "metadata": {},
   "source": [
    "### Part 7. Distilbert Fine Tuned huggingface (native tensorflow)"
   ]
  },
  {
   "cell_type": "code",
   "execution_count": 28,
   "id": "f628a238",
   "metadata": {},
   "outputs": [
    {
     "data": {
      "application/vnd.jupyter.widget-view+json": {
       "model_id": "",
       "version_major": 2,
       "version_minor": 0
      },
      "text/plain": [
       "Map:   0%|          | 0/37500 [00:00<?, ? examples/s]"
      ]
     },
     "metadata": {},
     "output_type": "display_data"
    },
    {
     "data": {
      "application/vnd.jupyter.widget-view+json": {
       "model_id": "",
       "version_major": 2,
       "version_minor": 0
      },
      "text/plain": [
       "Map:   0%|          | 0/12500 [00:00<?, ? examples/s]"
      ]
     },
     "metadata": {},
     "output_type": "display_data"
    }
   ],
   "source": [
    "# Define huggingface dataset object and train test split\n",
    "ds = Dataset.from_dict({'reviews': reviews, 'labels': labels})\n",
    "dataset = ds.train_test_split()\n",
    "\n",
    "# Model name and hyperparameters\n",
    "checkpoint = 'distilbert-base-uncased'\n",
    "batch_size = 8\n",
    "max_length = 300\n",
    "\n",
    "# Tokenizer object\n",
    "tokenizer = AutoTokenizer.from_pretrained(checkpoint)\n",
    "\n",
    "# Tokenization auxillary function\n",
    "def tokenize_function(train_dataset):\n",
    "    return tokenizer(train_dataset['reviews'], padding='max_length', truncation=True, max_length = max_length)\n",
    "  \n",
    "# Tokenized dataset\n",
    "tokenized_dataset = dataset.map(tokenize_function, batched=True)\n",
    "train_dataset = tokenized_dataset['train']\n",
    "test_dataset = tokenized_dataset['test']\n",
    "train_dataset = train_dataset.remove_columns(['reviews']).with_format('tensorflow')\n",
    "test_dataset = test_dataset.remove_columns(['reviews']).with_format('tensorflow')\n",
    "\n",
    "# Training features and tensorflow dataset\n",
    "train_features = {x: train_dataset[x] for x in tokenizer.model_input_names}\n",
    "train_set = tf.data.Dataset.from_tensor_slices((train_features, train_dataset['labels'])).shuffle(1000).batch(batch_size)\n",
    "\n",
    "test_features = {x: test_dataset[x] for x in tokenizer.model_input_names}\n",
    "test_set = tf.data.Dataset.from_tensor_slices((test_features, test_dataset['labels'])).shuffle(1000).batch(batch_size)\n",
    "\n",
    "test_set_for_preds = tf.data.Dataset.from_tensor_slices((test_features, test_dataset['labels'])).batch(batch_size)"
   ]
  },
  {
   "cell_type": "code",
   "execution_count": 29,
   "id": "e689702a",
   "metadata": {},
   "outputs": [
    {
     "name": "stderr",
     "output_type": "stream",
     "text": [
      "Some layers from the model checkpoint at distilbert-base-uncased were not used when initializing TFDistilBertForSequenceClassification: ['activation_13', 'vocab_projector', 'vocab_layer_norm', 'vocab_transform']\n",
      "- This IS expected if you are initializing TFDistilBertForSequenceClassification from the checkpoint of a model trained on another task or with another architecture (e.g. initializing a BertForSequenceClassification model from a BertForPreTraining model).\n",
      "- This IS NOT expected if you are initializing TFDistilBertForSequenceClassification from the checkpoint of a model that you expect to be exactly identical (initializing a BertForSequenceClassification model from a BertForSequenceClassification model).\n",
      "Some layers of TFDistilBertForSequenceClassification were not initialized from the model checkpoint at distilbert-base-uncased and are newly initialized: ['pre_classifier', 'classifier', 'dropout_61']\n",
      "You should probably TRAIN this model on a down-stream task to be able to use it for predictions and inference.\n"
     ]
    }
   ],
   "source": [
    "# Download pretrained model from checkpoint (Only the head layer is trainable)\n",
    "model = TFAutoModelForSequenceClassification.from_pretrained(checkpoint, num_labels=2)\n",
    "model.layers[0].trainable = True\n",
    "\n",
    "# Model checkpoint callback\n",
    "checkpoint = ModelCheckpoint(filepath='HF_BERT_finetuned_tf_model_amazon.h5', \n",
    "                             monitor='val_loss', \n",
    "                             save_best_only=True,\n",
    "                             save_weights_only=True,\n",
    "                             mode='auto')\n",
    "\n",
    "# Early stopping callback\n",
    "early_stop = EarlyStopping(monitor='val_loss', \n",
    "                           patience=3, \n",
    "                           verbose=1, \n",
    "                           restore_best_weights=True)\n",
    "\n",
    "# Model compilation\n",
    "model.compile(\n",
    "  optimizer = tf.keras.optimizers.Adam(learning_rate = 5e-6),\n",
    "  loss = tf.keras.losses.SparseCategoricalCrossentropy(from_logits = True),\n",
    "  metrics = ['accuracy']\n",
    ")"
   ]
  },
  {
   "cell_type": "code",
   "execution_count": 30,
   "id": "336a30ac",
   "metadata": {},
   "outputs": [
    {
     "name": "stdout",
     "output_type": "stream",
     "text": [
      "Epoch 1/200\n",
      "4688/4688 [==============================] - 1205s 255ms/step - loss: 0.2095 - accuracy: 0.9139 - val_loss: 0.1647 - val_accuracy: 0.9310\n",
      "Epoch 2/200\n",
      "4688/4688 [==============================] - 912s 195ms/step - loss: 0.1380 - accuracy: 0.9442 - val_loss: 0.1666 - val_accuracy: 0.9306\n",
      "Epoch 3/200\n",
      "4688/4688 [==============================] - 809s 173ms/step - loss: 0.0957 - accuracy: 0.9633 - val_loss: 0.1783 - val_accuracy: 0.9335\n",
      "Epoch 4/200\n",
      "4688/4688 [==============================] - ETA: 0s - loss: 0.0617 - accuracy: 0.9780Restoring model weights from the end of the best epoch: 1.\n",
      "4688/4688 [==============================] - 847s 181ms/step - loss: 0.0617 - accuracy: 0.9780 - val_loss: 0.1958 - val_accuracy: 0.9376\n",
      "Epoch 4: early stopping\n"
     ]
    }
   ],
   "source": [
    "HF_TF_finetuned_start_time = time.time()\n",
    "\n",
    "# Model finetuning\n",
    "history = model.fit(train_set,\n",
    "                   validation_data = test_set,\n",
    "                   epochs = 200,\n",
    "                   batch_size = batch_size,\n",
    "                   callbacks = [checkpoint, early_stop])\n",
    "\n",
    "HF_TF_finetuned_end_time = time.time()\n",
    "HF_TF_finetuned_execution_time = HF_TF_finetuned_end_time - HF_TF_finetuned_start_time"
   ]
  },
  {
   "cell_type": "code",
   "execution_count": 31,
   "id": "fe0c1f87",
   "metadata": {},
   "outputs": [
    {
     "name": "stdout",
     "output_type": "stream",
     "text": [
      "1563/1563 [==============================] - 83s 53ms/step\n",
      "HF_TF_finetuned Training time: 3772.92 seconds\n",
      "HF_TF_finetuned Accuracy score:  0.93104\n",
      "HF_TF_finetuned Precision score:  0.9489546053870785\n",
      "HF_TF_finetuned Recall score:  0.9692189303578299\n",
      "HF_TF_finetuned F1 score:  0.958979727800514\n"
     ]
    }
   ],
   "source": [
    "predictions = model.predict(test_set_for_preds)\n",
    "predictions = tf.math.argmax(tf.nn.softmax(predictions[0], axis = -1), axis = -1)\n",
    "predictions = tf.cast(predictions, dtype = tf.int32)\n",
    "\n",
    "# Model evaluation\n",
    "print('HF_TF_finetuned Training time: {} seconds'. format(round(HF_TF_finetuned_execution_time, 2)))\n",
    "print('HF_TF_finetuned Accuracy score: ', format(accuracy_score(predictions, test_dataset['labels'])))\n",
    "print('HF_TF_finetuned Precision score: ', format(precision_score(predictions, test_dataset['labels'])))\n",
    "print('HF_TF_finetuned Recall score: ', format(recall_score(predictions, test_dataset['labels'])))\n",
    "print('HF_TF_finetuned F1 score: ', format(f1_score(predictions, test_dataset['labels'])))\n",
    "\n",
    "# Model evaluation dictionary\n",
    "HF_TF_finetuned_results = {'Name': \"HF_TF_finetuned\", \n",
    "                 \"Training Time\": round(HF_TF_finetuned_execution_time, 2),\n",
    "                 \"Accuracy score\": accuracy_score(predictions, test_dataset['labels']),\n",
    "                 \"Precision score\": precision_score(predictions, test_dataset['labels']),\n",
    "                 \"Recall score\": recall_score(predictions, test_dataset['labels']),\n",
    "                 \"F1 score\": f1_score(predictions, test_dataset['labels'])}"
   ]
  },
  {
   "cell_type": "code",
   "execution_count": 32,
   "id": "babf8c21",
   "metadata": {},
   "outputs": [],
   "source": [
    "update_the_results_file(model_name = HF_TF_finetuned_results)"
   ]
  },
  {
   "cell_type": "markdown",
   "id": "24f93b39",
   "metadata": {},
   "source": [
    "### Part 8. Distilbert Fine Tuned huggingface (trainer object)"
   ]
  },
  {
   "cell_type": "code",
   "execution_count": 4,
   "id": "78bbad51",
   "metadata": {},
   "outputs": [],
   "source": [
    "X_train, X_test, y_train, y_test = train_test_split(reviews, labels, test_size = 0.2, random_state = 1)"
   ]
  },
  {
   "cell_type": "code",
   "execution_count": 7,
   "id": "ba0d739c",
   "metadata": {},
   "outputs": [],
   "source": [
    "max_length = 300\n",
    "batch_size = 8\n",
    "\n",
    "tokenizer = DistilBertTokenizerFast.from_pretrained('distilbert-base-uncased')\n",
    "\n",
    "train_encodings = tokenizer(X_train, truncation = True, padding = True, max_length = max_length)\n",
    "test_encodings = tokenizer(X_test, truncation = True, padding = True, max_length = max_length)\n",
    "\n",
    "train_dataset = tf.data.Dataset.from_tensor_slices((dict(train_encodings), y_train))\n",
    "test_dataset = tf.data.Dataset.from_tensor_slices((dict(test_encodings), y_test))"
   ]
  },
  {
   "cell_type": "code",
   "execution_count": 8,
   "id": "52227cc6",
   "metadata": {},
   "outputs": [],
   "source": [
    "training_args = TFTrainingArguments(\n",
    "  output_dir = './results',\n",
    "  num_train_epochs = 4,\n",
    "  per_device_eval_batch_size = batch_size,\n",
    "  per_device_train_batch_size = batch_size,\n",
    "  warmup_steps = 500,\n",
    "  weight_decay = 0.01,\n",
    "  logging_dir = './logs',\n",
    "  logging_steps = 10,\n",
    "  eval_steps = 50,\n",
    ")"
   ]
  },
  {
   "cell_type": "code",
   "execution_count": 9,
   "id": "4149bccf",
   "metadata": {},
   "outputs": [
    {
     "name": "stderr",
     "output_type": "stream",
     "text": [
      "Some layers from the model checkpoint at distilbert-base-uncased were not used when initializing TFDistilBertForSequenceClassification: ['vocab_projector', 'vocab_transform', 'vocab_layer_norm', 'activation_13']\n",
      "- This IS expected if you are initializing TFDistilBertForSequenceClassification from the checkpoint of a model trained on another task or with another architecture (e.g. initializing a BertForSequenceClassification model from a BertForPreTraining model).\n",
      "- This IS NOT expected if you are initializing TFDistilBertForSequenceClassification from the checkpoint of a model that you expect to be exactly identical (initializing a BertForSequenceClassification model from a BertForSequenceClassification model).\n",
      "Some layers of TFDistilBertForSequenceClassification were not initialized from the model checkpoint at distilbert-base-uncased and are newly initialized: ['classifier', 'dropout_19', 'pre_classifier']\n",
      "You should probably TRAIN this model on a down-stream task to be able to use it for predictions and inference.\n",
      "C:\\Users\\User\\anaconda3\\envs\\newtensorflow\\lib\\site-packages\\transformers\\trainer_tf.py:115: FutureWarning: The class `TFTrainer` is deprecated and will be removed in version 5 of Transformers. We recommend using native Keras instead, by calling methods like `fit()` and `predict()` directly on the model object. Detailed examples of the Keras style can be found in our examples at https://github.com/huggingface/transformers/tree/main/examples/tensorflow\n",
      "  warnings.warn(\n"
     ]
    }
   ],
   "source": [
    "HF_trainer_finetuned_start_time = time.time()\n",
    "\n",
    "with training_args.strategy.scope():\n",
    "  model = TFDistilBertForSequenceClassification.from_pretrained('distilbert-base-uncased')\n",
    "  \n",
    "trainer = TFTrainer(\n",
    "  model = model,\n",
    "  args = training_args,\n",
    "  train_dataset = train_dataset,\n",
    "  eval_dataset = test_dataset\n",
    ")\n",
    "\n",
    "trainer.train()\n",
    "\n",
    "HF_trainer_finetuned_end_time = time.time()\n",
    "HF_trainer_finetuned_execution_time = HF_trainer_finetuned_end_time - HF_trainer_finetuned_start_time"
   ]
  },
  {
   "cell_type": "code",
   "execution_count": 10,
   "id": "dade9064",
   "metadata": {},
   "outputs": [
    {
     "name": "stdout",
     "output_type": "stream",
     "text": [
      "HF_trainer_finetuned Training time: 2406.46 seconds\n",
      "HF_trainer_finetuned Accuracy score:  0.9371\n",
      "HF_trainer_finetuned Precision score:  0.9667179912353429\n",
      "HF_trainer_finetuned Recall score:  0.9591069330199765\n",
      "HF_trainer_finetuned F1 score:  0.9628974222851413\n"
     ]
    }
   ],
   "source": [
    "predictions = trainer.predict(test_dataset)\n",
    "predictions = tf.math.argmax(tf.nn.softmax(predictions[0], axis = -1), axis = -1)\n",
    "\n",
    "# Model evaluation\n",
    "print('HF_trainer_finetuned Training time: {} seconds'. format(round(HF_trainer_finetuned_execution_time, 2)))\n",
    "print('HF_trainer_finetuned Accuracy score: ', format(accuracy_score(predictions, y_test)))\n",
    "print('HF_trainer_finetuned Precision score: ', format(precision_score(predictions, y_test)))\n",
    "print('HF_trainer_finetuned Recall score: ', format(recall_score(predictions, y_test)))\n",
    "print('HF_trainer_finetuned F1 score: ', format(f1_score(predictions, y_test)))\n",
    "\n",
    "# Model evaluation dictionary\n",
    "HF_trainer_finetuned_results = {'Name': \"HF_trainer_finetuned\", \n",
    "                 \"Training Time\": round(HF_trainer_finetuned_execution_time, 2),\n",
    "                 \"Accuracy score\": accuracy_score(predictions, y_test),\n",
    "                 \"Precision score\": precision_score(predictions, y_test),\n",
    "                 \"Recall score\": recall_score(predictions, y_test),\n",
    "                 \"F1 score\": f1_score(predictions, y_test)}"
   ]
  },
  {
   "cell_type": "code",
   "execution_count": 14,
   "id": "5843d315",
   "metadata": {},
   "outputs": [],
   "source": [
    "update_the_results_file(model_name = HF_trainer_finetuned_results)"
   ]
  },
  {
   "cell_type": "markdown",
   "id": "8b0d8e9d",
   "metadata": {},
   "source": [
    "### Part 9. High level pipeline huggingface"
   ]
  },
  {
   "cell_type": "code",
   "execution_count": 18,
   "id": "2a897c61",
   "metadata": {},
   "outputs": [
    {
     "name": "stderr",
     "output_type": "stream",
     "text": [
      "No model was supplied, defaulted to distilbert-base-uncased-finetuned-sst-2-english and revision af0f99b (https://huggingface.co/distilbert-base-uncased-finetuned-sst-2-english).\n",
      "Using a pipeline without specifying a model name and revision in production is not recommended.\n",
      "Some layers from the model checkpoint at distilbert-base-uncased-finetuned-sst-2-english were not used when initializing TFDistilBertForSequenceClassification: ['dropout_19']\n",
      "- This IS expected if you are initializing TFDistilBertForSequenceClassification from the checkpoint of a model trained on another task or with another architecture (e.g. initializing a BertForSequenceClassification model from a BertForPreTraining model).\n",
      "- This IS NOT expected if you are initializing TFDistilBertForSequenceClassification from the checkpoint of a model that you expect to be exactly identical (initializing a BertForSequenceClassification model from a BertForSequenceClassification model).\n",
      "Some layers of TFDistilBertForSequenceClassification were not initialized from the model checkpoint at distilbert-base-uncased-finetuned-sst-2-english and are newly initialized: ['dropout_39']\n",
      "You should probably TRAIN this model on a down-stream task to be able to use it for predictions and inference.\n"
     ]
    },
    {
     "name": "stdout",
     "output_type": "stream",
     "text": [
      "0\n"
     ]
    },
    {
     "name": "stderr",
     "output_type": "stream",
     "text": [
      "Token indices sequence length is longer than the specified maximum sequence length for this model (563 > 512). Running this sequence through the model will result in indexing errors\n"
     ]
    },
    {
     "name": "stdout",
     "output_type": "stream",
     "text": [
      "1000\n",
      "2000\n",
      "3000\n",
      "4000\n",
      "5000\n",
      "6000\n",
      "7000\n",
      "8000\n",
      "9000\n",
      "10000\n",
      "11000\n",
      "12000\n",
      "13000\n",
      "14000\n",
      "15000\n",
      "16000\n",
      "17000\n",
      "18000\n",
      "19000\n",
      "20000\n",
      "21000\n",
      "22000\n",
      "23000\n",
      "24000\n",
      "25000\n",
      "26000\n",
      "27000\n",
      "28000\n",
      "29000\n",
      "30000\n",
      "31000\n",
      "32000\n",
      "33000\n",
      "34000\n",
      "35000\n",
      "36000\n",
      "37000\n",
      "38000\n",
      "39000\n",
      "40000\n",
      "41000\n",
      "42000\n",
      "43000\n",
      "44000\n",
      "45000\n",
      "46000\n",
      "47000\n",
      "48000\n",
      "49000\n"
     ]
    },
    {
     "data": {
      "text/plain": [
       "4021.1071758270264"
      ]
     },
     "execution_count": 18,
     "metadata": {},
     "output_type": "execute_result"
    }
   ],
   "source": [
    "classifier = pipeline('sentiment-analysis', device = 0)\n",
    "\n",
    "HF_pipeline_start_time = time.time()\n",
    "results = []\n",
    "for i in range(len(reviews)):\n",
    "  results.append(classifier(reviews[i]))\n",
    "  if i % 1000 == 0:\n",
    "    print(i)\n",
    "HF_pipeline_end_time = time.time()\n",
    "HF_pipeline_execution_time = HF_pipeline_end_time - HF_pipeline_start_time\n",
    "HF_pipeline_execution_time"
   ]
  },
  {
   "cell_type": "code",
   "execution_count": 19,
   "id": "5ad359aa",
   "metadata": {},
   "outputs": [
    {
     "name": "stdout",
     "output_type": "stream",
     "text": [
      "HF_pipeline Training time: 4021.11 seconds\n",
      "HF_pipeline Accuracy score:  0.72776\n",
      "HF_pipeline Precision score:  0.6924290592252443\n",
      "HF_pipeline Recall score:  0.9816057419462527\n",
      "HF_pipeline F1 score:  0.8120408726871031\n"
     ]
    }
   ],
   "source": [
    "preds = []\n",
    "for result in results:\n",
    "  if result[0]['label'] == \"POSITIVE\":\n",
    "    preds.append(1)\n",
    "  else:\n",
    "    preds.append(0)\n",
    "    \n",
    "# Model evaluation\n",
    "print('HF_pipeline Training time: {} seconds'. format(round(HF_pipeline_execution_time, 2)))\n",
    "print('HF_pipeline Accuracy score: ', format(accuracy_score(preds, labels)))\n",
    "print('HF_pipeline Precision score: ', format(precision_score(preds, labels)))\n",
    "print('HF_pipeline Recall score: ', format(recall_score(preds, labels)))\n",
    "print('HF_pipeline F1 score: ', format(f1_score(preds, labels)))\n",
    "\n",
    "# Model evaluation dictionary\n",
    "HF_pipeline_results = {'Name': \"HF_pipeline\", \n",
    "                 \"Training Time\": round(HF_pipeline_execution_time, 2),\n",
    "                 \"Accuracy score\": accuracy_score(preds, labels),\n",
    "                 \"Precision score\": precision_score(preds, labels),\n",
    "                 \"Recall score\": recall_score(preds, labels),\n",
    "                 \"F1 score\": f1_score(preds, labels)}"
   ]
  },
  {
   "cell_type": "code",
   "execution_count": 20,
   "id": "c1e64357",
   "metadata": {},
   "outputs": [],
   "source": [
    "update_the_results_file(model_name = HF_pipeline_results)"
   ]
  },
  {
   "cell_type": "markdown",
   "id": "edd980f9",
   "metadata": {},
   "source": [
    "### All models summary"
   ]
  },
  {
   "cell_type": "code",
   "execution_count": 26,
   "id": "aea304e8",
   "metadata": {},
   "outputs": [
    {
     "data": {
      "text/html": [
       "<div>\n",
       "<style scoped>\n",
       "    .dataframe tbody tr th:only-of-type {\n",
       "        vertical-align: middle;\n",
       "    }\n",
       "\n",
       "    .dataframe tbody tr th {\n",
       "        vertical-align: top;\n",
       "    }\n",
       "\n",
       "    .dataframe thead th {\n",
       "        text-align: right;\n",
       "    }\n",
       "</style>\n",
       "<table border=\"1\" class=\"dataframe\">\n",
       "  <thead>\n",
       "    <tr style=\"text-align: right;\">\n",
       "      <th></th>\n",
       "      <th>Name</th>\n",
       "      <th>Training Time</th>\n",
       "      <th>Accuracy score</th>\n",
       "      <th>Precision score</th>\n",
       "      <th>Recall score</th>\n",
       "      <th>F1 score</th>\n",
       "    </tr>\n",
       "  </thead>\n",
       "  <tbody>\n",
       "    <tr>\n",
       "      <th>0</th>\n",
       "      <td>MultinomialNB CountVectorizer</td>\n",
       "      <td>1.03</td>\n",
       "      <td>0.88780</td>\n",
       "      <td>0.906045</td>\n",
       "      <td>0.967429</td>\n",
       "      <td>0.935731</td>\n",
       "    </tr>\n",
       "    <tr>\n",
       "      <th>1</th>\n",
       "      <td>MultinomialNB tfidf</td>\n",
       "      <td>1.06</td>\n",
       "      <td>0.84520</td>\n",
       "      <td>0.845061</td>\n",
       "      <td>1.000000</td>\n",
       "      <td>0.916025</td>\n",
       "    </tr>\n",
       "    <tr>\n",
       "      <th>2</th>\n",
       "      <td>Vaders Analyser</td>\n",
       "      <td>25.44</td>\n",
       "      <td>0.86324</td>\n",
       "      <td>0.900943</td>\n",
       "      <td>0.942612</td>\n",
       "      <td>0.921306</td>\n",
       "    </tr>\n",
       "    <tr>\n",
       "      <th>3</th>\n",
       "      <td>Manual RNN</td>\n",
       "      <td>187.75</td>\n",
       "      <td>0.90330</td>\n",
       "      <td>0.917934</td>\n",
       "      <td>0.972403</td>\n",
       "      <td>0.944384</td>\n",
       "    </tr>\n",
       "    <tr>\n",
       "      <th>4</th>\n",
       "      <td>Sentence encoder</td>\n",
       "      <td>77.77</td>\n",
       "      <td>0.88210</td>\n",
       "      <td>0.891548</td>\n",
       "      <td>0.979510</td>\n",
       "      <td>0.933461</td>\n",
       "    </tr>\n",
       "    <tr>\n",
       "      <th>5</th>\n",
       "      <td>Roberta</td>\n",
       "      <td>7348.07</td>\n",
       "      <td>0.90276</td>\n",
       "      <td>0.962215</td>\n",
       "      <td>0.921700</td>\n",
       "      <td>0.941522</td>\n",
       "    </tr>\n",
       "    <tr>\n",
       "      <th>6</th>\n",
       "      <td>HF_TF_finetuned</td>\n",
       "      <td>3772.92</td>\n",
       "      <td>0.93104</td>\n",
       "      <td>0.948955</td>\n",
       "      <td>0.969219</td>\n",
       "      <td>0.958980</td>\n",
       "    </tr>\n",
       "    <tr>\n",
       "      <th>7</th>\n",
       "      <td>HF_trainer_finetuned</td>\n",
       "      <td>2406.46</td>\n",
       "      <td>0.93710</td>\n",
       "      <td>0.966718</td>\n",
       "      <td>0.959107</td>\n",
       "      <td>0.962897</td>\n",
       "    </tr>\n",
       "    <tr>\n",
       "      <th>8</th>\n",
       "      <td>HF_pipeline</td>\n",
       "      <td>4021.11</td>\n",
       "      <td>0.72776</td>\n",
       "      <td>0.692429</td>\n",
       "      <td>0.981606</td>\n",
       "      <td>0.812041</td>\n",
       "    </tr>\n",
       "  </tbody>\n",
       "</table>\n",
       "</div>"
      ],
      "text/plain": [
       "                            Name  Training Time  Accuracy score  \\\n",
       "0  MultinomialNB CountVectorizer           1.03         0.88780   \n",
       "1            MultinomialNB tfidf           1.06         0.84520   \n",
       "2                Vaders Analyser          25.44         0.86324   \n",
       "3                     Manual RNN         187.75         0.90330   \n",
       "4               Sentence encoder          77.77         0.88210   \n",
       "5                        Roberta        7348.07         0.90276   \n",
       "6                HF_TF_finetuned        3772.92         0.93104   \n",
       "7           HF_trainer_finetuned        2406.46         0.93710   \n",
       "8                    HF_pipeline        4021.11         0.72776   \n",
       "\n",
       "   Precision score  Recall score  F1 score  \n",
       "0         0.906045      0.967429  0.935731  \n",
       "1         0.845061      1.000000  0.916025  \n",
       "2         0.900943      0.942612  0.921306  \n",
       "3         0.917934      0.972403  0.944384  \n",
       "4         0.891548      0.979510  0.933461  \n",
       "5         0.962215      0.921700  0.941522  \n",
       "6         0.948955      0.969219  0.958980  \n",
       "7         0.966718      0.959107  0.962897  \n",
       "8         0.692429      0.981606  0.812041  "
      ]
     },
     "execution_count": 26,
     "metadata": {},
     "output_type": "execute_result"
    }
   ],
   "source": [
    "# Create a DataFrame with a summary for all models and KPIs\n",
    "\n",
    "file_name = filename\n",
    "\n",
    "with open(file_name, 'rb') as f:\n",
    "    results_dict_list = pickle.load(f)\n",
    "    \n",
    "df = pd.DataFrame(results_dict_list)\n",
    "df"
   ]
  },
  {
   "cell_type": "code",
   "execution_count": 27,
   "id": "472bafcd",
   "metadata": {},
   "outputs": [
    {
     "data": {
      "image/png": "[encoded data removed]",
      "text/plain": [
       "<Figure size 640x480 with 1 Axes>"
      ]
     },
     "metadata": {},
     "output_type": "display_data"
    }
   ],
   "source": [
    "# Training time\n",
    "df.plot(kind='bar', x='Name', y='Training Time')\n",
    "plt.title(\"Training time (seconds)\")\n",
    "plt.legend().remove()"
   ]
  },
  {
   "cell_type": "code",
   "execution_count": 28,
   "id": "f99fd433",
   "metadata": {},
   "outputs": [
    {
     "data": {
      "image/png": "[encoded data removed]",
      "text/plain": [
       "<Figure size 640x480 with 1 Axes>"
      ]
     },
     "metadata": {},
     "output_type": "display_data"
    }
   ],
   "source": [
    "# Accuracy\n",
    "df.plot(kind='bar', x='Name', y='Accuracy score', color = 'green')\n",
    "plt.title(\"Accuracy %\")\n",
    "plt.legend().remove()"
   ]
  },
  {
   "cell_type": "code",
   "execution_count": 29,
   "id": "26e0e5c6",
   "metadata": {},
   "outputs": [
    {
     "data": {
      "image/png": "[encoded data removed]",
      "text/plain": [
       "<Figure size 640x480 with 1 Axes>"
      ]
     },
     "metadata": {},
     "output_type": "display_data"
    }
   ],
   "source": [
    "# F1 Scores\n",
    "df.plot(kind='bar', x='Name', y='F1 score', color = 'blue')\n",
    "plt.title(\"F1 Score\")\n",
    "plt.legend().remove()"
   ]
  },
  {
   "cell_type": "code",
   "execution_count": 32,
   "id": "48ece2da",
   "metadata": {},
   "outputs": [
    {
     "name": "stdout",
     "output_type": "stream",
     "text": [
      "72ec51d MAJOR ADDITION add Huggingface finetuned models and high level pipeline\n",
      "ad443b4 add amazon reviews model selection (all models)\n",
      "59f34df Amazon reviews model selection initial commit\n",
      "792df4d Roberta model + model summary table + KPI visualisation\n",
      "4aa474d add gitignore\n",
      "e1409ac Delete best_RNN_manual_model.h5\n",
      "5c1d3a1 add manual RNN implementation\n",
      "41ef57d add Part 3. Vaders sentiment analyzer\n",
      "06381f0 add Part 2. Multinomial Naive Bayes with TF-IDF\n",
      "606c6a7 Part 1. Multinomial Naive Bayes with Count Vectorizer\n",
      "61fbdfa data preprocessing\n",
      "d5d5e14 add IMDB reviews model selection. initial commit.\n",
      "a1604c4 add part 2 - tfidf\n",
      "efeff6e Sentiment analysis Bayesian inference on IMDB\n",
      "ef5fa8a initial commit\n"
     ]
    },
    {
     "name": "stderr",
     "output_type": "stream",
     "text": [
      "warning: in the working copy of '.ipynb_checkpoints/Amazon_reviews_model_selection-checkpoint.ipynb', LF will be replaced by CRLF the next time Git touches it\n",
      "warning: in the working copy of 'Amazon_reviews_model_selection.ipynb', LF will be replaced by CRLF the next time Git touches it\n",
      "warning: in the working copy of 'IMDB_reviews_model_selection.ipynb', LF will be replaced by CRLF the next time Git touches it\n",
      "warning: in the working copy of '.ipynb_checkpoints/yelp_reviews_model_selection-checkpoint.ipynb', LF will be replaced by CRLF the next time Git touches it\n",
      "warning: in the working copy of 'results/checkpoint/checkpoint', LF will be replaced by CRLF the next time Git touches it\n",
      "error: open(\"results/checkpoint/ckpt-11.index\"): No such file or directory\n",
      "error: unable to index file 'results/checkpoint/ckpt-11.index'\n",
      "fatal: adding files failed\n"
     ]
    }
   ],
   "source": [
    "!git l"
   ]
  },
  {
   "cell_type": "code",
   "execution_count": null,
   "id": "782670bf",
   "metadata": {},
   "outputs": [],
   "source": []
  }
 ],
 "metadata": {
  "kernelspec": {
   "display_name": "Python 3 (ipykernel)",
   "language": "python",
   "name": "python3"
  },
  "language_info": {
   "codemirror_mode": {
    "name": "ipython",
    "version": 3
   },
   "file_extension": ".py",
   "mimetype": "text/x-python",
   "name": "python",
   "nbconvert_exporter": "python",
   "pygments_lexer": "ipython3",
   "version": "3.9.16"
  }
 },
 "nbformat": 4,
 "nbformat_minor": 5
}
