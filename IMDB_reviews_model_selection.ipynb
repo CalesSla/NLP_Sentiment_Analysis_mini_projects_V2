{
 "cells": [
  {
   "cell_type": "markdown",
   "id": "cf7fb6e7",
   "metadata": {},
   "source": [
    "# IMBD reviews model selection"
   ]
  },
  {
   "cell_type": "code",
   "execution_count": 15,
   "id": "906e89d4",
   "metadata": {},
   "outputs": [
    {
     "name": "stderr",
     "output_type": "stream",
     "text": [
      "[nltk_data] Downloading package stopwords to\n",
      "[nltk_data]     C:\\Users\\User\\AppData\\Roaming\\nltk_data...\n",
      "[nltk_data]   Package stopwords is already up-to-date!\n"
     ]
    }
   ],
   "source": [
    "# Dependencies\n",
    "\n",
    "import pickle\n",
    "import pandas as pd\n",
    "import numpy as np\n",
    "import matplotlib.pyplot as plt\n",
    "import seaborn as sns\n",
    "import nltk\n",
    "from nltk.sentiment import SentimentIntensityAnalyzer\n",
    "from tqdm.notebook import tqdm\n",
    "import numpy as np\n",
    "import tensorflow as tf\n",
    "import nltk\n",
    "from collections import Counter\n",
    "import string\n",
    "import itertools\n",
    "nltk.download('stopwords')\n",
    "from nltk.corpus import stopwords\n",
    "stop_words = set(stopwords.words('english'))\n",
    "from nltk import PorterStemmer\n",
    "from nltk.stem.wordnet import WordNetLemmatizer\n",
    "import tensorflow_text as text\n",
    "import tensorflow_hub as hub\n",
    "from sklearn.feature_extraction.text import CountVectorizer, TfidfVectorizer\n",
    "from sklearn.model_selection import train_test_split\n",
    "from sklearn.naive_bayes import MultinomialNB, GaussianNB\n",
    "from sklearn.metrics import accuracy_score, precision_score, recall_score, f1_score\n",
    "import time\n",
    "from tensorflow.keras.preprocessing.sequence import pad_sequences\n",
    "from tensorflow.keras.models import Sequential, Model\n",
    "from tensorflow.keras.layers import GlobalMaxPool1D, BatchNormalization, Dense, RNN, GRU, LSTM, TimeDistributed, Bidirectional, Activation, Embedding, Input, Conv1D, Dropout\n",
    "import tensorflow as tf\n",
    "import keras.backend as K\n",
    "from tensorflow.keras.callbacks import ModelCheckpoint, EarlyStopping\n",
    "from transformers import AutoTokenizer, pipeline\n",
    "from transformers import TFAutoModelForSequenceClassification, TFTrainingArguments, TFTrainer\n",
    "from scipy.special import softmax\n",
    "from datasets import DatasetDict, Dataset\n",
    "from tensorflow.keras import mixed_precision\n",
    "from tensorflow.keras.utils import to_categorical\n",
    "from transformers import DistilBertTokenizerFast, TFDistilBertForSequenceClassification\n",
    "import fasttext\n",
    "import re\n",
    "\n",
    "plt.style.use('ggplot')\n",
    "\n",
    "# Define mixed precision policy\n",
    "policy = mixed_precision.Policy('mixed_float16')\n",
    "mixed_precision.set_global_policy(policy)"
   ]
  },
  {
   "cell_type": "markdown",
   "id": "62c45645",
   "metadata": {},
   "source": [
    "### Data preprocessing"
   ]
  },
  {
   "cell_type": "code",
   "execution_count": 13,
   "id": "6c6b0af0",
   "metadata": {},
   "outputs": [],
   "source": [
    "# Data imports\n",
    "with open('reviews.txt', 'r') as f:\n",
    "  reviews = f.read()\n",
    "with open('labels.txt', 'r') as f:\n",
    "  labels = f.read()\n",
    "  \n",
    "# Remove punctuation\n",
    "reviews = \"\".join([char for char in reviews if char not in string.punctuation])\n",
    "\n",
    "reviews = reviews.split('\\n')\n",
    "labels = labels.split('\\n')\n",
    "\n",
    "# Tokenization, Lemmatization, Stemming, Stopwords. Label numerical encoding\n",
    "reviews_tokenized = []\n",
    "reviews_tokenized_joined = []\n",
    "for review in reviews:\n",
    "  splitted_review = nltk.word_tokenize(review)\n",
    "  splitted_review = [word for word in splitted_review if word not in stop_words]\n",
    "  splitted_review = [WordNetLemmatizer().lemmatize(w) for w in splitted_review]\n",
    "  splitted_review = [PorterStemmer().stem(w).strip() for w in splitted_review]\n",
    "  reviews_tokenized.append(splitted_review)\n",
    "  joined_review = ' '.join(splitted_review)\n",
    "  reviews_tokenized_joined.append(joined_review)\n",
    "  \n",
    "# Remove empty reviews and the corresponding labels\n",
    "empty_idx = []\n",
    "for i, review in enumerate(reviews_tokenized):\n",
    "  if len(review) == 0:\n",
    "    empty_idx.append(i)\n",
    "    \n",
    "for i in empty_idx:\n",
    "  reviews_tokenized.pop(i)\n",
    "  reviews_tokenized_joined.pop(i)\n",
    "  reviews.pop(i)\n",
    "  labels.pop(i)\n",
    "  \n",
    "reviews_unrolled = list(itertools.chain(*reviews_tokenized))\n",
    "labels = [1 if label == \"positive\" else 0 for label in labels]"
   ]
  },
  {
   "cell_type": "markdown",
   "id": "40c2e12d",
   "metadata": {},
   "source": [
    "### Part 1. Multinomial Naive Bayes with Count Vectorizer"
   ]
  },
  {
   "cell_type": "code",
   "execution_count": 1,
   "id": "8ebe550a",
   "metadata": {},
   "outputs": [
    {
     "ename": "NameError",
     "evalue": "name 'train_test_split' is not defined",
     "output_type": "error",
     "traceback": [
      "\u001b[1;31m---------------------------------------------------------------------------\u001b[0m",
      "\u001b[1;31mNameError\u001b[0m                                 Traceback (most recent call last)",
      "Cell \u001b[1;32mIn[1], line 2\u001b[0m\n\u001b[0;32m      1\u001b[0m \u001b[38;5;66;03m# Train test split\u001b[39;00m\n\u001b[1;32m----> 2\u001b[0m X_train, X_test, y_train, y_test \u001b[38;5;241m=\u001b[39m \u001b[43mtrain_test_split\u001b[49m(reviews, labels, test_size \u001b[38;5;241m=\u001b[39m \u001b[38;5;241m0.2\u001b[39m, random_state \u001b[38;5;241m=\u001b[39m \u001b[38;5;241m1\u001b[39m)\n\u001b[0;32m      4\u001b[0m MultinomialNB_CountVectorizer_start_time \u001b[38;5;241m=\u001b[39m time\u001b[38;5;241m.\u001b[39mtime()\n\u001b[0;32m      6\u001b[0m \u001b[38;5;66;03m# Count vectorizer feature transformation\u001b[39;00m\n",
      "\u001b[1;31mNameError\u001b[0m: name 'train_test_split' is not defined"
     ]
    }
   ],
   "source": [
    "# Train test split\n",
    "X_train, X_test, y_train, y_test = train_test_split(reviews, labels, test_size = 0.2, random_state = 1)\n",
    "\n",
    "MultinomialNB_CountVectorizer_start_time = time.time()\n",
    "\n",
    "# Count vectorizer feature transformation\n",
    "count_vector = CountVectorizer(stop_words = 'english', binary = False)\n",
    "\n",
    "training_data = count_vector.fit_transform(X_train)\n",
    "test_data = count_vector.transform(X_test)\n",
    "\n",
    "# Multinomial Naive Bayes model predictions\n",
    "naive_bayes = MultinomialNB()\n",
    "naive_bayes.fit(training_data, y_train)\n",
    "\n",
    "MultinomialNB_CountVectorizer_predictions = naive_bayes.predict(test_data)\n",
    "\n",
    "MultinomialNB_CountVectorizer_end_time = time.time()\n",
    "MultinomialNB_CountVectorizer_execution_time = MultinomialNB_CountVectorizer_end_time - MultinomialNB_CountVectorizer_start_time\n",
    "\n",
    "# Model evaluation\n",
    "print('MultinomialNB CountVectorizer Training time: {} seconds'. format(round(MultinomialNB_CountVectorizer_execution_time, 2)))\n",
    "print('MultinomialNB CountVectorizer Accuracy score: ', format(accuracy_score(y_test, MultinomialNB_CountVectorizer_predictions)))\n",
    "print('MultinomialNB CountVectorizer Precision score: ', format(precision_score(y_test, MultinomialNB_CountVectorizer_predictions)))\n",
    "print('MultinomialNB CountVectorizer Recall score: ', format(recall_score(y_test, MultinomialNB_CountVectorizer_predictions)))\n",
    "print('MultinomialNB CountVectorizer F1 score: ', format(f1_score(y_test, MultinomialNB_CountVectorizer_predictions)))\n",
    "\n",
    "# Model evaluation dictionary\n",
    "MultinomialNB_CountVectorizer_results = {'Name': \"MultinomialNB CountVectorizer\", \n",
    "                                         \"Training Time\": round(MultinomialNB_CountVectorizer_execution_time, 2),\n",
    "                                         \"Accuracy score\": accuracy_score(y_test, MultinomialNB_CountVectorizer_predictions),\n",
    "                                         \"Precision score\": precision_score(y_test, MultinomialNB_CountVectorizer_predictions),\n",
    "                                         \"Recall score\": recall_score(y_test, MultinomialNB_CountVectorizer_predictions),\n",
    "                                         \"F1 score\": f1_score(y_test, MultinomialNB_CountVectorizer_predictions)}"
   ]
  },
  {
   "cell_type": "code",
   "execution_count": null,
   "id": "6aab2c6d",
   "metadata": {},
   "outputs": [],
   "source": [
    "# Write the results into a pickle file\n",
    "filename = 'results_dict_list.pickle'\n",
    "\n",
    "results_dict_list = [MultinomialNB_CountVectorizer_results]\n",
    "\n",
    "with open(filename, 'wb') as f:\n",
    "    pickle.dump(results_dict_list, f)  "
   ]
  },
  {
   "cell_type": "markdown",
   "id": "506ff3ed",
   "metadata": {},
   "source": [
    "### Part 2. Multinomial Naive Bayes with TF-IDF"
   ]
  },
  {
   "cell_type": "code",
   "execution_count": 2,
   "id": "7b11e4f6",
   "metadata": {},
   "outputs": [
    {
     "ename": "NameError",
     "evalue": "name 'train_test_split' is not defined",
     "output_type": "error",
     "traceback": [
      "\u001b[1;31m---------------------------------------------------------------------------\u001b[0m",
      "\u001b[1;31mNameError\u001b[0m                                 Traceback (most recent call last)",
      "Cell \u001b[1;32mIn[2], line 2\u001b[0m\n\u001b[0;32m      1\u001b[0m \u001b[38;5;66;03m# Train test split\u001b[39;00m\n\u001b[1;32m----> 2\u001b[0m X_train, X_test, y_train, y_test \u001b[38;5;241m=\u001b[39m \u001b[43mtrain_test_split\u001b[49m(reviews, labels, test_size \u001b[38;5;241m=\u001b[39m \u001b[38;5;241m0.2\u001b[39m, random_state \u001b[38;5;241m=\u001b[39m \u001b[38;5;241m1\u001b[39m)\n\u001b[0;32m      4\u001b[0m MultinomialNB_tfidf_start_time \u001b[38;5;241m=\u001b[39m time\u001b[38;5;241m.\u001b[39mtime()\n\u001b[0;32m      6\u001b[0m \u001b[38;5;66;03m# TF-IDF feature transformation\u001b[39;00m\n",
      "\u001b[1;31mNameError\u001b[0m: name 'train_test_split' is not defined"
     ]
    }
   ],
   "source": [
    "# Train test split\n",
    "X_train, X_test, y_train, y_test = train_test_split(reviews, labels, test_size = 0.2, random_state = 1)\n",
    "\n",
    "MultinomialNB_tfidf_start_time = time.time()\n",
    "\n",
    "# TF-IDF feature transformation\n",
    "tfidf = TfidfVectorizer(stop_words = 'english', binary = False)\n",
    "\n",
    "training_data = tfidf.fit_transform(X_train)\n",
    "test_data = tfidf.transform(X_test)\n",
    "\n",
    "# Multinomial Naive Bayes model predictions\n",
    "naive_bayes = MultinomialNB()\n",
    "naive_bayes.fit(training_data, y_train)\n",
    "\n",
    "MultinomialNB_tfidf_predictions = naive_bayes.predict(test_data)\n",
    "\n",
    "MultinomialNB_tfidf_end_time = time.time()\n",
    "MultinomialNB_tfidf_execution_time = MultinomialNB_tfidf_end_time - MultinomialNB_tfidf_start_time\n",
    "\n",
    "# Model evaluation\n",
    "print('MultinomialNB tfidf Training time: {} seconds'. format(round(MultinomialNB_tfidf_execution_time, 2)))\n",
    "print('MultinomialNB tfidf Accuracy score: ', format(accuracy_score(y_test, MultinomialNB_tfidf_predictions)))\n",
    "print('MultinomialNB tfidf Precision score: ', format(precision_score(y_test, MultinomialNB_tfidf_predictions)))\n",
    "print('MultinomialNB tfidf Recall score: ', format(recall_score(y_test, MultinomialNB_tfidf_predictions)))\n",
    "print('MultinomialNB tfidf F1 score: ', format(f1_score(y_test, MultinomialNB_tfidf_predictions)))\n",
    "\n",
    "# Model evaluation dictionary\n",
    "MultinomialNB_tfidf_results = {'Name': \"MultinomialNB tfidf\", \n",
    "                                         \"Training Time\": round(MultinomialNB_tfidf_execution_time, 2),\n",
    "                                         \"Accuracy score\": accuracy_score(y_test, MultinomialNB_tfidf_predictions),\n",
    "                                         \"Precision score\": precision_score(y_test, MultinomialNB_tfidf_predictions),\n",
    "                                         \"Recall score\": recall_score(y_test, MultinomialNB_tfidf_predictions),\n",
    "                                         \"F1 score\": f1_score(y_test, MultinomialNB_tfidf_predictions)}"
   ]
  },
  {
   "cell_type": "code",
   "execution_count": null,
   "id": "1e546b34",
   "metadata": {},
   "outputs": [],
   "source": [
    "# Update the results pickle file\n",
    "def update_the_results_file(filename=filename, model_name):\n",
    "  with open(filename, 'rb') as f:\n",
    "    results_dict_list = pickle.load(f)\n",
    "    \n",
    "  results_dict_list.append(model_name)\n",
    "\n",
    "  with open(filename, 'wb') as f:\n",
    "      pickle.dump(results_dict_list, f)\n",
    "      \n",
    "update_the_results_file(MultinomialNB_tfidf_results)"
   ]
  },
  {
   "cell_type": "markdown",
   "id": "b5b33ad1",
   "metadata": {},
   "source": [
    "### Part 3. Vaders sentiment classifier"
   ]
  },
  {
   "cell_type": "markdown",
   "id": "9590d756",
   "metadata": {},
   "source": [
    "#### Extra preprocessing step"
   ]
  },
  {
   "cell_type": "code",
   "execution_count": 5,
   "id": "2a669269",
   "metadata": {},
   "outputs": [
    {
     "data": {
      "text/html": [
       "<div>\n",
       "<style scoped>\n",
       "    .dataframe tbody tr th:only-of-type {\n",
       "        vertical-align: middle;\n",
       "    }\n",
       "\n",
       "    .dataframe tbody tr th {\n",
       "        vertical-align: top;\n",
       "    }\n",
       "\n",
       "    .dataframe thead th {\n",
       "        text-align: right;\n",
       "    }\n",
       "</style>\n",
       "<table border=\"1\" class=\"dataframe\">\n",
       "  <thead>\n",
       "    <tr style=\"text-align: right;\">\n",
       "      <th></th>\n",
       "      <th>Id</th>\n",
       "      <th>Text</th>\n",
       "      <th>Label</th>\n",
       "    </tr>\n",
       "  </thead>\n",
       "  <tbody>\n",
       "    <tr>\n",
       "      <th>0</th>\n",
       "      <td>1</td>\n",
       "      <td>bromwell high is a cartoon comedy  it ran at t...</td>\n",
       "      <td>1</td>\n",
       "    </tr>\n",
       "    <tr>\n",
       "      <th>1</th>\n",
       "      <td>2</td>\n",
       "      <td>story of a man who has unnatural feelings for ...</td>\n",
       "      <td>0</td>\n",
       "    </tr>\n",
       "    <tr>\n",
       "      <th>2</th>\n",
       "      <td>3</td>\n",
       "      <td>homelessness  or houselessness as george carli...</td>\n",
       "      <td>1</td>\n",
       "    </tr>\n",
       "    <tr>\n",
       "      <th>3</th>\n",
       "      <td>4</td>\n",
       "      <td>airport    starts as a brand new luxury    pla...</td>\n",
       "      <td>0</td>\n",
       "    </tr>\n",
       "    <tr>\n",
       "      <th>4</th>\n",
       "      <td>5</td>\n",
       "      <td>brilliant over  acting by lesley ann warren  b...</td>\n",
       "      <td>1</td>\n",
       "    </tr>\n",
       "  </tbody>\n",
       "</table>\n",
       "</div>"
      ],
      "text/plain": [
       "   Id                                               Text  Label\n",
       "0   1  bromwell high is a cartoon comedy  it ran at t...      1\n",
       "1   2  story of a man who has unnatural feelings for ...      0\n",
       "2   3  homelessness  or houselessness as george carli...      1\n",
       "3   4  airport    starts as a brand new luxury    pla...      0\n",
       "4   5  brilliant over  acting by lesley ann warren  b...      1"
      ]
     },
     "execution_count": 5,
     "metadata": {},
     "output_type": "execute_result"
    }
   ],
   "source": [
    "# Create dataframe for convenience\n",
    "df = pd.DataFrame({'Text': reviews, 'Label': labels})\n",
    "df = df.reset_index()\n",
    "df['Id'] = df['index'] + 1\n",
    "df.drop('index', axis = 1, inplace = True)\n",
    "df = df[['Id', 'Text', 'Label']]\n",
    "df.head()"
   ]
  },
  {
   "cell_type": "code",
   "execution_count": 6,
   "id": "30ff1cf5",
   "metadata": {},
   "outputs": [
    {
     "data": {
      "application/vnd.jupyter.widget-view+json": {
       "model_id": "9532238ae8f74d5faa558bc8d572faed",
       "version_major": 2,
       "version_minor": 0
      },
      "text/plain": [
       "  0%|          | 0/25000 [00:00<?, ?it/s]"
      ]
     },
     "metadata": {},
     "output_type": "display_data"
    },
    {
     "data": {
      "text/html": [
       "<div>\n",
       "<style scoped>\n",
       "    .dataframe tbody tr th:only-of-type {\n",
       "        vertical-align: middle;\n",
       "    }\n",
       "\n",
       "    .dataframe tbody tr th {\n",
       "        vertical-align: top;\n",
       "    }\n",
       "\n",
       "    .dataframe thead th {\n",
       "        text-align: right;\n",
       "    }\n",
       "</style>\n",
       "<table border=\"1\" class=\"dataframe\">\n",
       "  <thead>\n",
       "    <tr style=\"text-align: right;\">\n",
       "      <th></th>\n",
       "      <th>Id</th>\n",
       "      <th>neg</th>\n",
       "      <th>neu</th>\n",
       "      <th>pos</th>\n",
       "      <th>compound</th>\n",
       "      <th>Text</th>\n",
       "      <th>Label</th>\n",
       "      <th>Predicted_Label</th>\n",
       "    </tr>\n",
       "  </thead>\n",
       "  <tbody>\n",
       "    <tr>\n",
       "      <th>0</th>\n",
       "      <td>1</td>\n",
       "      <td>0.044</td>\n",
       "      <td>0.916</td>\n",
       "      <td>0.041</td>\n",
       "      <td>-0.1027</td>\n",
       "      <td>bromwell high is a cartoon comedy  it ran at t...</td>\n",
       "      <td>1</td>\n",
       "      <td>0</td>\n",
       "    </tr>\n",
       "    <tr>\n",
       "      <th>1</th>\n",
       "      <td>2</td>\n",
       "      <td>0.108</td>\n",
       "      <td>0.746</td>\n",
       "      <td>0.146</td>\n",
       "      <td>0.7003</td>\n",
       "      <td>story of a man who has unnatural feelings for ...</td>\n",
       "      <td>0</td>\n",
       "      <td>1</td>\n",
       "    </tr>\n",
       "    <tr>\n",
       "      <th>2</th>\n",
       "      <td>3</td>\n",
       "      <td>0.120</td>\n",
       "      <td>0.733</td>\n",
       "      <td>0.147</td>\n",
       "      <td>0.9311</td>\n",
       "      <td>homelessness  or houselessness as george carli...</td>\n",
       "      <td>1</td>\n",
       "      <td>1</td>\n",
       "    </tr>\n",
       "    <tr>\n",
       "      <th>3</th>\n",
       "      <td>4</td>\n",
       "      <td>0.161</td>\n",
       "      <td>0.692</td>\n",
       "      <td>0.147</td>\n",
       "      <td>-0.9180</td>\n",
       "      <td>airport    starts as a brand new luxury    pla...</td>\n",
       "      <td>0</td>\n",
       "      <td>0</td>\n",
       "    </tr>\n",
       "    <tr>\n",
       "      <th>4</th>\n",
       "      <td>5</td>\n",
       "      <td>0.077</td>\n",
       "      <td>0.738</td>\n",
       "      <td>0.185</td>\n",
       "      <td>0.9657</td>\n",
       "      <td>brilliant over  acting by lesley ann warren  b...</td>\n",
       "      <td>1</td>\n",
       "      <td>1</td>\n",
       "    </tr>\n",
       "  </tbody>\n",
       "</table>\n",
       "</div>"
      ],
      "text/plain": [
       "   Id    neg    neu    pos  compound  \\\n",
       "0   1  0.044  0.916  0.041   -0.1027   \n",
       "1   2  0.108  0.746  0.146    0.7003   \n",
       "2   3  0.120  0.733  0.147    0.9311   \n",
       "3   4  0.161  0.692  0.147   -0.9180   \n",
       "4   5  0.077  0.738  0.185    0.9657   \n",
       "\n",
       "                                                Text  Label  Predicted_Label  \n",
       "0  bromwell high is a cartoon comedy  it ran at t...      1                0  \n",
       "1  story of a man who has unnatural feelings for ...      0                1  \n",
       "2  homelessness  or houselessness as george carli...      1                1  \n",
       "3  airport    starts as a brand new luxury    pla...      0                0  \n",
       "4  brilliant over  acting by lesley ann warren  b...      1                1  "
      ]
     },
     "execution_count": 6,
     "metadata": {},
     "output_type": "execute_result"
    }
   ],
   "source": [
    "vader_start_time = time.time()\n",
    "\n",
    "# Define Vader Sentiment analyzer model\n",
    "sia = SentimentIntensityAnalyzer()\n",
    "\n",
    "# Get the results\n",
    "res = {}\n",
    "for i, row in tqdm(df.iterrows(), total = len(df)):\n",
    "  text = row['Text']\n",
    "  myid = row['Id']\n",
    "  res[myid] = sia.polarity_scores(text)\n",
    "  \n",
    "vaders = pd.DataFrame(res).T\n",
    "vaders = vaders.reset_index().rename(columns = {'index': 'Id'})\n",
    "vaders = vaders.merge(df, how = 'left')\n",
    "vaders['Predicted_Label'] = np.where(vaders['compound'] >= 0, 1, 0)\n",
    "\n",
    "vader_end_time = time.time()\n",
    "vader_execution_time = vader_end_time - vader_start_time\n",
    "\n",
    "vaders.head()"
   ]
  },
  {
   "cell_type": "code",
   "execution_count": 3,
   "id": "68236eb0",
   "metadata": {},
   "outputs": [
    {
     "ename": "NameError",
     "evalue": "name 'vader_execution_time' is not defined",
     "output_type": "error",
     "traceback": [
      "\u001b[1;31m---------------------------------------------------------------------------\u001b[0m",
      "\u001b[1;31mNameError\u001b[0m                                 Traceback (most recent call last)",
      "Cell \u001b[1;32mIn[3], line 2\u001b[0m\n\u001b[0;32m      1\u001b[0m \u001b[38;5;66;03m# Model evaluation\u001b[39;00m\n\u001b[1;32m----> 2\u001b[0m \u001b[38;5;28mprint\u001b[39m(\u001b[38;5;124m'\u001b[39m\u001b[38;5;124mVader Training time: \u001b[39m\u001b[38;5;132;01m{}\u001b[39;00m\u001b[38;5;124m seconds\u001b[39m\u001b[38;5;124m'\u001b[39m\u001b[38;5;241m.\u001b[39m \u001b[38;5;28mformat\u001b[39m(\u001b[38;5;28mround\u001b[39m(\u001b[43mvader_execution_time\u001b[49m, \u001b[38;5;241m2\u001b[39m)))\n\u001b[0;32m      3\u001b[0m \u001b[38;5;28mprint\u001b[39m(\u001b[38;5;124m'\u001b[39m\u001b[38;5;124mVader Accuracy score: \u001b[39m\u001b[38;5;124m'\u001b[39m, \u001b[38;5;28mformat\u001b[39m(accuracy_score(vaders[\u001b[38;5;124m'\u001b[39m\u001b[38;5;124mLabel\u001b[39m\u001b[38;5;124m'\u001b[39m], vaders[\u001b[38;5;124m'\u001b[39m\u001b[38;5;124mPredicted_Label\u001b[39m\u001b[38;5;124m'\u001b[39m])))\n\u001b[0;32m      4\u001b[0m \u001b[38;5;28mprint\u001b[39m(\u001b[38;5;124m'\u001b[39m\u001b[38;5;124mVader Precision score: \u001b[39m\u001b[38;5;124m'\u001b[39m, \u001b[38;5;28mformat\u001b[39m(precision_score(vaders[\u001b[38;5;124m'\u001b[39m\u001b[38;5;124mLabel\u001b[39m\u001b[38;5;124m'\u001b[39m], vaders[\u001b[38;5;124m'\u001b[39m\u001b[38;5;124mPredicted_Label\u001b[39m\u001b[38;5;124m'\u001b[39m])))\n",
      "\u001b[1;31mNameError\u001b[0m: name 'vader_execution_time' is not defined"
     ]
    }
   ],
   "source": [
    "# Model evaluation\n",
    "print('Vader Training time: {} seconds'. format(round(vader_execution_time, 2)))\n",
    "print('Vader Accuracy score: ', format(accuracy_score(vaders['Label'], vaders['Predicted_Label'])))\n",
    "print('Vader Precision score: ', format(precision_score(vaders['Label'], vaders['Predicted_Label'])))\n",
    "print('Vader Recall score: ', format(recall_score(vaders['Label'], vaders['Predicted_Label'])))\n",
    "print('Vader F1 score: ', format(f1_score(vaders['Label'], vaders['Predicted_Label'])))\n",
    "\n",
    "# Model evaluation dictionary\n",
    "vader_results = {'Name': \"Vaders Analyser\", \n",
    "                                         \"Training Time\": round(vader_execution_time, 2),\n",
    "                                         \"Accuracy score\": accuracy_score(vaders['Label'], vaders['Predicted_Label']),\n",
    "                                         \"Precision score\": precision_score(vaders['Label'], vaders['Predicted_Label']),\n",
    "                                         \"Recall score\": recall_score(vaders['Label'], vaders['Predicted_Label']),\n",
    "                                         \"F1 score\": f1_score(vaders['Label'], vaders['Predicted_Label'])}"
   ]
  },
  {
   "cell_type": "code",
   "execution_count": null,
   "id": "169b47d6",
   "metadata": {},
   "outputs": [],
   "source": [
    "update_the_results_file(vader_results)"
   ]
  },
  {
   "cell_type": "markdown",
   "id": "3902d703",
   "metadata": {},
   "source": [
    "### Part 4. RNN manual implementation"
   ]
  },
  {
   "cell_type": "code",
   "execution_count": 8,
   "id": "bc3cc32a",
   "metadata": {},
   "outputs": [],
   "source": [
    "# Create vocabulary, word2index reference and convert the reviews into numerical form\n",
    "vocab_size = 10000\n",
    "\n",
    "word_counter = Counter(reviews_unrolled)\n",
    "word_counter = dict(word_counter.most_common(vocab_size))\n",
    "word2index = {k:i for i,k in enumerate(word_counter.keys(), start = 3)}\n",
    "\n",
    "# Convert reveies to integers\n",
    "reviews_int = []\n",
    "for review in reviews_tokenized:\n",
    "  cur_review = [1]\n",
    "  for word in review:\n",
    "    if word in word2index.keys():\n",
    "      cur_review.append(word2index[word])\n",
    "    else:\n",
    "      cur_review.append(2)\n",
    "  reviews_int.append(cur_review)\n",
    "  \n",
    "# Pad sequences\n",
    "padded_reviews = pad_sequences(reviews_int, maxlen = 500, padding = 'pre', truncating = 'pre')\n",
    "\n",
    "# Train test split on padded sequences\n",
    "X_train, X_test, y_train, y_test = train_test_split(padded_reviews, labels, test_size = 0.2, random_state = 1)\n",
    "\n",
    "X_train = np.array(X_train).reshape(20000, 500)\n",
    "X_test = np.array(X_test).reshape(5000, 500)\n",
    "\n",
    "y_train = np.array(y_train).reshape(20000, 1)\n",
    "y_test = np.array(y_test).reshape(5000, 1)"
   ]
  },
  {
   "cell_type": "code",
   "execution_count": 9,
   "id": "e53bab17",
   "metadata": {},
   "outputs": [
    {
     "name": "stdout",
     "output_type": "stream",
     "text": [
      "Model: \"model\"\n",
      "_________________________________________________________________\n",
      " Layer (type)                Output Shape              Param #   \n",
      "=================================================================\n",
      " input_1 (InputLayer)        [(None, 500)]             0         \n",
      "                                                                 \n",
      " embedding (Embedding)       (None, 500, 128)          1280000   \n",
      "                                                                 \n",
      " conv1d (Conv1D)             (None, 500, 200)          333000    \n",
      "                                                                 \n",
      " batch_normalization (BatchN  (None, 500, 200)         800       \n",
      " ormalization)                                                   \n",
      "                                                                 \n",
      " dropout (Dropout)           (None, 500, 200)          0         \n",
      "                                                                 \n",
      " gru (GRU)                   (None, 500, 128)          126720    \n",
      "                                                                 \n",
      " batch_normalization_1 (Batc  (None, 500, 128)         512       \n",
      " hNormalization)                                                 \n",
      "                                                                 \n",
      " dropout_1 (Dropout)         (None, 500, 128)          0         \n",
      "                                                                 \n",
      " gru_1 (GRU)                 (None, 128)               99072     \n",
      "                                                                 \n",
      " batch_normalization_2 (Batc  (None, 128)              512       \n",
      " hNormalization)                                                 \n",
      "                                                                 \n",
      " dropout_2 (Dropout)         (None, 128)               0         \n",
      "                                                                 \n",
      " dense (Dense)               (None, 512)               66048     \n",
      "                                                                 \n",
      " dropout_3 (Dropout)         (None, 512)               0         \n",
      "                                                                 \n",
      " dense_1 (Dense)             (None, 1)                 513       \n",
      "                                                                 \n",
      "=================================================================\n",
      "Total params: 1,907,177\n",
      "Trainable params: 1,906,265\n",
      "Non-trainable params: 912\n",
      "_________________________________________________________________\n"
     ]
    }
   ],
   "source": [
    "# Define the model\n",
    "dropout_rate = 0.5\n",
    "\n",
    "# Model checkpoint callback\n",
    "checkpoint = ModelCheckpoint(filepath='best_RNN_manual_model_IMDB.h5', \n",
    "                             monitor='val_loss', \n",
    "                             save_best_only=True,\n",
    "                             save_weights_only=False,\n",
    "                             mode='auto')\n",
    "\n",
    "# Early stopping callback\n",
    "early_stop = EarlyStopping(monitor='val_loss', \n",
    "                           patience=3, \n",
    "                           verbose=1, \n",
    "                           restore_best_weights=True)\n",
    "\n",
    "inputs = Input(shape = (X_train.shape[1:]))\n",
    "mask = tf.keras.layers.Lambda(lambda inputs: K.not_equal(inputs, 0))(inputs)\n",
    "x = Embedding(input_dim = vocab_size, output_dim = 128, input_length = 200)(inputs)\n",
    "x = Conv1D(filters = 200, kernel_size = 13, strides = 1, padding = 'same', activation = 'relu')(x)\n",
    "x = BatchNormalization()(x)\n",
    "x = Dropout(dropout_rate)(x)\n",
    "x = GRU(128, return_sequences = True)(x)\n",
    "x = BatchNormalization()(x)\n",
    "x = Dropout(dropout_rate)(x)\n",
    "x = GRU(128, return_sequences = False)(x)\n",
    "x = BatchNormalization()(x)\n",
    "x = Dropout(dropout_rate)(x)\n",
    "x = Dense(512, activation = 'relu')(x)\n",
    "x = Dropout(dropout_rate)(x)\n",
    "outputs = Dense(1, activation = 'sigmoid')(x)\n",
    "\n",
    "model = Model(inputs = inputs, outputs = outputs)\n",
    "\n",
    "model.compile(optimizer = tf.keras.optimizers.Adam(learning_rate = 0.001), loss = 'binary_crossentropy', metrics = ['accuracy'])\n",
    "\n",
    "# Print model summary\n",
    "model.summary()"
   ]
  },
  {
   "cell_type": "code",
   "execution_count": 10,
   "id": "ac97258f",
   "metadata": {},
   "outputs": [
    {
     "name": "stdout",
     "output_type": "stream",
     "text": [
      "Epoch 1/10\n",
      "157/157 [==============================] - 28s 82ms/step - loss: 0.7418 - accuracy: 0.5449 - val_loss: 0.6100 - val_accuracy: 0.6486\n",
      "Epoch 2/10\n",
      "157/157 [==============================] - 12s 79ms/step - loss: 0.3326 - accuracy: 0.8590 - val_loss: 0.3674 - val_accuracy: 0.8446\n",
      "Epoch 3/10\n",
      "157/157 [==============================] - 12s 79ms/step - loss: 0.2009 - accuracy: 0.9247 - val_loss: 0.3175 - val_accuracy: 0.8708\n",
      "Epoch 4/10\n",
      "157/157 [==============================] - 12s 78ms/step - loss: 0.1401 - accuracy: 0.9466 - val_loss: 0.3305 - val_accuracy: 0.8672\n",
      "Epoch 5/10\n",
      "157/157 [==============================] - 12s 77ms/step - loss: 0.0869 - accuracy: 0.9700 - val_loss: 0.5444 - val_accuracy: 0.8564\n",
      "Epoch 6/10\n",
      "156/157 [============================>.] - ETA: 0s - loss: 0.0656 - accuracy: 0.9761Restoring model weights from the end of the best epoch: 3.\n",
      "157/157 [==============================] - 12s 77ms/step - loss: 0.0656 - accuracy: 0.9761 - val_loss: 0.5827 - val_accuracy: 0.8584\n",
      "Epoch 6: early stopping\n"
     ]
    }
   ],
   "source": [
    "# Train the model\n",
    "\n",
    "Manual_RNN_start_time = time.time()\n",
    "\n",
    "history = model.fit(X_train, y_train, epochs = 10, batch_size = 128, validation_data = (X_test, y_test), callbacks = [checkpoint, early_stop])\n",
    "\n",
    "Manual_RNN_end_time = time.time()\n",
    "Manual_RNN_execution_time = Manual_RNN_end_time - Manual_RNN_start_time"
   ]
  },
  {
   "cell_type": "code",
   "execution_count": 4,
   "id": "e32bedec",
   "metadata": {},
   "outputs": [
    {
     "ename": "NameError",
     "evalue": "name 'model' is not defined",
     "output_type": "error",
     "traceback": [
      "\u001b[1;31m---------------------------------------------------------------------------\u001b[0m",
      "\u001b[1;31mNameError\u001b[0m                                 Traceback (most recent call last)",
      "Cell \u001b[1;32mIn[4], line 2\u001b[0m\n\u001b[0;32m      1\u001b[0m \u001b[38;5;66;03m# Model predictions\u001b[39;00m\n\u001b[1;32m----> 2\u001b[0m Manual_RNN_predictions \u001b[38;5;241m=\u001b[39m \u001b[43mmodel\u001b[49m\u001b[38;5;241m.\u001b[39mpredict(X_test)\n\u001b[0;32m      4\u001b[0m Manual_RNN_predictions_results \u001b[38;5;241m=\u001b[39m []\n\u001b[0;32m      5\u001b[0m \u001b[38;5;28;01mfor\u001b[39;00m i \u001b[38;5;129;01min\u001b[39;00m Manual_RNN_predictions:\n",
      "\u001b[1;31mNameError\u001b[0m: name 'model' is not defined"
     ]
    }
   ],
   "source": [
    "# Model predictions\n",
    "Manual_RNN_predictions = model.predict(X_test)\n",
    "\n",
    "Manual_RNN_predictions_results = []\n",
    "for i in Manual_RNN_predictions:\n",
    "  if i[0] >= 0.5:\n",
    "    Manual_RNN_predictions_results.append(1)\n",
    "  else:\n",
    "    Manual_RNN_predictions_results.append(0)\n",
    "\n",
    "# Model evaluation\n",
    "print('Manual RNN Training time: {} seconds'. format(round(Manual_RNN_execution_time, 2)))\n",
    "print('Manual RNN Accuracy score: ', format(accuracy_score(y_test, Manual_RNN_predictions_results)))\n",
    "print('Manual RNN Precision score: ', format(precision_score(y_test, Manual_RNN_predictions_results)))\n",
    "print('Manual RNN Recall score: ', format(recall_score(y_test, Manual_RNN_predictions_results)))\n",
    "print('Manual RNN F1 score: ', format(f1_score(y_test, Manual_RNN_predictions_results)))\n",
    "\n",
    "# Model evaluation dictionary\n",
    "Manual_RNN_results = {'Name': \"Manual RNN\", \n",
    "                 \"Training Time\": round(Manual_RNN_execution_time, 2),\n",
    "                 \"Accuracy score\": accuracy_score(y_test, Manual_RNN_predictions_results),\n",
    "                 \"Precision score\": precision_score(y_test, Manual_RNN_predictions_results),\n",
    "                 \"Recall score\": recall_score(y_test, Manual_RNN_predictions_results),\n",
    "                 \"F1 score\": f1_score(y_test, Manual_RNN_predictions_results)}"
   ]
  },
  {
   "cell_type": "code",
   "execution_count": null,
   "id": "81db30fd",
   "metadata": {},
   "outputs": [],
   "source": [
    "update_the_results_file(Manual_RNN_results)"
   ]
  },
  {
   "cell_type": "markdown",
   "id": "162b84ef",
   "metadata": {},
   "source": [
    "### Part 5. Universal Sentence encoder transfer learning"
   ]
  },
  {
   "cell_type": "code",
   "execution_count": 12,
   "id": "9e84cdcb",
   "metadata": {},
   "outputs": [],
   "source": [
    "# Train test split\n",
    "X_train, X_test, y_train, y_test = train_test_split(reviews, labels, test_size = 0.2, random_state = 1)\n",
    "\n",
    "X_train = np.array(X_train)\n",
    "X_test = np.array(X_test)\n",
    "\n",
    "y_train = np.array(y_train).reshape(20000, 1)\n",
    "y_test = np.array(y_test).reshape(5000, 1)"
   ]
  },
  {
   "cell_type": "code",
   "execution_count": 13,
   "id": "de4b6886",
   "metadata": {},
   "outputs": [
    {
     "name": "stdout",
     "output_type": "stream",
     "text": [
      "WARNING:tensorflow:Please fix your imports. Module tensorflow.python.training.tracking.data_structures has been moved to tensorflow.python.trackable.data_structures. The old module will be deleted in version 2.11.\n",
      "Model: \"sequential\"\n",
      "_________________________________________________________________\n",
      " Layer (type)                Output Shape              Param #   \n",
      "=================================================================\n",
      " keras_layer (KerasLayer)    (None, 512)               256797824 \n",
      "                                                                 \n",
      " dense_2 (Dense)             (None, 1024)              525312    \n",
      "                                                                 \n",
      " dense_3 (Dense)             (None, 1024)              1049600   \n",
      "                                                                 \n",
      " dense_4 (Dense)             (None, 1)                 1025      \n",
      "                                                                 \n",
      "=================================================================\n",
      "Total params: 258,373,761\n",
      "Trainable params: 1,575,937\n",
      "Non-trainable params: 256,797,824\n",
      "_________________________________________________________________\n"
     ]
    }
   ],
   "source": [
    "# Download the Universal Sentence encoder layer for transfer learning\n",
    "sentence_encoder_layer = hub.KerasLayer('https://tfhub.dev/google/universal-sentence-encoder/4',\n",
    "                                         input_shape = [],\n",
    "                                         dtype=tf.string,\n",
    "                                         trainable = False)\n",
    "\n",
    "# Model checkpoint callback\n",
    "checkpoint = ModelCheckpoint(filepath='best_sentence_encoder_model_IMDB.h5', \n",
    "                             monitor='val_loss', \n",
    "                             save_best_only=True,\n",
    "                             save_weights_only=False,\n",
    "                             mode='auto')\n",
    "\n",
    "# Early stopping callback\n",
    "early_stop = EarlyStopping(monitor='val_loss', \n",
    "                           patience=3, \n",
    "                           verbose=1, \n",
    "                           restore_best_weights=True)\n",
    "\n",
    "# Define the model\n",
    "model = Sequential([\n",
    "  sentence_encoder_layer,\n",
    "  Dense(1024, activation = 'relu'),\n",
    "  Dense(1024, activation = 'relu'),\n",
    "  Dense(1, activation = 'sigmoid')\n",
    "])\n",
    "\n",
    "model.compile(optimizer = tf.keras.optimizers.Adam(learning_rate = 0.001), loss = 'binary_crossentropy', metrics = ['accuracy'])\n",
    "\n",
    "model.summary()"
   ]
  },
  {
   "cell_type": "code",
   "execution_count": 14,
   "id": "ff06526c",
   "metadata": {},
   "outputs": [
    {
     "name": "stdout",
     "output_type": "stream",
     "text": [
      "Epoch 1/10\n",
      "157/157 [==============================] - 23s 132ms/step - loss: 0.3673 - accuracy: 0.8411 - val_loss: 0.3215 - val_accuracy: 0.8638\n",
      "Epoch 2/10\n",
      "157/157 [==============================] - 20s 129ms/step - loss: 0.3129 - accuracy: 0.8668 - val_loss: 0.3106 - val_accuracy: 0.8656\n",
      "Epoch 3/10\n",
      "157/157 [==============================] - 19s 120ms/step - loss: 0.2850 - accuracy: 0.8810 - val_loss: 0.3320 - val_accuracy: 0.8562\n",
      "Epoch 4/10\n",
      "157/157 [==============================] - 18s 112ms/step - loss: 0.2526 - accuracy: 0.9003 - val_loss: 0.3196 - val_accuracy: 0.8672\n",
      "Epoch 5/10\n",
      "156/157 [============================>.] - ETA: 0s - loss: 0.2074 - accuracy: 0.9210Restoring model weights from the end of the best epoch: 2.\n",
      "157/157 [==============================] - 19s 118ms/step - loss: 0.2073 - accuracy: 0.9210 - val_loss: 0.3601 - val_accuracy: 0.8638\n",
      "Epoch 5: early stopping\n"
     ]
    }
   ],
   "source": [
    "# Train the model\n",
    "\n",
    "Sentence_encoder_start_time = time.time()\n",
    "\n",
    "history = model.fit(X_train, y_train, epochs = 10, batch_size = 128, validation_data = (X_test, y_test), callbacks = [checkpoint, early_stop])\n",
    "\n",
    "Sentence_encoder_end_time = time.time()\n",
    "Sentence_encoder_execution_time = Sentence_encoder_end_time - Sentence_encoder_start_time"
   ]
  },
  {
   "cell_type": "code",
   "execution_count": 5,
   "id": "875e96b3",
   "metadata": {},
   "outputs": [
    {
     "ename": "NameError",
     "evalue": "name 'model' is not defined",
     "output_type": "error",
     "traceback": [
      "\u001b[1;31m---------------------------------------------------------------------------\u001b[0m",
      "\u001b[1;31mNameError\u001b[0m                                 Traceback (most recent call last)",
      "Cell \u001b[1;32mIn[5], line 2\u001b[0m\n\u001b[0;32m      1\u001b[0m \u001b[38;5;66;03m# Model predictions\u001b[39;00m\n\u001b[1;32m----> 2\u001b[0m Sentence_encoder_predictions \u001b[38;5;241m=\u001b[39m \u001b[43mmodel\u001b[49m\u001b[38;5;241m.\u001b[39mpredict(X_test)\n\u001b[0;32m      4\u001b[0m Sentence_encoder_predictions_results \u001b[38;5;241m=\u001b[39m []\n\u001b[0;32m      5\u001b[0m \u001b[38;5;28;01mfor\u001b[39;00m i \u001b[38;5;129;01min\u001b[39;00m Sentence_encoder_predictions:\n",
      "\u001b[1;31mNameError\u001b[0m: name 'model' is not defined"
     ]
    }
   ],
   "source": [
    "# Model predictions\n",
    "Sentence_encoder_predictions = model.predict(X_test)\n",
    "\n",
    "Sentence_encoder_predictions_results = []\n",
    "for i in Sentence_encoder_predictions:\n",
    "  if i[0] >= 0.5:\n",
    "    Sentence_encoder_predictions_results.append(1)\n",
    "  else:\n",
    "    Sentence_encoder_predictions_results.append(0)\n",
    "    \n",
    "# Model evaluation\n",
    "print('Sentence encoder Training time: {} seconds'. format(round(Sentence_encoder_execution_time, 2)))\n",
    "print('Sentence encoder Accuracy score: ', format(accuracy_score(y_test, Sentence_encoder_predictions_results)))\n",
    "print('Sentence encoder Precision score: ', format(precision_score(y_test, Sentence_encoder_predictions_results)))\n",
    "print('Sentence encoder Recall score: ', format(recall_score(y_test, Sentence_encoder_predictions_results)))\n",
    "print('Sentence encoder F1 score: ', format(f1_score(y_test, Sentence_encoder_predictions_results)))\n",
    "\n",
    "# Model evaluation dictionary\n",
    "Sentence_encoder_results = {'Name': \"Sentence encoder\", \n",
    "                 \"Training Time\": round(Sentence_encoder_execution_time, 2),\n",
    "                 \"Accuracy score\": accuracy_score(y_test, Sentence_encoder_predictions_results),\n",
    "                 \"Precision score\": precision_score(y_test, Sentence_encoder_predictions_results),\n",
    "                 \"Recall score\": recall_score(y_test, Sentence_encoder_predictions_results),\n",
    "                 \"F1 score\": f1_score(y_test, Sentence_encoder_predictions_results)}"
   ]
  },
  {
   "cell_type": "code",
   "execution_count": null,
   "id": "34b769dc",
   "metadata": {},
   "outputs": [],
   "source": [
    "update_the_results_file(Sentence_encoder_results)"
   ]
  },
  {
   "cell_type": "markdown",
   "id": "fa867f17",
   "metadata": {},
   "source": [
    "### Part 6. Roberta Huggingface model"
   ]
  },
  {
   "cell_type": "code",
   "execution_count": 17,
   "id": "c1a7af96",
   "metadata": {},
   "outputs": [
    {
     "name": "stderr",
     "output_type": "stream",
     "text": [
      "All model checkpoint layers were used when initializing TFRobertaForSequenceClassification.\n",
      "\n",
      "All the layers of TFRobertaForSequenceClassification were initialized from the model checkpoint at cardiffnlp/twitter-roberta-base-sentiment.\n",
      "If your task is similar to the task the model of the checkpoint was trained on, you can already use TFRobertaForSequenceClassification for predictions without further training.\n"
     ]
    }
   ],
   "source": [
    "# Download the pretrained model\n",
    "MODEL = f'cardiffnlp/twitter-roberta-base-sentiment'\n",
    "tokenizer = AutoTokenizer.from_pretrained(MODEL)\n",
    "model = TFAutoModelForSequenceClassification.from_pretrained(MODEL)"
   ]
  },
  {
   "cell_type": "code",
   "execution_count": 18,
   "id": "e5679c12",
   "metadata": {},
   "outputs": [],
   "source": [
    "# Auxillary polarity scores function\n",
    "def polarity_scores_roberta(example):\n",
    "  encoded_text = tokenizer(example, return_tensors = 'tf')\n",
    "  output = model(**encoded_text)\n",
    "  scores = output[0][0].numpy()\n",
    "  scores = softmax(scores)\n",
    "  scores_dict = {\n",
    "    'roberta_neg': scores[0],\n",
    "    'roberta_neu': scores[1],\n",
    "    'roberta_pos': scores[2]\n",
    "  }\n",
    "  return scores_dict"
   ]
  },
  {
   "cell_type": "code",
   "execution_count": 19,
   "id": "335ee772",
   "metadata": {},
   "outputs": [
    {
     "data": {
      "application/vnd.jupyter.widget-view+json": {
       "model_id": "a31bea19c0c64030a44e56ae8bb7cff2",
       "version_major": 2,
       "version_minor": 0
      },
      "text/plain": [
       "  0%|          | 0/25000 [00:00<?, ?it/s]"
      ]
     },
     "metadata": {},
     "output_type": "display_data"
    }
   ],
   "source": [
    "# Predict results with each of the rows in the dataframe\n",
    "\n",
    "Roberta_start_time = time.time()\n",
    "\n",
    "res = {}\n",
    "for i, row in tqdm(df.iterrows(), total = len(df)):\n",
    "    text = row['Text']\n",
    "    myid = row['Id']\n",
    "    vader_result = sia.polarity_scores(text)\n",
    "\n",
    "    vader_result_rename = {}\n",
    "    for key, value in vader_result.items():\n",
    "      vader_result_rename[f'vader_{key}'] = value\n",
    "\n",
    "    roberta_result = polarity_scores_roberta(text)\n",
    "    both_results = {**vader_result_rename, **roberta_result}\n",
    "    res[myid] = both_results\n",
    "    \n",
    "Roberta_end_time = time.time()\n",
    "Roberta_execution_time = Roberta_end_time - Roberta_start_time"
   ]
  },
  {
   "cell_type": "code",
   "execution_count": 20,
   "id": "f3a72993",
   "metadata": {},
   "outputs": [
    {
     "data": {
      "text/html": [
       "<div>\n",
       "<style scoped>\n",
       "    .dataframe tbody tr th:only-of-type {\n",
       "        vertical-align: middle;\n",
       "    }\n",
       "\n",
       "    .dataframe tbody tr th {\n",
       "        vertical-align: top;\n",
       "    }\n",
       "\n",
       "    .dataframe thead th {\n",
       "        text-align: right;\n",
       "    }\n",
       "</style>\n",
       "<table border=\"1\" class=\"dataframe\">\n",
       "  <thead>\n",
       "    <tr style=\"text-align: right;\">\n",
       "      <th></th>\n",
       "      <th>Id</th>\n",
       "      <th>vader_neg</th>\n",
       "      <th>vader_neu</th>\n",
       "      <th>vader_pos</th>\n",
       "      <th>vader_compound</th>\n",
       "      <th>roberta_neg</th>\n",
       "      <th>roberta_neu</th>\n",
       "      <th>roberta_pos</th>\n",
       "      <th>Text</th>\n",
       "      <th>Label</th>\n",
       "      <th>Predicted_Label</th>\n",
       "      <th>Roberta_Predictions</th>\n",
       "    </tr>\n",
       "  </thead>\n",
       "  <tbody>\n",
       "    <tr>\n",
       "      <th>0</th>\n",
       "      <td>1</td>\n",
       "      <td>0.044</td>\n",
       "      <td>0.916</td>\n",
       "      <td>0.041</td>\n",
       "      <td>-0.1027</td>\n",
       "      <td>0.676270</td>\n",
       "      <td>0.275635</td>\n",
       "      <td>0.047974</td>\n",
       "      <td>bromwell high is a cartoon comedy  it ran at t...</td>\n",
       "      <td>1</td>\n",
       "      <td>0</td>\n",
       "      <td>0</td>\n",
       "    </tr>\n",
       "    <tr>\n",
       "      <th>1</th>\n",
       "      <td>2</td>\n",
       "      <td>0.108</td>\n",
       "      <td>0.746</td>\n",
       "      <td>0.146</td>\n",
       "      <td>0.7003</td>\n",
       "      <td>0.397461</td>\n",
       "      <td>0.361816</td>\n",
       "      <td>0.240723</td>\n",
       "      <td>story of a man who has unnatural feelings for ...</td>\n",
       "      <td>0</td>\n",
       "      <td>1</td>\n",
       "      <td>0</td>\n",
       "    </tr>\n",
       "    <tr>\n",
       "      <th>2</th>\n",
       "      <td>3</td>\n",
       "      <td>0.120</td>\n",
       "      <td>0.733</td>\n",
       "      <td>0.147</td>\n",
       "      <td>0.9311</td>\n",
       "      <td>0.450928</td>\n",
       "      <td>0.481201</td>\n",
       "      <td>0.067932</td>\n",
       "      <td>homelessness  or houselessness as george carli...</td>\n",
       "      <td>1</td>\n",
       "      <td>1</td>\n",
       "      <td>0</td>\n",
       "    </tr>\n",
       "  </tbody>\n",
       "</table>\n",
       "</div>"
      ],
      "text/plain": [
       "   Id  vader_neg  vader_neu  vader_pos  vader_compound  roberta_neg  \\\n",
       "0   1      0.044      0.916      0.041         -0.1027     0.676270   \n",
       "1   2      0.108      0.746      0.146          0.7003     0.397461   \n",
       "2   3      0.120      0.733      0.147          0.9311     0.450928   \n",
       "\n",
       "   roberta_neu  roberta_pos  \\\n",
       "0     0.275635     0.047974   \n",
       "1     0.361816     0.240723   \n",
       "2     0.481201     0.067932   \n",
       "\n",
       "                                                Text  Label  Predicted_Label  \\\n",
       "0  bromwell high is a cartoon comedy  it ran at t...      1                0   \n",
       "1  story of a man who has unnatural feelings for ...      0                1   \n",
       "2  homelessness  or houselessness as george carli...      1                1   \n",
       "\n",
       "   Roberta_Predictions  \n",
       "0                    0  \n",
       "1                    0  \n",
       "2                    0  "
      ]
     },
     "execution_count": 20,
     "metadata": {},
     "output_type": "execute_result"
    }
   ],
   "source": [
    "# Save roberta model results\n",
    "roberta_results = []\n",
    "for i in range(1, len(df) + 1):\n",
    "  roberta_results.append(int(res[i]['roberta_pos'] > res[i]['roberta_neg']))\n",
    "  \n",
    "results_df = pd.DataFrame(res).T\n",
    "results_df = results_df.reset_index().rename(columns = {'index': 'Id'})\n",
    "results_df = results_df.merge(vaders, how = 'left')\n",
    "results_df.drop(['neg', 'neu', 'pos', 'compound'], axis = 1, inplace = True)\n",
    "\n",
    "results_df['Roberta_Predictions'] = results_df['roberta_pos'] > results_df['roberta_neg']\n",
    "results_df['Roberta_Predictions'] = results_df['Roberta_Predictions'].astype(int)\n",
    "results_df.head(3)"
   ]
  },
  {
   "cell_type": "code",
   "execution_count": 6,
   "id": "88457087",
   "metadata": {},
   "outputs": [
    {
     "ename": "NameError",
     "evalue": "name 'Roberta_execution_time' is not defined",
     "output_type": "error",
     "traceback": [
      "\u001b[1;31m---------------------------------------------------------------------------\u001b[0m",
      "\u001b[1;31mNameError\u001b[0m                                 Traceback (most recent call last)",
      "Cell \u001b[1;32mIn[6], line 2\u001b[0m\n\u001b[0;32m      1\u001b[0m \u001b[38;5;66;03m# Model evaluation\u001b[39;00m\n\u001b[1;32m----> 2\u001b[0m \u001b[38;5;28mprint\u001b[39m(\u001b[38;5;124m'\u001b[39m\u001b[38;5;124mRoberta Training time: \u001b[39m\u001b[38;5;132;01m{}\u001b[39;00m\u001b[38;5;124m seconds\u001b[39m\u001b[38;5;124m'\u001b[39m\u001b[38;5;241m.\u001b[39m \u001b[38;5;28mformat\u001b[39m(\u001b[38;5;28mround\u001b[39m(\u001b[43mRoberta_execution_time\u001b[49m, \u001b[38;5;241m2\u001b[39m)))\n\u001b[0;32m      3\u001b[0m \u001b[38;5;28mprint\u001b[39m(\u001b[38;5;124m'\u001b[39m\u001b[38;5;124mRoberta Accuracy score: \u001b[39m\u001b[38;5;124m'\u001b[39m, \u001b[38;5;28mformat\u001b[39m(accuracy_score(results_df[\u001b[38;5;124m'\u001b[39m\u001b[38;5;124mLabel\u001b[39m\u001b[38;5;124m'\u001b[39m], results_df[\u001b[38;5;124m'\u001b[39m\u001b[38;5;124mRoberta_Predictions\u001b[39m\u001b[38;5;124m'\u001b[39m])))\n\u001b[0;32m      4\u001b[0m \u001b[38;5;28mprint\u001b[39m(\u001b[38;5;124m'\u001b[39m\u001b[38;5;124mRoberta Precision score: \u001b[39m\u001b[38;5;124m'\u001b[39m, \u001b[38;5;28mformat\u001b[39m(precision_score(results_df[\u001b[38;5;124m'\u001b[39m\u001b[38;5;124mLabel\u001b[39m\u001b[38;5;124m'\u001b[39m], results_df[\u001b[38;5;124m'\u001b[39m\u001b[38;5;124mRoberta_Predictions\u001b[39m\u001b[38;5;124m'\u001b[39m])))\n",
      "\u001b[1;31mNameError\u001b[0m: name 'Roberta_execution_time' is not defined"
     ]
    }
   ],
   "source": [
    "# Model evaluation\n",
    "print('Roberta Training time: {} seconds'. format(round(Roberta_execution_time, 2)))\n",
    "print('Roberta Accuracy score: ', format(accuracy_score(results_df['Label'], results_df['Roberta_Predictions'])))\n",
    "print('Roberta Precision score: ', format(precision_score(results_df['Label'], results_df['Roberta_Predictions'])))\n",
    "print('Roberta Recall score: ', format(recall_score(results_df['Label'], results_df['Roberta_Predictions'])))\n",
    "print('Roberta F1 score: ', format(f1_score(results_df['Label'], results_df['Roberta_Predictions'])))\n",
    "\n",
    "# Model evaluation dictionary\n",
    "Roberta_results = {'Name': \"Roberta\", \n",
    "                 \"Training Time\": round(Roberta_execution_time, 2),\n",
    "                 \"Accuracy score\": accuracy_score(results_df['Label'], results_df['Roberta_Predictions']),\n",
    "                 \"Precision score\": precision_score(results_df['Label'], results_df['Roberta_Predictions']),\n",
    "                 \"Recall score\": recall_score(results_df['Label'], results_df['Roberta_Predictions']),\n",
    "                 \"F1 score\": f1_score(results_df['Label'], results_df['Roberta_Predictions'])}"
   ]
  },
  {
   "cell_type": "code",
   "execution_count": null,
   "id": "2c9bf656",
   "metadata": {},
   "outputs": [],
   "source": [
    "update_the_results_file(Roberta_results)"
   ]
  },
  {
   "cell_type": "markdown",
   "id": "ebb66038",
   "metadata": {},
   "source": [
    "### Part 7. Distilbert Fine Tuned huggingface (native tensorflow)"
   ]
  },
  {
   "cell_type": "code",
   "execution_count": 3,
   "id": "4fcf7abe",
   "metadata": {},
   "outputs": [
    {
     "data": {
      "application/vnd.jupyter.widget-view+json": {
       "model_id": "",
       "version_major": 2,
       "version_minor": 0
      },
      "text/plain": [
       "Map:   0%|          | 0/18750 [00:00<?, ? examples/s]"
      ]
     },
     "metadata": {},
     "output_type": "display_data"
    },
    {
     "data": {
      "application/vnd.jupyter.widget-view+json": {
       "model_id": "",
       "version_major": 2,
       "version_minor": 0
      },
      "text/plain": [
       "Map:   0%|          | 0/6250 [00:00<?, ? examples/s]"
      ]
     },
     "metadata": {},
     "output_type": "display_data"
    }
   ],
   "source": [
    "# Define huggingface dataset object and train test split\n",
    "ds = Dataset.from_dict({'reviews': reviews, 'labels': labels})\n",
    "dataset = ds.train_test_split()\n",
    "\n",
    "# Model name and hyperparameters\n",
    "checkpoint = 'distilbert-base-uncased'\n",
    "batch_size = 16\n",
    "max_length = 300\n",
    "\n",
    "# Tokenizer object\n",
    "tokenizer = AutoTokenizer.from_pretrained(checkpoint)\n",
    "\n",
    "# Tokenization auxillary function\n",
    "def tokenize_function(train_dataset):\n",
    "    return tokenizer(train_dataset['reviews'], padding='max_length', truncation=True, max_length = max_length)\n",
    "  \n",
    "# Tokenized dataset\n",
    "tokenized_dataset = dataset.map(tokenize_function, batched=True)\n",
    "train_dataset = tokenized_dataset['train']\n",
    "test_dataset = tokenized_dataset['test']\n",
    "train_dataset = train_dataset.remove_columns(['reviews']).with_format('tensorflow')\n",
    "test_dataset = test_dataset.remove_columns(['reviews']).with_format('tensorflow')\n",
    "\n",
    "# Training features and tensorflow dataset\n",
    "train_features = {x: train_dataset[x] for x in tokenizer.model_input_names}\n",
    "train_set = tf.data.Dataset.from_tensor_slices((train_features, train_dataset['labels'])).shuffle(1000).batch(batch_size)\n",
    "\n",
    "test_features = {x: test_dataset[x] for x in tokenizer.model_input_names}\n",
    "test_set = tf.data.Dataset.from_tensor_slices((test_features, test_dataset['labels'])).shuffle(1000).batch(batch_size)\n",
    "\n",
    "test_set_for_preds = tf.data.Dataset.from_tensor_slices((test_features, test_dataset['labels'])).batch(batch_size)"
   ]
  },
  {
   "cell_type": "code",
   "execution_count": 4,
   "id": "981f813b",
   "metadata": {},
   "outputs": [
    {
     "name": "stderr",
     "output_type": "stream",
     "text": [
      "Some layers from the model checkpoint at distilbert-base-uncased were not used when initializing TFDistilBertForSequenceClassification: ['activation_13', 'vocab_transform', 'vocab_layer_norm', 'vocab_projector']\n",
      "- This IS expected if you are initializing TFDistilBertForSequenceClassification from the checkpoint of a model trained on another task or with another architecture (e.g. initializing a BertForSequenceClassification model from a BertForPreTraining model).\n",
      "- This IS NOT expected if you are initializing TFDistilBertForSequenceClassification from the checkpoint of a model that you expect to be exactly identical (initializing a BertForSequenceClassification model from a BertForSequenceClassification model).\n",
      "Some layers of TFDistilBertForSequenceClassification were not initialized from the model checkpoint at distilbert-base-uncased and are newly initialized: ['classifier', 'pre_classifier', 'dropout_19']\n",
      "You should probably TRAIN this model on a down-stream task to be able to use it for predictions and inference.\n"
     ]
    }
   ],
   "source": [
    "# Download pretrained model from checkpoint (Only the head layer is trainable)\n",
    "model = TFAutoModelForSequenceClassification.from_pretrained(checkpoint, num_labels=2)\n",
    "model.layers[0].trainable = True\n",
    "\n",
    "# Model checkpoint callback\n",
    "checkpoint = ModelCheckpoint(filepath='HF_BERT_finetuned_tf_model_IMDB.h5', \n",
    "                             monitor='val_loss', \n",
    "                             save_best_only=True,\n",
    "                             save_weights_only=True,\n",
    "                             mode='auto')\n",
    "\n",
    "# Early stopping callback\n",
    "early_stop = EarlyStopping(monitor='val_loss', \n",
    "                           patience=3, \n",
    "                           verbose=1, \n",
    "                           restore_best_weights=True)\n",
    "\n",
    "# Model compilation\n",
    "model.compile(\n",
    "  optimizer = tf.keras.optimizers.Adam(learning_rate = 5e-6),\n",
    "  loss = tf.keras.losses.SparseCategoricalCrossentropy(from_logits = True),\n",
    "  metrics = ['accuracy']\n",
    ")"
   ]
  },
  {
   "cell_type": "code",
   "execution_count": 5,
   "id": "42a60609",
   "metadata": {},
   "outputs": [
    {
     "name": "stdout",
     "output_type": "stream",
     "text": [
      "Epoch 1/200\n",
      "1172/1172 [==============================] - 266s 221ms/step - loss: 0.3245 - accuracy: 0.8602 - val_loss: 0.2484 - val_accuracy: 0.8990\n",
      "Epoch 2/200\n",
      "1172/1172 [==============================] - 248s 212ms/step - loss: 0.2067 - accuracy: 0.9220 - val_loss: 0.2402 - val_accuracy: 0.9051\n",
      "Epoch 3/200\n",
      "1172/1172 [==============================] - 251s 214ms/step - loss: 0.1551 - accuracy: 0.9445 - val_loss: 0.2390 - val_accuracy: 0.9094\n",
      "Epoch 4/200\n",
      "1172/1172 [==============================] - 251s 214ms/step - loss: 0.1158 - accuracy: 0.9619 - val_loss: 0.3026 - val_accuracy: 0.8997\n",
      "Epoch 5/200\n",
      "1172/1172 [==============================] - 254s 217ms/step - loss: 0.0853 - accuracy: 0.9744 - val_loss: 0.3206 - val_accuracy: 0.8992\n",
      "Epoch 6/200\n",
      "1172/1172 [==============================] - ETA: 0s - loss: 0.0650 - accuracy: 0.9823Restoring model weights from the end of the best epoch: 3.\n",
      "1172/1172 [==============================] - 251s 214ms/step - loss: 0.0650 - accuracy: 0.9823 - val_loss: 0.3329 - val_accuracy: 0.8994\n",
      "Epoch 6: early stopping\n"
     ]
    }
   ],
   "source": [
    "HF_TF_finetuned_start_time = time.time()\n",
    "\n",
    "# Model finetuning\n",
    "history = model.fit(train_set,\n",
    "                   validation_data = test_set,\n",
    "                   epochs = 200,\n",
    "                   batch_size = batch_size,\n",
    "                   callbacks = [checkpoint, early_stop])\n",
    "\n",
    "HF_TF_finetuned_end_time = time.time()\n",
    "HF_TF_finetuned_execution_time = HF_TF_finetuned_end_time - HF_TF_finetuned_start_time"
   ]
  },
  {
   "cell_type": "code",
   "execution_count": 7,
   "id": "a73b3da1",
   "metadata": {},
   "outputs": [
    {
     "ename": "NameError",
     "evalue": "name 'model' is not defined",
     "output_type": "error",
     "traceback": [
      "\u001b[1;31m---------------------------------------------------------------------------\u001b[0m",
      "\u001b[1;31mNameError\u001b[0m                                 Traceback (most recent call last)",
      "Cell \u001b[1;32mIn[7], line 1\u001b[0m\n\u001b[1;32m----> 1\u001b[0m predictions \u001b[38;5;241m=\u001b[39m \u001b[43mmodel\u001b[49m\u001b[38;5;241m.\u001b[39mpredict(test_set_for_preds)\n\u001b[0;32m      2\u001b[0m predictions \u001b[38;5;241m=\u001b[39m tf\u001b[38;5;241m.\u001b[39mmath\u001b[38;5;241m.\u001b[39margmax(tf\u001b[38;5;241m.\u001b[39mnn\u001b[38;5;241m.\u001b[39msoftmax(predictions[\u001b[38;5;241m0\u001b[39m], axis \u001b[38;5;241m=\u001b[39m \u001b[38;5;241m-\u001b[39m\u001b[38;5;241m1\u001b[39m), axis \u001b[38;5;241m=\u001b[39m \u001b[38;5;241m-\u001b[39m\u001b[38;5;241m1\u001b[39m)\n\u001b[0;32m      3\u001b[0m predictions \u001b[38;5;241m=\u001b[39m tf\u001b[38;5;241m.\u001b[39mcast(predictions, dtype \u001b[38;5;241m=\u001b[39m tf\u001b[38;5;241m.\u001b[39mint32)\n",
      "\u001b[1;31mNameError\u001b[0m: name 'model' is not defined"
     ]
    }
   ],
   "source": [
    "predictions = model.predict(test_set_for_preds)\n",
    "predictions = tf.math.argmax(tf.nn.softmax(predictions[0], axis = -1), axis = -1)\n",
    "predictions = tf.cast(predictions, dtype = tf.int32)\n",
    "\n",
    "# Model evaluation\n",
    "print('HF_TF_finetuned Training time: {} seconds'. format(round(HF_TF_finetuned_execution_time, 2)))\n",
    "print('HF_TF_finetuned Accuracy score: ', format(accuracy_score(predictions, test_dataset['labels'])))\n",
    "print('HF_TF_finetuned Precision score: ', format(precision_score(predictions, test_dataset['labels'])))\n",
    "print('HF_TF_finetuned Recall score: ', format(recall_score(predictions, test_dataset['labels'])))\n",
    "print('HF_TF_finetuned F1 score: ', format(f1_score(predictions, test_dataset['labels'])))\n",
    "\n",
    "# Model evaluation dictionary\n",
    "HF_TF_finetuned_results = {'Name': \"HF_TF_finetuned\", \n",
    "                 \"Training Time\": round(HF_TF_finetuned_execution_time, 2),\n",
    "                 \"Accuracy score\": accuracy_score(predictions, test_dataset['labels']),\n",
    "                 \"Precision score\": precision_score(predictions, test_dataset['labels']),\n",
    "                 \"Recall score\": recall_score(predictions, test_dataset['labels']),\n",
    "                 \"F1 score\": f1_score(predictions, test_dataset['labels'])}"
   ]
  },
  {
   "cell_type": "code",
   "execution_count": null,
   "id": "e0d0e9a9",
   "metadata": {},
   "outputs": [],
   "source": [
    "update_the_results_file(HF_TF_finetuned_results)"
   ]
  },
  {
   "cell_type": "markdown",
   "id": "7194d140",
   "metadata": {},
   "source": [
    "### Part 8. Distilbert Fine Tuned huggingface (trainer object)"
   ]
  },
  {
   "cell_type": "code",
   "execution_count": 36,
   "id": "a22dafb4",
   "metadata": {},
   "outputs": [],
   "source": [
    "X_train, X_test, y_train, y_test = train_test_split(reviews, labels, test_size = 0.2, random_state = 1)"
   ]
  },
  {
   "cell_type": "code",
   "execution_count": 37,
   "id": "dd2467b5",
   "metadata": {},
   "outputs": [],
   "source": [
    "max_length = 300\n",
    "\n",
    "tokenizer = DistilBertTokenizerFast.from_pretrained('distilbert-base-uncased')\n",
    "\n",
    "train_encodings = tokenizer(X_train, truncation = True, padding = True, max_length = max_length)\n",
    "test_encodings = tokenizer(X_test, truncation = True, padding = True, max_length = max_length)\n",
    "\n",
    "train_dataset = tf.data.Dataset.from_tensor_slices((dict(train_encodings), y_train))\n",
    "test_dataset = tf.data.Dataset.from_tensor_slices((dict(test_encodings), y_test))"
   ]
  },
  {
   "cell_type": "code",
   "execution_count": 38,
   "id": "5ac9e8e0",
   "metadata": {},
   "outputs": [],
   "source": [
    "training_args = TFTrainingArguments(\n",
    "  output_dir = './results',\n",
    "  num_train_epochs = 10,\n",
    "  per_device_eval_batch_size = 4,\n",
    "  per_device_train_batch_size = 4,\n",
    "  warmup_steps = 500,\n",
    "  weight_decay = 0.01,\n",
    "  logging_dir = './logs',\n",
    "  logging_steps = 10,\n",
    "  eval_steps = 50,\n",
    ")"
   ]
  },
  {
   "cell_type": "code",
   "execution_count": 39,
   "id": "cc3d8ce0",
   "metadata": {},
   "outputs": [
    {
     "name": "stderr",
     "output_type": "stream",
     "text": [
      "Some layers from the model checkpoint at distilbert-base-uncased were not used when initializing TFDistilBertForSequenceClassification: ['activation_13', 'vocab_transform', 'vocab_layer_norm', 'vocab_projector']\n",
      "- This IS expected if you are initializing TFDistilBertForSequenceClassification from the checkpoint of a model trained on another task or with another architecture (e.g. initializing a BertForSequenceClassification model from a BertForPreTraining model).\n",
      "- This IS NOT expected if you are initializing TFDistilBertForSequenceClassification from the checkpoint of a model that you expect to be exactly identical (initializing a BertForSequenceClassification model from a BertForSequenceClassification model).\n",
      "Some layers of TFDistilBertForSequenceClassification were not initialized from the model checkpoint at distilbert-base-uncased and are newly initialized: ['dropout_119', 'classifier', 'pre_classifier']\n",
      "You should probably TRAIN this model on a down-stream task to be able to use it for predictions and inference.\n",
      "C:\\Users\\User\\anaconda3\\envs\\newtensorflow\\lib\\site-packages\\transformers\\trainer_tf.py:115: FutureWarning: The class `TFTrainer` is deprecated and will be removed in version 5 of Transformers. We recommend using native Keras instead, by calling methods like `fit()` and `predict()` directly on the model object. Detailed examples of the Keras style can be found in our examples at https://github.com/huggingface/transformers/tree/main/examples/tensorflow\n",
      "  warnings.warn(\n"
     ]
    }
   ],
   "source": [
    "HF_trainer_finetuned_start_time = time.time()\n",
    "\n",
    "with training_args.strategy.scope():\n",
    "  model = TFDistilBertForSequenceClassification.from_pretrained('distilbert-base-uncased')\n",
    "  \n",
    "trainer = TFTrainer(\n",
    "  model = model,\n",
    "  args = training_args,\n",
    "  train_dataset = train_dataset,\n",
    "  eval_dataset = test_dataset\n",
    ")\n",
    "\n",
    "trainer.train()\n",
    "\n",
    "HF_trainer_finetuned_end_time = time.time()\n",
    "HF_trainer_finetuned_execution_time = HF_trainer_finetuned_end_time - HF_trainer_finetuned_start_time"
   ]
  },
  {
   "cell_type": "code",
   "execution_count": 8,
   "id": "6fb4117d",
   "metadata": {},
   "outputs": [
    {
     "ename": "NameError",
     "evalue": "name 'trainer' is not defined",
     "output_type": "error",
     "traceback": [
      "\u001b[1;31m---------------------------------------------------------------------------\u001b[0m",
      "\u001b[1;31mNameError\u001b[0m                                 Traceback (most recent call last)",
      "Cell \u001b[1;32mIn[8], line 1\u001b[0m\n\u001b[1;32m----> 1\u001b[0m predictions \u001b[38;5;241m=\u001b[39m \u001b[43mtrainer\u001b[49m\u001b[38;5;241m.\u001b[39mpredict(test_dataset)\n\u001b[0;32m      2\u001b[0m predictions \u001b[38;5;241m=\u001b[39m tf\u001b[38;5;241m.\u001b[39mmath\u001b[38;5;241m.\u001b[39margmax(tf\u001b[38;5;241m.\u001b[39mnn\u001b[38;5;241m.\u001b[39msoftmax(predictions[\u001b[38;5;241m0\u001b[39m], axis \u001b[38;5;241m=\u001b[39m \u001b[38;5;241m-\u001b[39m\u001b[38;5;241m1\u001b[39m), axis \u001b[38;5;241m=\u001b[39m \u001b[38;5;241m-\u001b[39m\u001b[38;5;241m1\u001b[39m)\n\u001b[0;32m      4\u001b[0m \u001b[38;5;66;03m# Model evaluation\u001b[39;00m\n",
      "\u001b[1;31mNameError\u001b[0m: name 'trainer' is not defined"
     ]
    }
   ],
   "source": [
    "predictions = trainer.predict(test_dataset)\n",
    "predictions = tf.math.argmax(tf.nn.softmax(predictions[0], axis = -1), axis = -1)\n",
    "\n",
    "# Model evaluation\n",
    "print('HF_trainer_finetuned Training time: {} seconds'. format(round(HF_trainer_finetuned_execution_time, 2)))\n",
    "print('HF_trainer_finetuned Accuracy score: ', format(accuracy_score(predictions, y_test)))\n",
    "print('HF_trainer_finetuned Precision score: ', format(precision_score(predictions, y_test)))\n",
    "print('HF_trainer_finetuned Recall score: ', format(recall_score(predictions, y_test)))\n",
    "print('HF_trainer_finetuned F1 score: ', format(f1_score(predictions, y_test)))\n",
    "\n",
    "# Model evaluation dictionary\n",
    "HF_trainer_finetuned_results = {'Name': \"HF_trainer_finetuned\", \n",
    "                 \"Training Time\": round(HF_trainer_finetuned_execution_time, 2),\n",
    "                 \"Accuracy score\": accuracy_score(predictions, y_test),\n",
    "                 \"Precision score\": precision_score(predictions, y_test),\n",
    "                 \"Recall score\": recall_score(predictions, y_test),\n",
    "                 \"F1 score\": f1_score(predictions, y_test)}"
   ]
  },
  {
   "cell_type": "code",
   "execution_count": null,
   "id": "15ce2303",
   "metadata": {},
   "outputs": [],
   "source": [
    "update_the_results_file(HF_trainer_finetuned_results)"
   ]
  },
  {
   "cell_type": "markdown",
   "id": "ad51e72a",
   "metadata": {},
   "source": [
    "### Part 9. High level pipeline huggingface"
   ]
  },
  {
   "cell_type": "code",
   "execution_count": 5,
   "id": "dcec7b8f",
   "metadata": {},
   "outputs": [
    {
     "name": "stderr",
     "output_type": "stream",
     "text": [
      "No model was supplied, defaulted to distilbert-base-uncased-finetuned-sst-2-english and revision af0f99b (https://huggingface.co/distilbert-base-uncased-finetuned-sst-2-english).\n",
      "Using a pipeline without specifying a model name and revision in production is not recommended.\n",
      "Some layers from the model checkpoint at distilbert-base-uncased-finetuned-sst-2-english were not used when initializing TFDistilBertForSequenceClassification: ['dropout_19']\n",
      "- This IS expected if you are initializing TFDistilBertForSequenceClassification from the checkpoint of a model trained on another task or with another architecture (e.g. initializing a BertForSequenceClassification model from a BertForPreTraining model).\n",
      "- This IS NOT expected if you are initializing TFDistilBertForSequenceClassification from the checkpoint of a model that you expect to be exactly identical (initializing a BertForSequenceClassification model from a BertForSequenceClassification model).\n",
      "Some layers of TFDistilBertForSequenceClassification were not initialized from the model checkpoint at distilbert-base-uncased-finetuned-sst-2-english and are newly initialized: ['dropout_59']\n",
      "You should probably TRAIN this model on a down-stream task to be able to use it for predictions and inference.\n",
      "Token indices sequence length is longer than the specified maximum sequence length for this model (818 > 512). Running this sequence through the model will result in indexing errors\n"
     ]
    },
    {
     "name": "stdout",
     "output_type": "stream",
     "text": [
      "0\n",
      "1000\n",
      "2000\n",
      "3000\n",
      "4000\n",
      "5000\n",
      "6000\n",
      "7000\n",
      "8000\n",
      "9000\n",
      "10000\n",
      "11000\n",
      "12000\n",
      "13000\n",
      "14000\n",
      "15000\n",
      "16000\n",
      "17000\n",
      "18000\n",
      "19000\n",
      "20000\n",
      "21000\n",
      "22000\n",
      "23000\n",
      "24000\n"
     ]
    },
    {
     "data": {
      "text/plain": [
       "2024.9564533233643"
      ]
     },
     "execution_count": 5,
     "metadata": {},
     "output_type": "execute_result"
    }
   ],
   "source": [
    "classifier = pipeline('sentiment-analysis', device = 0)\n",
    "\n",
    "HF_pipeline_start_time = time.time()\n",
    "results = []\n",
    "for i in range(len(reviews)):\n",
    "  results.append(classifier(reviews[i]))\n",
    "  if i % 1000 == 0:\n",
    "    print(i)\n",
    "HF_pipeline_end_time = time.time()\n",
    "HF_pipeline_execution_time = HF_pipeline_end_time - HF_pipeline_start_time\n",
    "HF_pipeline_execution_time"
   ]
  },
  {
   "cell_type": "code",
   "execution_count": 9,
   "id": "fdd55d37",
   "metadata": {},
   "outputs": [
    {
     "ename": "NameError",
     "evalue": "name 'results' is not defined",
     "output_type": "error",
     "traceback": [
      "\u001b[1;31m---------------------------------------------------------------------------\u001b[0m",
      "\u001b[1;31mNameError\u001b[0m                                 Traceback (most recent call last)",
      "Cell \u001b[1;32mIn[9], line 2\u001b[0m\n\u001b[0;32m      1\u001b[0m preds \u001b[38;5;241m=\u001b[39m []\n\u001b[1;32m----> 2\u001b[0m \u001b[38;5;28;01mfor\u001b[39;00m result \u001b[38;5;129;01min\u001b[39;00m \u001b[43mresults\u001b[49m:\n\u001b[0;32m      3\u001b[0m   \u001b[38;5;28;01mif\u001b[39;00m result[\u001b[38;5;241m0\u001b[39m][\u001b[38;5;124m'\u001b[39m\u001b[38;5;124mlabel\u001b[39m\u001b[38;5;124m'\u001b[39m] \u001b[38;5;241m==\u001b[39m \u001b[38;5;124m\"\u001b[39m\u001b[38;5;124mPOSITIVE\u001b[39m\u001b[38;5;124m\"\u001b[39m:\n\u001b[0;32m      4\u001b[0m     preds\u001b[38;5;241m.\u001b[39mappend(\u001b[38;5;241m1\u001b[39m)\n",
      "\u001b[1;31mNameError\u001b[0m: name 'results' is not defined"
     ]
    }
   ],
   "source": [
    "preds = []\n",
    "for result in results:\n",
    "  if result[0]['label'] == \"POSITIVE\":\n",
    "    preds.append(1)\n",
    "  else:\n",
    "    preds.append(0)\n",
    "    \n",
    "# Model evaluation\n",
    "print('HF_pipeline Training time: {} seconds'. format(round(HF_pipeline_execution_time, 2)))\n",
    "print('HF_pipeline Accuracy score: ', format(accuracy_score(preds, labels)))\n",
    "print('HF_pipeline Precision score: ', format(precision_score(preds, labels)))\n",
    "print('HF_pipeline Recall score: ', format(recall_score(preds, labels)))\n",
    "print('HF_pipeline F1 score: ', format(f1_score(preds, labels)))\n",
    "\n",
    "# Model evaluation dictionary\n",
    "HF_pipeline_results = {'Name': \"HF_pipeline\", \n",
    "                 \"Training Time\": round(HF_pipeline_execution_time, 2),\n",
    "                 \"Accuracy score\": accuracy_score(preds, labels),\n",
    "                 \"Precision score\": precision_score(preds, labels),\n",
    "                 \"Recall score\": recall_score(preds, labels),\n",
    "                 \"F1 score\": f1_score(preds, labels)}"
   ]
  },
  {
   "cell_type": "code",
   "execution_count": 74,
   "id": "1273d9e0",
   "metadata": {},
   "outputs": [
    {
     "ename": "NameError",
     "evalue": "name 'HF_pipeline_results' is not defined",
     "output_type": "error",
     "traceback": [
      "\u001b[1;31m---------------------------------------------------------------------------\u001b[0m",
      "\u001b[1;31mNameError\u001b[0m                                 Traceback (most recent call last)",
      "Cell \u001b[1;32mIn[74], line 1\u001b[0m\n\u001b[1;32m----> 1\u001b[0m update_the_results_file(\u001b[43mHF_pipeline_results\u001b[49m)\n",
      "\u001b[1;31mNameError\u001b[0m: name 'HF_pipeline_results' is not defined"
     ]
    }
   ],
   "source": [
    "update_the_results_file(HF_pipeline_results)"
   ]
  },
  {
   "cell_type": "markdown",
   "id": "c31268d7",
   "metadata": {},
   "source": [
    "### Part 10. Fasttext classifier"
   ]
  },
  {
   "cell_type": "code",
   "execution_count": 63,
   "id": "44eeface",
   "metadata": {},
   "outputs": [],
   "source": [
    "df = pd.DataFrame({'label' : labels, 'review': reviews})\n",
    "df['label_upd'] = '__label__' + df['label'].astype(str)\n",
    "df['label_review'] = df['label_upd'] + ' ' + df['review']\n",
    "\n",
    "def preprocess(text):\n",
    "    text = re.sub(r'[^\\w\\s\\']',' ', text)\n",
    "    text = re.sub(' +', ' ', text)\n",
    "    return text.strip().lower()\n",
    "  \n",
    "df['label_review'] = df['label_review'].map(preprocess)\n",
    "\n",
    "train, test = train_test_split(df, test_size = 0.2, random_state = 1)\n",
    "\n",
    "train.to_csv('imdb.train', columns = ['label_review'], index = False, header = False)\n",
    "test.to_csv('imdb.test', columns = ['label_review'], index = False, header = False)\n",
    "\n",
    "Fasttext_start_time = time.time()\n",
    "\n",
    "model = fasttext.train_supervised(input = 'imdb.train')\n",
    "\n",
    "Fasttext_end_time = time.time()\n",
    "Fasttext_execution_time = Fasttext_end_time - Fasttext_start_time"
   ]
  },
  {
   "cell_type": "code",
   "execution_count": 65,
   "id": "8bd0a7d6",
   "metadata": {},
   "outputs": [
    {
     "name": "stdout",
     "output_type": "stream",
     "text": [
      "Fasttext Training time: 0.99 seconds\n",
      "Fasttext Accuracy score:  0.8688\n",
      "Fasttext Precision score:  0.887713588283157\n",
      "Fasttext Recall score:  0.8516783762685401\n",
      "Fasttext F1 score:  0.8693227091633466\n"
     ]
    }
   ],
   "source": [
    "predictions = model.predict(list(test['review'].values))\n",
    "\n",
    "preds = []\n",
    "for pred in predictions[0]:\n",
    "  if pred == ['__label__1']:\n",
    "    preds.append(1)\n",
    "  else:\n",
    "    preds.append(0)\n",
    "    \n",
    "# Model evaluation\n",
    "print('Fasttext Training time: {} seconds'. format(round(Fasttext_execution_time, 2)))\n",
    "print('Fasttext Accuracy score: ', format(accuracy_score(preds, test['label'])))\n",
    "print('Fasttext Precision score: ', format(precision_score(preds, test['label'])))\n",
    "print('Fasttext Recall score: ', format(recall_score(preds, test['label'])))\n",
    "print('Fasttext F1 score: ', format(f1_score(preds, test['label'])))\n",
    "\n",
    "# Model evaluation dictionary\n",
    "Fasttext_results = {'Name': \"Fasttext\", \n",
    "                 \"Training Time\": round(Fasttext_execution_time, 2),\n",
    "                 \"Accuracy score\": accuracy_score(preds, test['label']),\n",
    "                 \"Precision score\": precision_score(preds, test['label']),\n",
    "                 \"Recall score\": recall_score(preds, test['label']),\n",
    "                 \"F1 score\": f1_score(preds, test['label'])}"
   ]
  },
  {
   "cell_type": "code",
   "execution_count": 79,
   "id": "f9b22c29",
   "metadata": {},
   "outputs": [
    {
     "ename": "SyntaxError",
     "evalue": "positional argument follows keyword argument (2118727283.py, line 1)",
     "output_type": "error",
     "traceback": [
      "\u001b[1;36m  Cell \u001b[1;32mIn[79], line 1\u001b[1;36m\u001b[0m\n\u001b[1;33m    update_the_results_file(filename = filename, Fasttext_results)\u001b[0m\n\u001b[1;37m                                                                 ^\u001b[0m\n\u001b[1;31mSyntaxError\u001b[0m\u001b[1;31m:\u001b[0m positional argument follows keyword argument\n"
     ]
    }
   ],
   "source": [
    "update_the_results_file(Fasttext_results)"
   ]
  },
  {
   "cell_type": "markdown",
   "id": "6c8e89e5",
   "metadata": {},
   "source": [
    "### All models summary"
   ]
  },
  {
   "cell_type": "code",
   "execution_count": 90,
   "id": "d8263654",
   "metadata": {},
   "outputs": [
    {
     "data": {
      "text/html": [
       "<div>\n",
       "<style scoped>\n",
       "    .dataframe tbody tr th:only-of-type {\n",
       "        vertical-align: middle;\n",
       "    }\n",
       "\n",
       "    .dataframe tbody tr th {\n",
       "        vertical-align: top;\n",
       "    }\n",
       "\n",
       "    .dataframe thead th {\n",
       "        text-align: right;\n",
       "    }\n",
       "</style>\n",
       "<table border=\"1\" class=\"dataframe\">\n",
       "  <thead>\n",
       "    <tr style=\"text-align: right;\">\n",
       "      <th></th>\n",
       "      <th>Name</th>\n",
       "      <th>Training Time</th>\n",
       "      <th>Accuracy score</th>\n",
       "      <th>Precision score</th>\n",
       "      <th>Recall score</th>\n",
       "      <th>F1 score</th>\n",
       "    </tr>\n",
       "  </thead>\n",
       "  <tbody>\n",
       "    <tr>\n",
       "      <th>0</th>\n",
       "      <td>MultinomialNB CountVectorizer</td>\n",
       "      <td>2.21</td>\n",
       "      <td>0.85820</td>\n",
       "      <td>0.862112</td>\n",
       "      <td>0.847030</td>\n",
       "      <td>0.854504</td>\n",
       "    </tr>\n",
       "    <tr>\n",
       "      <th>1</th>\n",
       "      <td>MultinomialNB tfidf</td>\n",
       "      <td>2.18</td>\n",
       "      <td>0.86400</td>\n",
       "      <td>0.858757</td>\n",
       "      <td>0.865745</td>\n",
       "      <td>0.862237</td>\n",
       "    </tr>\n",
       "    <tr>\n",
       "      <th>2</th>\n",
       "      <td>Vaders Analyser</td>\n",
       "      <td>35.96</td>\n",
       "      <td>0.69088</td>\n",
       "      <td>0.643510</td>\n",
       "      <td>0.855920</td>\n",
       "      <td>0.734670</td>\n",
       "    </tr>\n",
       "    <tr>\n",
       "      <th>3</th>\n",
       "      <td>Manual RNN</td>\n",
       "      <td>88.80</td>\n",
       "      <td>0.87080</td>\n",
       "      <td>0.837054</td>\n",
       "      <td>0.915378</td>\n",
       "      <td>0.874466</td>\n",
       "    </tr>\n",
       "    <tr>\n",
       "      <th>4</th>\n",
       "      <td>Sentence encoder</td>\n",
       "      <td>98.50</td>\n",
       "      <td>0.86580</td>\n",
       "      <td>0.868150</td>\n",
       "      <td>0.857201</td>\n",
       "      <td>0.862641</td>\n",
       "    </tr>\n",
       "    <tr>\n",
       "      <th>5</th>\n",
       "      <td>Roberta</td>\n",
       "      <td>3602.97</td>\n",
       "      <td>0.85152</td>\n",
       "      <td>0.865618</td>\n",
       "      <td>0.832240</td>\n",
       "      <td>0.848601</td>\n",
       "    </tr>\n",
       "    <tr>\n",
       "      <th>6</th>\n",
       "      <td>HF_TF_finetuned</td>\n",
       "      <td>1520.93</td>\n",
       "      <td>0.90928</td>\n",
       "      <td>0.911830</td>\n",
       "      <td>0.908660</td>\n",
       "      <td>0.910242</td>\n",
       "    </tr>\n",
       "    <tr>\n",
       "      <th>7</th>\n",
       "      <td>HF_trainer_finetuned</td>\n",
       "      <td>320.79</td>\n",
       "      <td>0.90980</td>\n",
       "      <td>0.921888</td>\n",
       "      <td>0.897426</td>\n",
       "      <td>0.909492</td>\n",
       "    </tr>\n",
       "    <tr>\n",
       "      <th>8</th>\n",
       "      <td>HF_pipeline</td>\n",
       "      <td>2024.96</td>\n",
       "      <td>0.85864</td>\n",
       "      <td>0.775920</td>\n",
       "      <td>0.929735</td>\n",
       "      <td>0.845892</td>\n",
       "    </tr>\n",
       "    <tr>\n",
       "      <th>9</th>\n",
       "      <td>Fasttext</td>\n",
       "      <td>0.99</td>\n",
       "      <td>0.86880</td>\n",
       "      <td>0.887714</td>\n",
       "      <td>0.851678</td>\n",
       "      <td>0.869323</td>\n",
       "    </tr>\n",
       "  </tbody>\n",
       "</table>\n",
       "</div>"
      ],
      "text/plain": [
       "                            Name  Training Time  Accuracy score  \\\n",
       "0  MultinomialNB CountVectorizer           2.21         0.85820   \n",
       "1            MultinomialNB tfidf           2.18         0.86400   \n",
       "2                Vaders Analyser          35.96         0.69088   \n",
       "3                     Manual RNN          88.80         0.87080   \n",
       "4               Sentence encoder          98.50         0.86580   \n",
       "5                        Roberta        3602.97         0.85152   \n",
       "6                HF_TF_finetuned        1520.93         0.90928   \n",
       "7           HF_trainer_finetuned         320.79         0.90980   \n",
       "8                    HF_pipeline        2024.96         0.85864   \n",
       "9                       Fasttext           0.99         0.86880   \n",
       "\n",
       "   Precision score  Recall score  F1 score  \n",
       "0         0.862112      0.847030  0.854504  \n",
       "1         0.858757      0.865745  0.862237  \n",
       "2         0.643510      0.855920  0.734670  \n",
       "3         0.837054      0.915378  0.874466  \n",
       "4         0.868150      0.857201  0.862641  \n",
       "5         0.865618      0.832240  0.848601  \n",
       "6         0.911830      0.908660  0.910242  \n",
       "7         0.921888      0.897426  0.909492  \n",
       "8         0.775920      0.929735  0.845892  \n",
       "9         0.887714      0.851678  0.869323  "
      ]
     },
     "execution_count": 90,
     "metadata": {},
     "output_type": "execute_result"
    }
   ],
   "source": [
    "# Create a DataFrame with a summary for all models and KPIs\n",
    "\n",
    "file_name = filename\n",
    "\n",
    "with open(file_name, 'rb') as f:\n",
    "    results_dict_list = pickle.load(f)\n",
    "df = pd.DataFrame(results_dict_list)\n",
    "df"
   ]
  },
  {
   "cell_type": "code",
   "execution_count": 91,
   "id": "4b994834",
   "metadata": {},
   "outputs": [
    {
     "data": {
      "image/png": "[encoded data removed]",
      "text/plain": [
       "<Figure size 640x480 with 1 Axes>"
      ]
     },
     "metadata": {},
     "output_type": "display_data"
    }
   ],
   "source": [
    "# Training time\n",
    "df.plot(kind='bar', x='Name', y='Training Time')\n",
    "plt.title(\"Training time (seconds)\")\n",
    "plt.legend().remove()"
   ]
  },
  {
   "cell_type": "code",
   "execution_count": 92,
   "id": "ef3b7d52",
   "metadata": {},
   "outputs": [
    {
     "data": {
      "image/png": "[encoded data removed]",
      "text/plain": [
       "<Figure size 640x480 with 1 Axes>"
      ]
     },
     "metadata": {},
     "output_type": "display_data"
    }
   ],
   "source": [
    "# Accuracy\n",
    "df.plot(kind='bar', x='Name', y='Accuracy score', color = 'green')\n",
    "plt.title(\"Accuracy %\")\n",
    "plt.legend().remove()"
   ]
  },
  {
   "cell_type": "code",
   "execution_count": 36,
   "id": "73ef7b19",
   "metadata": {},
   "outputs": [
    {
     "data": {
      "image/png": "[encoded data removed]",
      "text/plain": [
       "<Figure size 640x480 with 1 Axes>"
      ]
     },
     "metadata": {},
     "output_type": "display_data"
    }
   ],
   "source": [
    "# F1 Scores\n",
    "df.plot(kind='bar', x='Name', y='F1 score', color = 'blue')\n",
    "plt.title(\"F1 Score\")\n",
    "plt.legend().remove()"
   ]
  },
  {
   "cell_type": "code",
   "execution_count": null,
   "id": "af06ecf2",
   "metadata": {},
   "outputs": [],
   "source": []
  },
  {
   "cell_type": "code",
   "execution_count": null,
   "id": "2f8ad8f7",
   "metadata": {},
   "outputs": [],
   "source": []
  }
 ],
 "metadata": {
  "kernelspec": {
   "display_name": "Python 3 (ipykernel)",
   "language": "python",
   "name": "python3"
  },
  "language_info": {
   "codemirror_mode": {
    "name": "ipython",
    "version": 3
   },
   "file_extension": ".py",
   "mimetype": "text/x-python",
   "name": "python",
   "nbconvert_exporter": "python",
   "pygments_lexer": "ipython3",
   "version": "3.9.16"
  }
 },
 "nbformat": 4,
 "nbformat_minor": 5
}
