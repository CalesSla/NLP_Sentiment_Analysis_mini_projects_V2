{
 "cells": [
  {
   "cell_type": "markdown",
   "id": "0acea3c7",
   "metadata": {},
   "source": [
    "# IMBD reviews model selection"
   ]
  },
  {
   "cell_type": "code",
   "execution_count": 13,
   "id": "11a01a2b",
   "metadata": {},
   "outputs": [
    {
     "name": "stderr",
     "output_type": "stream",
     "text": [
      "[nltk_data] Downloading package stopwords to\n",
      "[nltk_data]     C:\\Users\\User\\AppData\\Roaming\\nltk_data...\n",
      "[nltk_data]   Package stopwords is already up-to-date!\n"
     ]
    }
   ],
   "source": [
    "# Dependencies\n",
    "\n",
    "import pandas as pd\n",
    "import numpy as np\n",
    "import matplotlib.pyplot as plt\n",
    "import seaborn as sns\n",
    "import nltk\n",
    "from nltk.sentiment import SentimentIntensityAnalyzer\n",
    "from tqdm.notebook import tqdm\n",
    "import numpy as np\n",
    "import tensorflow as tf\n",
    "import nltk\n",
    "from collections import Counter\n",
    "import string\n",
    "import itertools\n",
    "nltk.download('stopwords')\n",
    "from nltk.corpus import stopwords\n",
    "stop_words = set(stopwords.words('english'))\n",
    "from nltk import PorterStemmer\n",
    "from nltk.stem.wordnet import WordNetLemmatizer\n",
    "import tensorflow_text as text\n",
    "import tensorflow_hub as hub\n",
    "from sklearn.feature_extraction.text import CountVectorizer, TfidfVectorizer\n",
    "from sklearn.model_selection import train_test_split\n",
    "from sklearn.naive_bayes import MultinomialNB, GaussianNB\n",
    "from sklearn.metrics import accuracy_score, precision_score, recall_score, f1_score\n",
    "import time\n",
    "\n",
    "plt.style.use('ggplot')"
   ]
  },
  {
   "cell_type": "markdown",
   "id": "0c47d82f",
   "metadata": {},
   "source": [
    "### Data preprocessing"
   ]
  },
  {
   "cell_type": "code",
   "execution_count": 14,
   "id": "7e3d3421",
   "metadata": {},
   "outputs": [],
   "source": []
  },
  {
   "cell_type": "code",
   "execution_count": 19,
   "id": "c9641546",
   "metadata": {},
   "outputs": [
    {
     "name": "stdout",
     "output_type": "stream",
     "text": [
      "MultinomialNB CountVectorizer Training time: 2.07 seconds\n",
      "MultinomialNB CountVectorizer Accuracy score:  0.863627274545091\n",
      "MultinomialNB CountVectorizer Precision score:  0.8777546777546777\n",
      "MultinomialNB CountVectorizer Recall score:  0.8447378951580632\n",
      "MultinomialNB CountVectorizer F1 score:  0.8609298531810766\n"
     ]
    }
   ],
   "source": [
    "# Train test split\n",
    "X_train, X_test, y_train, y_test = train_test_split(reviews, labels, test_size = 0.2, random_state = 1)\n",
    "\n",
    "MultinomialNB_CountVectorizer_start_time = time.time()\n",
    "\n",
    "# Count vectorizer feature transformation\n",
    "count_vector = CountVectorizer(stop_words = 'english', binary = False)\n",
    "\n",
    "training_data = count_vector.fit_transform(X_train)\n",
    "test_data = count_vector.transform(X_test)\n",
    "\n",
    "# Multinomial Naive Bayes model predictions\n",
    "naive_bayes = MultinomialNB()\n",
    "naive_bayes.fit(training_data, y_train)\n",
    "\n",
    "MultinomialNB_CountVectorizer_predictions = naive_bayes.predict(test_data)\n",
    "MultinomialNB_CountVectorizer_end_time = time.time()\n",
    "\n",
    "MultinomialNB_CountVectorizer_execution_time = MultinomialNB_CountVectorizer_end_time - MultinomialNB_CountVectorizer_start_time\n",
    "\n",
    "# Model evaluation\n",
    "print('MultinomialNB CountVectorizer Training time: {} seconds'. format(round(MultinomialNB_CountVectorizer_execution_time, 2)))\n",
    "print('MultinomialNB CountVectorizer Accuracy score: ', format(accuracy_score(y_test, MultinomialNB_CountVectorizer_predictions)))\n",
    "print('MultinomialNB CountVectorizer Precision score: ', format(precision_score(y_test, MultinomialNB_CountVectorizer_predictions)))\n",
    "print('MultinomialNB CountVectorizer Recall score: ', format(recall_score(y_test, MultinomialNB_CountVectorizer_predictions)))\n",
    "print('MultinomialNB CountVectorizer F1 score: ', format(f1_score(y_test, MultinomialNB_CountVectorizer_predictions)))"
   ]
  },
  {
   "cell_type": "code",
   "execution_count": 20,
   "id": "113971be",
   "metadata": {},
   "outputs": [
    {
     "name": "stdout",
     "output_type": "stream",
     "text": [
      "a1604c4 add part 2 - tfidf\n",
      "efeff6e Sentiment analysis Bayesian inference on IMDB\n",
      "ef5fa8a initial commit\n"
     ]
    }
   ],
   "source": [
    "!git add .\n",
    "!git commit -m \"add\""
   ]
  },
  {
   "cell_type": "code",
   "execution_count": null,
   "id": "5b5bcab0",
   "metadata": {},
   "outputs": [],
   "source": []
  }
 ],
 "metadata": {
  "kernelspec": {
   "display_name": "Python 3 (ipykernel)",
   "language": "python",
   "name": "python3"
  },
  "language_info": {
   "codemirror_mode": {
    "name": "ipython",
    "version": 3
   },
   "file_extension": ".py",
   "mimetype": "text/x-python",
   "name": "python",
   "nbconvert_exporter": "python",
   "pygments_lexer": "ipython3",
   "version": "3.9.16"
  }
 },
 "nbformat": 4,
 "nbformat_minor": 5
}
